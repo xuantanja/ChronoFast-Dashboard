{
 "cells": [
  {
   "cell_type": "code",
   "execution_count": null,
   "id": "0b3cd6d0",
   "metadata": {},
   "outputs": [],
   "source": [
    "\n",
    "import pandas as pd\n",
    "import datetime as datetime\n",
    "from datetime import date\n",
    "import numpy as np\n",
    "from IPython.display import display, HTML\n",
    "display(HTML(\"<style>.container { width:100% !important; }</style>\"))\n",
    "\n",
    "from numpy import mean\n",
    "from numpy import absolute\n",
    "from numpy import sqrt\n",
    "import pandas as pd\n",
    "\n",
    "import numpy as np\n",
    "from datetime import datetime\n",
    "from datetime import datetime, timedelta\n"
   ]
  },
  {
   "cell_type": "code",
   "execution_count": null,
   "id": "38ea8ea4",
   "metadata": {},
   "outputs": [],
   "source": [
    "df_merged_all = pd.read_csv('df_hutchison_4h.csv', sep='\\t')\n"
   ]
  },
  {
   "cell_type": "code",
   "execution_count": null,
   "id": "6cfa1b19",
   "metadata": {},
   "outputs": [],
   "source": [
    "df_merged_all = pd.read_csv('df_overnight_and_PRO.csv', sep='\\t')\n"
   ]
  },
  {
   "cell_type": "code",
   "execution_count": null,
   "id": "55a1ed6f",
   "metadata": {},
   "outputs": [],
   "source": [
    "df_merged_all['time'] = pd.to_datetime(df_merged_all['time'] ,errors = 'coerce')\n",
    "\n",
    "df_merged_all = df_merged_all.reset_index(drop=True)\n",
    "df_merged_all = df_merged_all.drop([\"Unnamed: 0\", \"joinID\"], axis=1)\n",
    "\n",
    "df_merged_all = df_merged_all.rename(columns={'label': 'fasting_state'})\n",
    "\n",
    "\n",
    "fasting_states_to_keep = ['fasting', 'non-fasting']\n",
    "df_merged_all = df_merged_all[df_merged_all.fasting_state.isin(fasting_states_to_keep)]\n",
    "\n",
    "final_df = df_merged_all.sort_values(by=['id', 'time'], ascending=True)\n",
    "final_df['Day'] = final_df[\"time\"].dt.date"
   ]
  },
  {
   "cell_type": "markdown",
   "id": "28973f23",
   "metadata": {},
   "source": [
    "## Olga Anfrage"
   ]
  },
  {
   "cell_type": "code",
   "execution_count": null,
   "id": "649f9c07",
   "metadata": {},
   "outputs": [],
   "source": [
    "hutch_df = final_df"
   ]
  },
  {
   "cell_type": "code",
   "execution_count": null,
   "id": "7a30d6f0",
   "metadata": {},
   "outputs": [],
   "source": [
    "map_dict = {\"non-fasting\": 1, \"fasting\":0}\n",
    "hutch_df[\"fasting_state\"] = hutch_df[\"fasting_state\"].map(map_dict)\n"
   ]
  },
  {
   "cell_type": "code",
   "execution_count": null,
   "id": "449dbb59",
   "metadata": {},
   "outputs": [],
   "source": [
    "hutch_df['temp'] = hutch_df['fasting_state'].diff()"
   ]
  },
  {
   "cell_type": "code",
   "execution_count": null,
   "id": "b4aaff21",
   "metadata": {},
   "outputs": [],
   "source": [
    "hutch_df['temp'] = hutch_df['temp'].replace({'0':np.nan, 0:np.nan})"
   ]
  },
  {
   "cell_type": "code",
   "execution_count": null,
   "id": "e912eb2b",
   "metadata": {},
   "outputs": [],
   "source": [
    "counter_zero = 1\n",
    "counter_one = 0\n",
    "last_phase = \"screening\"\n",
    "\n",
    "hutch_df[\"series\"] = np.nan\n",
    "\n",
    "for index, row in hutch_df.iterrows():\n",
    "    \n",
    "    if last_phase == row['phase']:\n",
    "    \n",
    "        if  not np.isnan(row['temp']):\n",
    "\n",
    "            if row['fasting_state'] == 0:\n",
    "                counter_zero += 2\n",
    "                hutch_df.at[index,'series'] = counter_zero\n",
    "\n",
    "\n",
    "            if row['fasting_state'] == 1:\n",
    "                counter_one += 2\n",
    "                hutch_df.at[index,'series'] = counter_one\n",
    "\n",
    "        elif np.isnan(row['temp']):\n",
    "\n",
    "            if row['fasting_state'] == 0:\n",
    "                hutch_df.at[index,'series'] = counter_zero\n",
    "\n",
    "            if row['fasting_state'] == 1:\n",
    "                hutch_df.at[index,'series'] = counter_one\n",
    "    else:\n",
    "            \n",
    "            if row['fasting_state'] == 0:\n",
    "                counter_zero += 2\n",
    "                hutch_df.at[index,'series'] = counter_zero\n",
    "\n",
    "\n",
    "            if row['fasting_state'] == 1:\n",
    "                counter_one += 2\n",
    "                hutch_df.at[index,'series'] = counter_one\n",
    "                \n",
    "            last_phase = row['phase']"
   ]
  },
  {
   "cell_type": "code",
   "execution_count": null,
   "id": "bb692a8a",
   "metadata": {},
   "outputs": [],
   "source": [
    "hutch_result_df = hutch_df.groupby([\"phase\", \"id\",\"series\", \"fasting_state\"]).agg({'gl': 'mean', 'Day': lambda x: list(set(x))})"
   ]
  },
  {
   "cell_type": "code",
   "execution_count": null,
   "id": "19295a20",
   "metadata": {},
   "outputs": [],
   "source": [
    "hutch_result_df = hutch_df.groupby([\"phase\", \"id\",\"series\", \"fasting_state\"]).agg({'gl': 'mean'})"
   ]
  },
  {
   "cell_type": "code",
   "execution_count": null,
   "id": "9447352f",
   "metadata": {},
   "outputs": [],
   "source": [
    "hutch_result_df = hutch_result_df.reset_index()\n",
    "hutch_result_df = hutch_result_df.drop('series', axis=1)\n",
    "hutch_result_df.rename(columns={'gl': 'gl_mean'}, inplace=True)\n",
    "hutch_result_df = hutch_result_df.sort_values(by=['id', 'phase'], ascending=True)"
   ]
  },
  {
   "cell_type": "code",
   "execution_count": null,
   "id": "35b65246",
   "metadata": {},
   "outputs": [],
   "source": [
    "df_fastingGlucose = hutch_result_df.loc[hutch_result_df['fasting_state'] == 0]\n",
    "df_postprandialGlucose = hutch_result_df.loc[hutch_result_df['fasting_state'] == 1]"
   ]
  },
  {
   "cell_type": "code",
   "execution_count": null,
   "id": "5c4245af",
   "metadata": {},
   "outputs": [],
   "source": [
    "hutch_mean_fasting_glucose_per_phase = hutch_result_df.groupby([\"id\", \"phase\", \"fasting_state\"])[\"gl_mean\"].mean().reset_index(name ='gl_mean_per_phase')\n"
   ]
  },
  {
   "cell_type": "code",
   "execution_count": null,
   "id": "972f28c0",
   "metadata": {},
   "outputs": [],
   "source": [
    "df_meanFastingGlucosePerPhase = hutch_mean_fasting_glucose_per_phase.loc[hutch_mean_fasting_glucose_per_phase['fasting_state'] == 0]\n",
    "df_meanPostprandialGlucosePerPhase = hutch_mean_fasting_glucose_per_phase.loc[hutch_mean_fasting_glucose_per_phase['fasting_state'] == 1]"
   ]
  },
  {
   "cell_type": "code",
   "execution_count": null,
   "id": "3f75c94d",
   "metadata": {},
   "outputs": [],
   "source": [
    "hutch_mean_fasting_glucose_per_phase"
   ]
  },
  {
   "cell_type": "code",
   "execution_count": null,
   "id": "57987ee1",
   "metadata": {},
   "outputs": [],
   "source": [
    "writer = pd.ExcelWriter('hutchisonChronoFast.xlsx', engine='xlsxwriter')"
   ]
  },
  {
   "cell_type": "code",
   "execution_count": null,
   "id": "e512e0c9",
   "metadata": {},
   "outputs": [],
   "source": [
    "df_fastingGlucose.to_excel(writer, sheet_name='fastingGlucose')\n",
    "df_meanFastingGlucosePerPhase.to_excel(writer, sheet_name='meanFastingGlucosePerPhase')\n",
    "df_postprandialGlucose.to_excel(writer, sheet_name='postprandialGlucose')\n",
    "df_meanPostprandialGlucosePerPhase.to_excel(writer, sheet_name='meanPostprandialGlucosePerPhase')\n",
    "\n",
    "writer.save()"
   ]
  },
  {
   "cell_type": "markdown",
   "id": "b4cbddfa",
   "metadata": {},
   "source": [
    "# für jeden Participant, die mean fasting glucose berechnen\n",
    "\n"
   ]
  },
  {
   "cell_type": "code",
   "execution_count": null,
   "id": "fd84ee47",
   "metadata": {},
   "outputs": [],
   "source": [
    "df_screening = final_df[(final_df['phase'] == \"screening\")]\n",
    "df_eTRE = final_df[(final_df['phase'] == \"eTRE\")]\n",
    "df_lTRE = final_df[(final_df['phase'] == \"lTRE\")]"
   ]
  },
  {
   "cell_type": "code",
   "execution_count": null,
   "id": "e5f4fe2f",
   "metadata": {},
   "outputs": [],
   "source": [
    "mean_fasting_glucose_per_phase_day = final_df.groupby([\"id\", \"phase\", \"fasting_state\", \"Day\"])[\"gl\"].mean().reset_index(name ='gl_mean')\n",
    "mean_fasting_glucose_per_phase = final_df.groupby([\"id\", \"phase\", \"fasting_state\"])[\"gl\"].mean().reset_index(name ='gl_mean')\n"
   ]
  },
  {
   "cell_type": "code",
   "execution_count": null,
   "id": "c05f234f",
   "metadata": {},
   "outputs": [],
   "source": [
    "mean_non_fasting_glucose= mean_fasting_glucose_per_phase[mean_fasting_glucose_per_phase.fasting_state != \"non-fasting\"]"
   ]
  },
  {
   "cell_type": "code",
   "execution_count": null,
   "id": "cc6e22f5",
   "metadata": {},
   "outputs": [],
   "source": [
    "mean_non_fasting_glucose = mean_non_fasting_glucose.drop([\"fasting_state\"], axis=1)"
   ]
  },
  {
   "cell_type": "code",
   "execution_count": null,
   "id": "ec7deb92",
   "metadata": {},
   "outputs": [],
   "source": [
    "merged_df = pd.merge(final_df, mean_non_fasting_glucose,  on=[\"id\", \"phase\"])"
   ]
  },
  {
   "cell_type": "code",
   "execution_count": null,
   "id": "e11e1699",
   "metadata": {},
   "outputs": [],
   "source": [
    "def compliance_score(x): \n",
    "    \n",
    "    if x['gl'] >= x['gl_mean'] and x['fasting_state'] == \"non-fasting\":\n",
    "        return \"compliant\"\n",
    "    elif x['gl'] > x['gl_mean'] and x['fasting_state'] == \"fasting\":\n",
    "        return \"non-compliant\"    \n",
    "    elif x['gl'] <= x['gl_mean'] and x['fasting_state'] == \"non-fasting\":\n",
    "        return \"non-compliant\"\n",
    "    elif x['gl'] < x['gl_mean'] and x['fasting_state'] == \"fasting\":\n",
    "        return \"compliant\"\n",
    "   "
   ]
  },
  {
   "cell_type": "code",
   "execution_count": null,
   "id": "966fc81e",
   "metadata": {},
   "outputs": [],
   "source": [
    "merged_df[\"compliance_score\"] = merged_df.apply(compliance_score, axis=1)"
   ]
  },
  {
   "cell_type": "code",
   "execution_count": null,
   "id": "1dfacb8a",
   "metadata": {},
   "outputs": [],
   "source": [
    "merged_df_eTRE = merged_df[(merged_df['phase'] == \"eTRE\")]\n",
    "merged_df_without_screening = merged_df[(merged_df['phase'] != \"screening\")]\n",
    "\n",
    "merged_df_lTRE = merged_df[(merged_df['phase'] == \"lTRE\")]"
   ]
  },
  {
   "cell_type": "code",
   "execution_count": null,
   "id": "aa6764e5",
   "metadata": {},
   "outputs": [],
   "source": [
    "merged_df"
   ]
  },
  {
   "cell_type": "code",
   "execution_count": null,
   "id": "ca154337",
   "metadata": {},
   "outputs": [],
   "source": [
    "result_lTRE = merged_df_lTRE.compliance_score.value_counts()"
   ]
  },
  {
   "cell_type": "code",
   "execution_count": null,
   "id": "7be7f412",
   "metadata": {},
   "outputs": [],
   "source": [
    "compliance_score_lTRE = result_lTRE[0] / (result_lTRE[0]+ result_lTRE[1])*100"
   ]
  },
  {
   "cell_type": "code",
   "execution_count": null,
   "id": "650a7d8b",
   "metadata": {},
   "outputs": [],
   "source": [
    "compliance_score_lTRE"
   ]
  },
  {
   "cell_type": "code",
   "execution_count": null,
   "id": "d8b4d276",
   "metadata": {},
   "outputs": [],
   "source": [
    "result_eTRELTRE = merged_df_without_screening.compliance_score.value_counts()"
   ]
  },
  {
   "cell_type": "code",
   "execution_count": null,
   "id": "7f32eedb",
   "metadata": {},
   "outputs": [],
   "source": [
    "result_eTRELTRE"
   ]
  },
  {
   "cell_type": "code",
   "execution_count": null,
   "id": "fdf1069e",
   "metadata": {},
   "outputs": [],
   "source": [
    "compliance_score_eTRELTRE = result_eTRELTRE[0] / (result_eTRELTRE[0]+ result_eTRELTRE[1])*100"
   ]
  },
  {
   "cell_type": "code",
   "execution_count": null,
   "id": "264d8f41",
   "metadata": {},
   "outputs": [],
   "source": [
    "compliance_score_eTRELTRE"
   ]
  },
  {
   "cell_type": "code",
   "execution_count": null,
   "id": "7c93c107",
   "metadata": {},
   "outputs": [],
   "source": [
    "result = merged_df.compliance_score.value_counts()"
   ]
  },
  {
   "cell_type": "code",
   "execution_count": null,
   "id": "ee7ad3ea",
   "metadata": {},
   "outputs": [],
   "source": [
    "compliance_score = result[0] / (result[0]+ result[1])*100"
   ]
  },
  {
   "cell_type": "code",
   "execution_count": null,
   "id": "9ecac367",
   "metadata": {},
   "outputs": [],
   "source": [
    "compliance_score"
   ]
  },
  {
   "cell_type": "markdown",
   "id": "f43329ee",
   "metadata": {},
   "source": [
    "### Accuracy hutchison all\n"
   ]
  },
  {
   "cell_type": "code",
   "execution_count": null,
   "id": "d587b29d",
   "metadata": {},
   "outputs": [],
   "source": [
    "merged_df[\"fasting_state_pred\"] = merged_df.apply(make_prediction_hutchison, axis=1)\n"
   ]
  },
  {
   "cell_type": "code",
   "execution_count": null,
   "id": "0c45afc7",
   "metadata": {},
   "outputs": [],
   "source": [
    "result_all = merged_df.compliance_score.value_counts()"
   ]
  },
  {
   "cell_type": "code",
   "execution_count": null,
   "id": "53cf4c79",
   "metadata": {},
   "outputs": [],
   "source": [
    "compliance_score_all = result_all[0] / (result_all[0]+ result_all[1])*100"
   ]
  },
  {
   "cell_type": "code",
   "execution_count": null,
   "id": "5578bbb5",
   "metadata": {},
   "outputs": [],
   "source": [
    "compliance_score_all"
   ]
  },
  {
   "cell_type": "code",
   "execution_count": null,
   "id": "be88ff5e",
   "metadata": {},
   "outputs": [],
   "source": [
    "from numpy.lib.stride_tricks import sliding_window_view\n",
    "\n",
    "\n",
    "def smoothing(y_pred):\n",
    "    \n",
    "    outcomes = np.array([])\n",
    "    last_four_values = y_pred[-4:]\n",
    "    \n",
    "    y_pred_windowed = sliding_window_view((y_pred), window_shape = 5)\n",
    "\n",
    "    i = 0\n",
    "    for window in y_pred_windowed:\n",
    "        pred_one = np.count_nonzero(window == 1)\n",
    "        pred_zero = 5 - pred_one\n",
    "        if pred_one > pred_zero:\n",
    "            outcome = int(1)\n",
    "            outcomes = np.append(outcomes, outcome)\n",
    "        else:\n",
    "            outcome = int(0)\n",
    "            outcomes = np.append(outcomes, outcome)\n",
    "    \n",
    "    outcomes = np.append(outcomes, last_four_values)\n",
    "            \n",
    "    \n",
    "    return outcomes"
   ]
  },
  {
   "cell_type": "code",
   "execution_count": null,
   "id": "535ef145",
   "metadata": {},
   "outputs": [],
   "source": [
    "map_dict = {\"non-fasting\": 1, \"fasting\":0}\n",
    "merged_df[\"fasting_state_pred\"] = merged_df[\"fasting_state_pred\"].map(map_dict)\n"
   ]
  },
  {
   "cell_type": "code",
   "execution_count": null,
   "id": "9abdc3a1",
   "metadata": {},
   "outputs": [],
   "source": [
    "merged_df[\"fasting_state\"] = merged_df[\"fasting_state\"].map(map_dict)\n"
   ]
  },
  {
   "cell_type": "code",
   "execution_count": null,
   "id": "2698b51c",
   "metadata": {},
   "outputs": [],
   "source": [
    "result_all_np = merged_df[\"fasting_state_pred\"]\n",
    "result_actual = merged_df[\"fasting_state\"]"
   ]
  },
  {
   "cell_type": "code",
   "execution_count": null,
   "id": "27874b01",
   "metadata": {},
   "outputs": [],
   "source": [
    "result_all_np = np.array(result_all_np)\n",
    "result_actual = np.array(result_actual)"
   ]
  },
  {
   "cell_type": "code",
   "execution_count": null,
   "id": "ec81c819",
   "metadata": {},
   "outputs": [],
   "source": [
    "from sklearn.metrics import accuracy_score, classification_report\n",
    "accuracy_score(result_actual, result_all_np)"
   ]
  },
  {
   "cell_type": "code",
   "execution_count": null,
   "id": "b0e3f9ac",
   "metadata": {},
   "outputs": [],
   "source": [
    "smoothed_score = smoothing(result_all_np)"
   ]
  },
  {
   "cell_type": "code",
   "execution_count": null,
   "id": "23d4414c",
   "metadata": {},
   "outputs": [],
   "source": [
    "accuracy_score(result_actual, smoothed_score)"
   ]
  },
  {
   "cell_type": "code",
   "execution_count": null,
   "id": "7cab5cb7",
   "metadata": {},
   "outputs": [],
   "source": [
    "merged_df[\"pred_fasting_state\"] =  merged_df.apply(make_prediction_hutchison, axis=1)"
   ]
  },
  {
   "cell_type": "code",
   "execution_count": null,
   "id": "d2b52ef5",
   "metadata": {},
   "outputs": [],
   "source": [
    "mask= [\"id\", \"time\", \"phase\", \"gl\", \"gl_mean\", \"fasting_state\", \"pred_fasting_state\", \"compliance_score\"]"
   ]
  },
  {
   "cell_type": "code",
   "execution_count": null,
   "id": "aa88ceb7",
   "metadata": {},
   "outputs": [],
   "source": [
    "merged_df[mask]"
   ]
  }
 ],
 "metadata": {
  "kernelspec": {
   "display_name": "Python 3 (ipykernel)",
   "language": "python",
   "name": "python3"
  },
  "language_info": {
   "codemirror_mode": {
    "name": "ipython",
    "version": 3
   },
   "file_extension": ".py",
   "mimetype": "text/x-python",
   "name": "python",
   "nbconvert_exporter": "python",
   "pygments_lexer": "ipython3",
   "version": "3.8.8"
  }
 },
 "nbformat": 4,
 "nbformat_minor": 5
}
