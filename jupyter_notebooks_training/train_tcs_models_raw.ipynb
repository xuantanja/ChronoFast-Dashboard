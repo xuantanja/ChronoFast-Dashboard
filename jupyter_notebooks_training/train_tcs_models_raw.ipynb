{
 "cells": [
  {
   "cell_type": "code",
   "execution_count": null,
   "id": "6de3f8a2",
   "metadata": {},
   "outputs": [],
   "source": [
    "import cgmquantify as cgm\n",
    "import pandas as pd\n",
    "import datetime as datetime\n",
    "from datetime import date\n",
    "from scipy.stats import stats\n",
    "import numpy as np\n",
    "from IPython.display import display, HTML\n",
    "display(HTML(\"<style>.container { width:100% !important; }</style>\"))\n",
    "from scipy.signal import find_peaks\n",
    "from scipy.stats import stats\n",
    "\n",
    "from sklearn.metrics import accuracy_score, classification_report\n",
    "from sklearn.model_selection import train_test_split\n",
    "from sklearn.linear_model import LogisticRegression\n",
    "from sklearn.tree import DecisionTreeClassifier\n",
    "from sklearn.neighbors import KNeighborsClassifier\n",
    "from sklearn.linear_model import LinearRegression\n",
    "from numpy import mean\n",
    "from numpy import absolute\n",
    "from numpy import sqrt\n",
    "import pandas as pd\n",
    "import warnings\n",
    "warnings.filterwarnings(\"ignore\")\n",
    "\n",
    "from tensorflow import keras\n",
    "import numpy as np\n",
    "import matplotlib.pyplot as plt"
   ]
  },
  {
   "cell_type": "code",
   "execution_count": null,
   "id": "f94e1bc4",
   "metadata": {},
   "outputs": [],
   "source": [
    "!pip install cgmquantify"
   ]
  },
  {
   "cell_type": "code",
   "execution_count": null,
   "id": "184c4cf3",
   "metadata": {},
   "outputs": [],
   "source": [
    "!pip install tslearn"
   ]
  },
  {
   "cell_type": "code",
   "execution_count": null,
   "id": "c4e12220",
   "metadata": {},
   "outputs": [],
   "source": [
    "!pip install imbalanced-learn"
   ]
  },
  {
   "cell_type": "code",
   "execution_count": null,
   "id": "87902116",
   "metadata": {},
   "outputs": [],
   "source": [
    "df_merged_all = pd.read_csv('df_overnight_and_PRO.csv', sep='\\t')\n"
   ]
  },
  {
   "cell_type": "code",
   "execution_count": null,
   "id": "7afa4ab7",
   "metadata": {},
   "outputs": [],
   "source": [
    "df_merged_all = df_merged_all.dropna(subset=['axis1', 'axis2', 'axis3'],how='all')\n",
    "\n",
    "df_merged_all['axis1'] = df_merged_all['axis1'].fillna(0)\n",
    "df_merged_all['axis2'] = df_merged_all['axis2'].fillna(0)\n",
    "df_merged_all['axis3'] = df_merged_all['axis3'].fillna(0)\n",
    "\n",
    "df_merged_all['time'] = pd.to_datetime(df_merged_all['time'] ,errors = 'coerce')\n",
    "\n",
    "df_merged_all = df_merged_all.reset_index(drop=True)\n",
    "df_merged_all = df_merged_all.drop([\"Unnamed: 0\", \"joinID\"], axis=1)\n",
    "\n",
    "fasting_states_to_keep = ['fasting', 'non-fasting']\n",
    "df_merged_all = df_merged_all[df_merged_all.label.isin(fasting_states_to_keep)]\n",
    "\n",
    "#phases_to_keep = ['lTRE', 'eTRE']\n",
    "#df_merged_all = df_merged_all[df_merged_all.phase.isin(phases_to_keep)]\n",
    "\n",
    "final_df = df_merged_all.sort_values(by=['id', 'time', \"phase\"], ascending=True)"
   ]
  },
  {
   "cell_type": "code",
   "execution_count": null,
   "id": "3026258d",
   "metadata": {},
   "outputs": [],
   "source": [
    "final_df = final_df.reset_index(drop=True)"
   ]
  },
  {
   "cell_type": "markdown",
   "id": "753f377c",
   "metadata": {},
   "source": [
    "## Label Encoding"
   ]
  },
  {
   "cell_type": "code",
   "execution_count": null,
   "id": "f2f86c57",
   "metadata": {},
   "outputs": [],
   "source": [
    "map_dict = {\"non-fasting\": 1, \"fasting\":0}\n",
    "df_train[\"label\"] = df_train[\"label\"].map(map_dict)\n",
    "df_test[\"label\"] = df_test[\"label\"].map(map_dict)"
   ]
  },
  {
   "cell_type": "code",
   "execution_count": null,
   "id": "33918405",
   "metadata": {},
   "outputs": [],
   "source": [
    "map_dict = {\"screening\": 1, \"lTRE\":0, \"eTRE\":2}\n",
    "df_train[\"phase\"] = df_train[\"phase\"].map(map_dict)\n",
    "df_test[\"phase\"] = df_test[\"phase\"].map(map_dict)"
   ]
  },
  {
   "cell_type": "code",
   "execution_count": null,
   "id": "f0a84e26",
   "metadata": {},
   "outputs": [],
   "source": [
    "df_train"
   ]
  },
  {
   "cell_type": "markdown",
   "id": "d2b5a293",
   "metadata": {},
   "source": [
    "## Saving and Loading the featured Data"
   ]
  },
  {
   "cell_type": "code",
   "execution_count": null,
   "id": "62f04bf9",
   "metadata": {},
   "outputs": [],
   "source": [
    "train_labels = df_train[\"label\"]\n",
    "test_labels = df_test[\"label\"]"
   ]
  },
  {
   "cell_type": "code",
   "execution_count": null,
   "id": "3fd0b0ea",
   "metadata": {},
   "outputs": [],
   "source": [
    "y_train = np.array(train_labels)\n",
    "y_test = np.array(test_labels)"
   ]
  },
  {
   "cell_type": "code",
   "execution_count": null,
   "id": "2292f009",
   "metadata": {},
   "outputs": [],
   "source": [
    "y_train_float = y_train\n",
    "y_test_float = y_test"
   ]
  },
  {
   "cell_type": "code",
   "execution_count": null,
   "id": "5a7676e7",
   "metadata": {},
   "outputs": [],
   "source": [
    "mylist = list(set(y_train_float))\n",
    "mylist"
   ]
  },
  {
   "cell_type": "markdown",
   "id": "0775fefa",
   "metadata": {},
   "source": [
    "## Building the time series"
   ]
  },
  {
   "cell_type": "markdown",
   "id": "faf543d9",
   "metadata": {},
   "source": [
    "### Test-dataset"
   ]
  },
  {
   "cell_type": "code",
   "execution_count": null,
   "id": "41d9516b",
   "metadata": {},
   "outputs": [],
   "source": [
    "X_test = df_test"
   ]
  },
  {
   "cell_type": "markdown",
   "id": "add213b2",
   "metadata": {},
   "source": [
    "### acc and gl"
   ]
  },
  {
   "cell_type": "code",
   "execution_count": null,
   "id": "57d6b5bb",
   "metadata": {},
   "outputs": [],
   "source": [
    "from datetime import datetime\n",
    "\n",
    "\n",
    "X_test.time = pd.to_datetime(X_test.time)\n",
    "\n",
    "x_list_test_tsc_1st = []\n",
    "test_labels_tsc = []\n",
    "x_list_test_tsc_2nd = []\n",
    "counter=0\n",
    "\n",
    "\n",
    "last_time_before = X_test['time'].values[0]\n",
    "\n",
    "for i in range(0, X_test.shape[0], 1):\n",
    "    time = X_test['time'].values[i]\n",
    "    gl =  X_test['gl'].values[i]\n",
    "    axis1 = X_test['axis1'].values[i]\n",
    "    axis2 = X_test['axis2'].values[i]\n",
    "    axis3 = X_test['axis3'].values[i]\n",
    "    steps = X_test['steps'].values[i]\n",
    "    lux = X_test['lux'].values[i]\n",
    "    inclineStanding = X_test['inclineStanding'].values[i]\n",
    "    inclineSitting = X_test['inclineSitting'].values[i]\n",
    "    inclineLying = X_test['inclineLying'].values[i]\n",
    "    vm = X_test['vm'].values[i]\n",
    "\n",
    "    timedelta_first =  time - last_time_before\n",
    "\n",
    "    one_hour = 3600000000000\n",
    "    \n",
    "    if timedelta_first < one_hour and counter < 5:\n",
    "        x_list_test_tsc_3rd = []\n",
    "        x_list_test_tsc_3rd.append(gl)\n",
    "        x_list_test_tsc_3rd.append(axis1)\n",
    "        x_list_test_tsc_3rd.append(axis2)\n",
    "        x_list_test_tsc_3rd.append(axis3)\n",
    "        x_list_test_tsc_3rd.append(steps)\n",
    "        x_list_test_tsc_3rd.append(lux)\n",
    "        x_list_test_tsc_3rd.append(inclineStanding)\n",
    "        x_list_test_tsc_3rd.append(inclineSitting)\n",
    "        x_list_test_tsc_3rd.append(inclineLying)\n",
    "        x_list_test_tsc_3rd.append(vm)\n",
    "\n",
    "        x_list_test_tsc_2nd.append(x_list_test_tsc_3rd)\n",
    "    \n",
    "    else:\n",
    "        \n",
    "        if counter == 5:\n",
    "            x_list_test_tsc_1st.append(x_list_test_tsc_2nd)\n",
    "            test_labels_tsc.append(y_test_float[i])\n",
    "            \n",
    "        counter = 0\n",
    "        x_list_test_tsc_2nd = [] \n",
    "        x_list_test_tsc_3rd = []\n",
    "        x_list_test_tsc_3rd.append(gl)\n",
    "        x_list_test_tsc_3rd.append(axis1)\n",
    "        x_list_test_tsc_3rd.append(axis2)\n",
    "        x_list_test_tsc_3rd.append(axis3)\n",
    "        x_list_test_tsc_3rd.append(steps)\n",
    "        x_list_test_tsc_3rd.append(lux)\n",
    "        x_list_test_tsc_3rd.append(inclineStanding)\n",
    "        x_list_test_tsc_3rd.append(inclineSitting)\n",
    "        x_list_test_tsc_3rd.append(inclineLying)\n",
    "        x_list_test_tsc_3rd.append(vm)\n",
    "        x_list_test_tsc_2nd.append(x_list_test_tsc_3rd)\n",
    "        \n",
    "    counter += 1\n",
    "    \n",
    "    last_time_before = time\n"
   ]
  },
  {
   "cell_type": "markdown",
   "id": "059457e9",
   "metadata": {},
   "source": [
    "### gl"
   ]
  },
  {
   "cell_type": "code",
   "execution_count": null,
   "id": "597a620e",
   "metadata": {},
   "outputs": [],
   "source": [
    "from datetime import datetime\n",
    "\n",
    "\n",
    "X_test.time = pd.to_datetime(X_test.time)\n",
    "\n",
    "x_list_test_tsc_1st = []\n",
    "test_labels_tsc = []\n",
    "x_list_test_tsc_2nd = []\n",
    "counter=0\n",
    "\n",
    "\n",
    "last_time_before = X_test['time'].values[0]\n",
    "\n",
    "for i in range(0, X_test.shape[0], 1):\n",
    "    time = X_test['time'].values[i]\n",
    "    gl =  X_test['gl'].values[i]\n",
    "\n",
    "    \n",
    "    timedelta_first =  time - last_time_before\n",
    "\n",
    "    one_hour = 3600000000000\n",
    "    \n",
    "    if timedelta_first < one_hour and counter < 5:\n",
    "        x_list_test_tsc_3rd = []\n",
    "        x_list_test_tsc_3rd.append(gl)\n",
    "\n",
    "        x_list_test_tsc_2nd.append(x_list_test_tsc_3rd)\n",
    "    \n",
    "    else:\n",
    "        \n",
    "        if counter == 5:\n",
    "            x_list_test_tsc_1st.append(x_list_test_tsc_2nd)\n",
    "            test_labels_tsc.append(y_test_float[i])\n",
    "            \n",
    "        counter = 0\n",
    "        x_list_test_tsc_2nd = [] \n",
    "        x_list_test_tsc_3rd = []\n",
    "        x_list_test_tsc_3rd.append(gl)\n",
    "        x_list_test_tsc_2nd.append(x_list_test_tsc_3rd)\n",
    "        \n",
    "    counter += 1\n",
    "    \n",
    "    last_time_before = time"
   ]
  },
  {
   "cell_type": "markdown",
   "id": "41813a14",
   "metadata": {},
   "source": [
    "### acc"
   ]
  },
  {
   "cell_type": "code",
   "execution_count": null,
   "id": "5202a233",
   "metadata": {},
   "outputs": [],
   "source": [
    "from datetime import datetime\n",
    "\n",
    "\n",
    "X_test.time = pd.to_datetime(X_test.time)\n",
    "\n",
    "x_list_test_tsc_1st = []\n",
    "test_labels_tsc = []\n",
    "x_list_test_tsc_2nd = []\n",
    "counter=0\n",
    "\n",
    "\n",
    "last_time_before = X_test['time'].values[0]\n",
    "\n",
    "for i in range(0, X_test.shape[0], 1):\n",
    "    time = X_test['time'].values[i]\n",
    "    axis1 = X_test['axis1'].values[i]\n",
    "    axis2 = X_test['axis2'].values[i]\n",
    "    axis3 = X_test['axis3'].values[i]\n",
    "    steps = X_test['steps'].values[i]\n",
    "    lux = X_test['lux'].values[i]\n",
    "    inclineStanding = X_test['inclineStanding'].values[i]\n",
    "    inclineSitting = X_test['inclineSitting'].values[i]\n",
    "    inclineLying = X_test['inclineLying'].values[i]\n",
    "    vm = X_test['vm'].values[i]\n",
    "    \n",
    "    timedelta_first =  time - last_time_before\n",
    "\n",
    "    one_hour = 3600000000000\n",
    "    \n",
    "    if timedelta_first < one_hour and counter < 5:\n",
    "        x_list_test_tsc_3rd = []\n",
    "\n",
    "        x_list_test_tsc_3rd.append(axis1)\n",
    "        x_list_test_tsc_3rd.append(axis2)\n",
    "        x_list_test_tsc_3rd.append(axis3)\n",
    "        x_list_test_tsc_3rd.append(steps)\n",
    "        x_list_test_tsc_3rd.append(lux)\n",
    "        x_list_test_tsc_3rd.append(inclineStanding)\n",
    "        x_list_test_tsc_3rd.append(inclineSitting)\n",
    "        x_list_test_tsc_3rd.append(inclineLying)\n",
    "        x_list_test_tsc_3rd.append(vm)\n",
    "        x_list_test_tsc_2nd.append(x_list_test_tsc_3rd)\n",
    "    \n",
    "    else:\n",
    "        \n",
    "        if counter == 5:\n",
    "            x_list_test_tsc_1st.append(x_list_test_tsc_2nd)\n",
    "            test_labels_tsc.append(y_test_float[i])\n",
    "            \n",
    "        counter = 0\n",
    "        x_list_test_tsc_2nd = [] \n",
    "        x_list_test_tsc_3rd = []\n",
    "\n",
    "        x_list_test_tsc_3rd.append(axis1)\n",
    "        x_list_test_tsc_3rd.append(axis2)\n",
    "        x_list_test_tsc_3rd.append(axis3)\n",
    "        x_list_test_tsc_3rd.append(steps)\n",
    "        x_list_test_tsc_3rd.append(lux)\n",
    "        x_list_test_tsc_3rd.append(inclineStanding)\n",
    "        x_list_test_tsc_3rd.append(inclineSitting)\n",
    "        x_list_test_tsc_3rd.append(inclineLying)\n",
    "        x_list_test_tsc_3rd.append(vm)\n",
    "        x_list_test_tsc_2nd.append(x_list_test_tsc_3rd)\n",
    "        \n",
    "    counter += 1\n",
    "    \n",
    "    last_time_before = time"
   ]
  },
  {
   "cell_type": "markdown",
   "id": "4ed9ac1b",
   "metadata": {},
   "source": [
    "### Train-Dataset"
   ]
  },
  {
   "cell_type": "code",
   "execution_count": null,
   "id": "807c6295",
   "metadata": {},
   "outputs": [],
   "source": [
    "X_train = df_train"
   ]
  },
  {
   "cell_type": "code",
   "execution_count": null,
   "id": "4c70e5f8",
   "metadata": {},
   "outputs": [],
   "source": [
    "from datetime import datetime\n",
    "\n",
    "\n",
    "X_train.time = pd.to_datetime(X_train.time)\n",
    "\n",
    "\n",
    "x_list_train_tsc_1st = []\n",
    "train_labels_tsc = []\n",
    "x_list_train_tsc_2nd = []\n",
    "counter = 0\n",
    "\n",
    "\n",
    "last_time_before = X_train['time'].values[0]\n",
    "\n",
    "\n",
    "\n",
    "for i in range(0, X_train.shape[0], 1):\n",
    "    time = X_train['time'].values[i]\n",
    "    gl =  X_train['gl'].values[i]\n",
    "    axis1 = X_train['axis1'].values[i]\n",
    "    axis2 = X_train['axis2'].values[i]\n",
    "    axis3 = X_train['axis3'].values[i]\n",
    "    steps = X_train['steps'].values[i]\n",
    "    lux = X_train['lux'].values[i]\n",
    "    inclineStanding = X_train['inclineStanding'].values[i]\n",
    "    inclineSitting = X_train['inclineSitting'].values[i]\n",
    "    inclineLying = X_train['inclineLying'].values[i]\n",
    "    vm = X_train['vm'].values[i]\n",
    "    \n",
    "    timedelta_first =  time - last_time_before\n",
    "\n",
    "    one_hour = 3600000000000\n",
    "    \n",
    "    if timedelta_first < one_hour and counter < 5:\n",
    "        \n",
    "        x_list_train_tsc_3rd = []\n",
    "        x_list_train_tsc_3rd.append(gl)\n",
    "        x_list_train_tsc_3rd.append(axis1)\n",
    "        x_list_train_tsc_3rd.append(axis2)\n",
    "        x_list_train_tsc_3rd.append(axis3)\n",
    "        x_list_train_tsc_3rd.append(steps)\n",
    "        x_list_train_tsc_3rd.append(lux)\n",
    "        x_list_train_tsc_3rd.append(inclineStanding)\n",
    "        x_list_train_tsc_3rd.append(inclineSitting)\n",
    "        x_list_train_tsc_3rd.append(inclineLying)\n",
    "        x_list_train_tsc_3rd.append(vm)\n",
    "        x_list_train_tsc_2nd.append(x_list_train_tsc_3rd)\n",
    "    \n",
    "    else:\n",
    "        if counter == 5:\n",
    "            x_list_train_tsc_1st.append(x_list_train_tsc_2nd)\n",
    "            train_labels_tsc.append(y_train_float[i])\n",
    "            \n",
    "        counter = 0\n",
    "        x_list_train_tsc_2nd = [] \n",
    "        x_list_train_tsc_3rd = []\n",
    "        x_list_train_tsc_3rd.append(gl)\n",
    "        x_list_train_tsc_3rd.append(axis1)\n",
    "        x_list_train_tsc_3rd.append(axis2)\n",
    "        x_list_train_tsc_3rd.append(axis3)\n",
    "        x_list_train_tsc_3rd.append(steps)\n",
    "        x_list_train_tsc_3rd.append(lux)\n",
    "        x_list_train_tsc_3rd.append(inclineStanding)\n",
    "        x_list_train_tsc_3rd.append(inclineSitting)\n",
    "        x_list_train_tsc_3rd.append(inclineLying)\n",
    "        x_list_train_tsc_3rd.append(vm)\n",
    "        x_list_train_tsc_2nd.append(x_list_train_tsc_3rd)\n",
    "    counter += 1\n",
    "    last_time_before = time"
   ]
  },
  {
   "cell_type": "markdown",
   "id": "fefb6fe1",
   "metadata": {},
   "source": [
    "### gl"
   ]
  },
  {
   "cell_type": "code",
   "execution_count": null,
   "id": "4fea75d9",
   "metadata": {},
   "outputs": [],
   "source": [
    "from datetime import datetime\n",
    "\n",
    "\n",
    "X_train.time = pd.to_datetime(X_train.time)\n",
    "\n",
    "\n",
    "x_list_train_tsc_1st = []\n",
    "train_labels_tsc = []\n",
    "x_list_train_tsc_2nd = []\n",
    "counter = 0\n",
    "\n",
    "\n",
    "last_time_before = X_train['time'].values[0]\n",
    "\n",
    "\n",
    "\n",
    "for i in range(0, X_train.shape[0], 1):\n",
    "    time = X_train['time'].values[i]\n",
    "    gl =  X_train['gl'].values[i]\n",
    "    timedelta_first =  time - last_time_before\n",
    "\n",
    "    one_hour = 3600000000000\n",
    "    \n",
    "    if timedelta_first < one_hour and counter < 5:\n",
    "        \n",
    "        x_list_train_tsc_3rd = []\n",
    "        x_list_train_tsc_3rd.append(gl)\n",
    "\n",
    "        x_list_train_tsc_2nd.append(x_list_train_tsc_3rd)\n",
    "    \n",
    "    else:\n",
    "        if counter == 5:\n",
    "            x_list_train_tsc_1st.append(x_list_train_tsc_2nd)\n",
    "            train_labels_tsc.append(y_train_float[i])\n",
    "            \n",
    "        counter = 0\n",
    "        x_list_train_tsc_2nd = [] \n",
    "        x_list_train_tsc_3rd = []\n",
    "        x_list_train_tsc_3rd.append(gl)\n",
    "\n",
    "        x_list_train_tsc_2nd.append(x_list_train_tsc_3rd)\n",
    "    counter += 1\n",
    "    last_time_before = time"
   ]
  },
  {
   "cell_type": "markdown",
   "id": "7f5866ee",
   "metadata": {},
   "source": [
    "### acc"
   ]
  },
  {
   "cell_type": "code",
   "execution_count": null,
   "id": "a4dc12e9",
   "metadata": {},
   "outputs": [],
   "source": [
    "from datetime import datetime\n",
    "\n",
    "\n",
    "X_train.time = pd.to_datetime(X_train.time)\n",
    "\n",
    "\n",
    "x_list_train_tsc_1st = []\n",
    "train_labels_tsc = []\n",
    "x_list_train_tsc_2nd = []\n",
    "counter = 0\n",
    "\n",
    "\n",
    "last_time_before = X_train['time'].values[0]\n",
    "\n",
    "\n",
    "\n",
    "for i in range(0, X_train.shape[0], 1):\n",
    "    time = X_train['time'].values[i]\n",
    "    axis1 = X_train['axis1'].values[i]\n",
    "    axis2 = X_train['axis2'].values[i]\n",
    "    axis3 = X_train['axis3'].values[i]\n",
    "    steps = X_train['steps'].values[i]\n",
    "    lux = X_train['lux'].values[i]\n",
    "    inclineStanding = X_train['inclineStanding'].values[i]\n",
    "    inclineSitting = X_train['inclineSitting'].values[i]\n",
    "    inclineLying = X_train['inclineLying'].values[i]\n",
    "    vm = X_train['vm'].values[i]\n",
    "    \n",
    "    timedelta_first =  time - last_time_before\n",
    "\n",
    "    one_hour = 3600000000000\n",
    "    \n",
    "    if timedelta_first < one_hour and counter < 5:\n",
    "        \n",
    "        x_list_train_tsc_3rd = []\n",
    "        x_list_train_tsc_3rd.append(axis1)\n",
    "        x_list_train_tsc_3rd.append(axis2)\n",
    "        x_list_train_tsc_3rd.append(axis3)\n",
    "        x_list_train_tsc_3rd.append(steps)\n",
    "        x_list_train_tsc_3rd.append(lux)\n",
    "        x_list_train_tsc_3rd.append(inclineStanding)\n",
    "        x_list_train_tsc_3rd.append(inclineSitting)\n",
    "        x_list_train_tsc_3rd.append(inclineLying)\n",
    "        x_list_train_tsc_3rd.append(vm)\n",
    "        x_list_train_tsc_2nd.append(x_list_train_tsc_3rd)\n",
    "    \n",
    "    else:\n",
    "        if counter == 5:\n",
    "            x_list_train_tsc_1st.append(x_list_train_tsc_2nd)\n",
    "            train_labels_tsc.append(y_train_float[i])\n",
    "            \n",
    "        counter = 0\n",
    "        x_list_train_tsc_2nd = [] \n",
    "        x_list_train_tsc_3rd = []\n",
    "        x_list_train_tsc_3rd.append(axis1)\n",
    "        x_list_train_tsc_3rd.append(axis2)\n",
    "        x_list_train_tsc_3rd.append(axis3)\n",
    "        x_list_train_tsc_3rd.append(steps)\n",
    "        x_list_train_tsc_3rd.append(lux)\n",
    "        x_list_train_tsc_3rd.append(inclineStanding)\n",
    "        x_list_train_tsc_3rd.append(inclineSitting)\n",
    "        x_list_train_tsc_3rd.append(inclineLying)\n",
    "        x_list_train_tsc_3rd.append(vm)\n",
    "        \n",
    "        x_list_train_tsc_2nd.append(x_list_train_tsc_3rd)\n",
    "    counter += 1\n",
    "    last_time_before = time"
   ]
  },
  {
   "cell_type": "markdown",
   "id": "63b829f8",
   "metadata": {},
   "source": [
    "# TS Learn Classification"
   ]
  },
  {
   "cell_type": "markdown",
   "id": "9a5ae5d5",
   "metadata": {},
   "source": [
    "### To Time Series Dataset"
   ]
  },
  {
   "cell_type": "code",
   "execution_count": null,
   "id": "6c065a96",
   "metadata": {},
   "outputs": [],
   "source": [
    "from tslearn.utils import to_time_series_dataset\n",
    "from tslearn.neighbors import KNeighborsTimeSeriesClassifier\n",
    "from tslearn import generators\n"
   ]
  },
  {
   "cell_type": "code",
   "execution_count": null,
   "id": "41418cd8",
   "metadata": {},
   "outputs": [],
   "source": [
    "X_train =to_time_series_dataset(x_list_train_tsc_1st)\n",
    "X_test =to_time_series_dataset(x_list_test_tsc_1st)"
   ]
  },
  {
   "cell_type": "code",
   "execution_count": null,
   "id": "6483c4a6",
   "metadata": {},
   "outputs": [],
   "source": [
    "y_train =  np.array(train_labels_tsc)\n",
    "y_test =  np.array(test_labels_tsc)"
   ]
  },
  {
   "cell_type": "markdown",
   "id": "b5496386",
   "metadata": {},
   "source": [
    "### Checking for Balance"
   ]
  },
  {
   "cell_type": "code",
   "execution_count": null,
   "id": "9607085f",
   "metadata": {},
   "outputs": [],
   "source": [
    "from collections import Counter\n",
    "print(Counter(y_test).keys()) # equals to list(set(words))\n",
    "print(Counter(y_test).values()) # counts the elements' frequency\n",
    "print(Counter(y_train).keys()) # equals to list(set(words))\n",
    "print(Counter(y_train).values()) # counts the elements' frequency"
   ]
  },
  {
   "cell_type": "code",
   "execution_count": null,
   "id": "31271be7",
   "metadata": {},
   "outputs": [],
   "source": [
    "data2d_test = X_test.reshape(X_test.shape[0], -1)\n",
    "data2d_train = X_train.reshape(X_train.shape[0], -1)"
   ]
  },
  {
   "cell_type": "code",
   "execution_count": null,
   "id": "399194ca",
   "metadata": {},
   "outputs": [],
   "source": [
    "print(X_test.shape)\n",
    "print(X_train.shape)\n",
    "print(data2d_test.shape)\n",
    "print(data2d_train.shape)"
   ]
  },
  {
   "cell_type": "markdown",
   "id": "d291f890",
   "metadata": {},
   "source": [
    "### Undersampling with Random Selection"
   ]
  },
  {
   "cell_type": "code",
   "execution_count": null,
   "id": "582ee9bd",
   "metadata": {},
   "outputs": [],
   "source": [
    "from imblearn.under_sampling import RandomUnderSampler\n",
    "import collections\n",
    "rus = RandomUnderSampler(random_state=0, replacement=True)\n",
    "data2d_test_resampled , y_test_resampled = rus.fit_resample(data2d_test, y_test)\n",
    "data2d_train_resampled , y_train_resampled = rus.fit_resample(data2d_train, y_train)"
   ]
  },
  {
   "cell_type": "code",
   "execution_count": null,
   "id": "a3c93898",
   "metadata": {},
   "outputs": [],
   "source": [
    "print(data2d_test_resampled.shape)\n",
    "print(data2d_train_resampled.shape)"
   ]
  },
  {
   "cell_type": "code",
   "execution_count": null,
   "id": "e5404f12",
   "metadata": {},
   "outputs": [],
   "source": [
    "from collections import Counter\n",
    "print(Counter(y_test_resampled).keys()) # equals to list(set(words))\n",
    "print(Counter(y_test_resampled).values()) # counts the elements' frequency\n",
    "print(Counter(y_train_resampled).keys()) # equals to list(set(words))\n",
    "print(Counter(y_train_resampled).values()) # counts the elements' frequency"
   ]
  },
  {
   "cell_type": "code",
   "execution_count": null,
   "id": "326cf507",
   "metadata": {},
   "outputs": [],
   "source": [
    "data2d_test_resampled.shape[0]"
   ]
  },
  {
   "cell_type": "code",
   "execution_count": null,
   "id": "4ca47df5",
   "metadata": {},
   "outputs": [],
   "source": [
    "scaler = MinMaxScaler()\n",
    "scaler.fit(data2d_train_resampled)\n",
    "data2d_train_resampled = scaler.transform(data2d_train_resampled)\n",
    "data2d_test_resampled = scaler.transform(data2d_test_resampled)"
   ]
  },
  {
   "cell_type": "code",
   "execution_count": null,
   "id": "cfd93d2f",
   "metadata": {},
   "outputs": [],
   "source": [
    "data3d_X_test = data2d_test_resampled.reshape(-1, X_test.shape[1], X_test.shape[2])\n",
    "data3d_X_train = data2d_train_resampled.reshape(-1, X_train.shape[1], X_train.shape[2])"
   ]
  },
  {
   "cell_type": "code",
   "execution_count": null,
   "id": "786122bf",
   "metadata": {},
   "outputs": [],
   "source": [
    "print(data3d_X_test.shape)\n",
    "print(data3d_X_train.shape)"
   ]
  },
  {
   "cell_type": "code",
   "execution_count": null,
   "id": "29012641",
   "metadata": {},
   "outputs": [],
   "source": []
  },
  {
   "cell_type": "code",
   "execution_count": null,
   "id": "1ef841ca",
   "metadata": {},
   "outputs": [],
   "source": [
    "def GridSearch_table_plot(grid_clf, param_name,\n",
    "                          num_results=15,\n",
    "                          negative=True,\n",
    "                          graph=True,\n",
    "                          display_all_params=True):\n",
    "\n",
    "    '''Display grid search results\n",
    "\n",
    "    Arguments\n",
    "    ---------\n",
    "\n",
    "    grid_clf           the estimator resulting from a grid search\n",
    "                       for example: grid_clf = GridSearchCV( ...\n",
    "\n",
    "    param_name         a string with the name of the parameter being tested\n",
    "\n",
    "    num_results        an integer indicating the number of results to display\n",
    "                       Default: 15\n",
    "\n",
    "    negative           boolean: should the sign of the score be reversed?\n",
    "                       scoring = 'neg_log_loss', for instance\n",
    "                       Default: True\n",
    "\n",
    "    graph              boolean: should a graph be produced?\n",
    "                       non-numeric parameters (True/False, None) don't graph well\n",
    "                       Default: True\n",
    "\n",
    "    display_all_params boolean: should we print out all of the parameters, not just the ones searched for?\n",
    "                       Default: True\n",
    "\n",
    "    Usage\n",
    "    -----\n",
    "\n",
    "    GridSearch_table_plot(grid_clf, \"min_samples_leaf\")\n",
    "\n",
    "                          '''\n",
    "    from matplotlib      import pyplot as plt\n",
    "    from IPython.display import display\n",
    "    import pandas as pd\n",
    "\n",
    "    clf = grid_clf.best_estimator_\n",
    "    clf_params = grid_clf.best_params_\n",
    "    if negative:\n",
    "        clf_score = -grid_clf.best_score_\n",
    "    else:\n",
    "        clf_score = grid_clf.best_score_\n",
    "    clf_stdev = grid_clf.cv_results_['std_test_score'][grid_clf.best_index_]\n",
    "    cv_results = grid_clf.cv_results_\n",
    "\n",
    "    print(\"best parameters: {}\".format(clf_params))\n",
    "    print(\"best score:      {:0.5f} (+/-{:0.5f})\".format(clf_score, clf_stdev))\n",
    "    if display_all_params:\n",
    "        import pprint\n",
    "        pprint.pprint(clf.get_params())\n",
    "\n",
    "    # pick out the best results\n",
    "    # =========================\n",
    "    scores_df = pd.DataFrame(cv_results).sort_values(by='rank_test_score')\n",
    "\n",
    "    best_row = scores_df.iloc[0, :]\n",
    "    if negative:\n",
    "        best_mean = -best_row['mean_test_score']\n",
    "    else:\n",
    "        best_mean = best_row['mean_test_score']\n",
    "    best_stdev = best_row['std_test_score']\n",
    "    best_param = best_row['param_' + param_name]\n",
    "\n",
    "    # display the top 'num_results' results\n",
    "    # =====================================\n",
    "    display(pd.DataFrame(cv_results) \\\n",
    "            .sort_values(by='rank_test_score').head(num_results))\n",
    "\n",
    "    # plot the results\n",
    "    # ================\n",
    "    scores_df = scores_df.sort_values(by='param_' + param_name)\n",
    "\n",
    "    if negative:\n",
    "        means = -scores_df['mean_test_score']\n",
    "    else:\n",
    "        means = scores_df['mean_test_score']\n",
    "    stds = scores_df['std_test_score']\n",
    "    params = scores_df['param_' + param_name]\n",
    "\n",
    "    # plot\n",
    "    if graph:\n",
    "        plt.figure(figsize=(8, 8))\n",
    "        plt.errorbar(params, means, yerr=stds)\n",
    "\n",
    "        plt.axhline(y=best_mean + best_stdev, color='red')\n",
    "        plt.axhline(y=best_mean - best_stdev, color='red')\n",
    "        plt.plot(best_param, best_mean, 'or')\n",
    "\n",
    "        plt.title(param_name + \" vs Score\\nBest Score {:0.5f}\".format(clf_score))\n",
    "        plt.xlabel(param_name)\n",
    "        plt.ylabel('Score')\n",
    "        plt.show()"
   ]
  },
  {
   "cell_type": "code",
   "execution_count": null,
   "id": "d3ca99a4",
   "metadata": {},
   "outputs": [],
   "source": []
  },
  {
   "cell_type": "code",
   "execution_count": null,
   "id": "05ff6713",
   "metadata": {},
   "outputs": [],
   "source": [
    "from numpy.lib.stride_tricks import sliding_window_view\n",
    "\n",
    "\n",
    "def smoothing(y_pred):\n",
    "    \n",
    "    outcomes = np.array([])\n",
    "    last_four_values = y_pred[-4:]\n",
    "    \n",
    "    y_pred_windowed = sliding_window_view((y_pred), window_shape = 5)\n",
    "\n",
    "    i = 0\n",
    "    for window in y_pred_windowed:\n",
    "        pred_one = np.count_nonzero(window == 1)\n",
    "        pred_zero = 5 - pred_one\n",
    "        if pred_one > pred_zero:\n",
    "            outcome = int(1)\n",
    "            outcomes = np.append(outcomes, outcome)\n",
    "        else:\n",
    "            outcome = int(0)\n",
    "            outcomes = np.append(outcomes, outcome)\n",
    "    \n",
    "    outcomes = np.append(outcomes, last_four_values)\n",
    "            \n",
    "    \n",
    "    return outcomes"
   ]
  },
  {
   "cell_type": "markdown",
   "id": "d622f05f",
   "metadata": {},
   "source": [
    "## KNeighborsTimeSeriesClassifier"
   ]
  },
  {
   "cell_type": "code",
   "execution_count": null,
   "id": "5716d72f",
   "metadata": {},
   "outputs": [],
   "source": []
  },
  {
   "cell_type": "code",
   "execution_count": null,
   "id": "2889f952",
   "metadata": {},
   "outputs": [],
   "source": [
    "from sklearn.model_selection import RandomizedSearchCV\n"
   ]
  },
  {
   "cell_type": "code",
   "execution_count": null,
   "id": "4d773a83",
   "metadata": {},
   "outputs": [],
   "source": []
  },
  {
   "cell_type": "code",
   "execution_count": null,
   "id": "d2a31dbb",
   "metadata": {},
   "outputs": [],
   "source": [
    "from tslearn.neighbors import KNeighborsTimeSeriesClassifier\n",
    "knn = KNeighborsTimeSeriesClassifier(n_neighbors=93)\n",
    "knn.fit(data3d_X_train, y_train_resampled)"
   ]
  },
  {
   "cell_type": "code",
   "execution_count": null,
   "id": "860b2a84",
   "metadata": {},
   "outputs": [],
   "source": [
    "y_pred = knn.predict(data3d_X_test)"
   ]
  },
  {
   "cell_type": "code",
   "execution_count": null,
   "id": "d7a8a968",
   "metadata": {},
   "outputs": [],
   "source": [
    "print(\"Accuracy:\", accuracy_score(y_test_resampled,smoothing(y_pred)))\n",
    "print(\"\\n -------------Classification Report-------------\\n\")\n",
    "print(classification_report(y_test_resampled, y_pred))"
   ]
  },
  {
   "cell_type": "code",
   "execution_count": null,
   "id": "7f78c30b",
   "metadata": {},
   "outputs": [],
   "source": [
    "# set search parameters\n",
    "n_neighbors = [int(x) for x in np.linspace(start = 1, stop = 100, num = 50)]   \n",
    "weights = ['uniform','distance']\n",
    "metric = ['euclidean','manhattan','chebyshev','minkowski'] \n",
    "random_grid = {\n",
    "    'n_neighbors': n_neighbors,\n",
    "    'weights': weights,\n",
    "    'metric': metric,\n",
    "}"
   ]
  },
  {
   "cell_type": "code",
   "execution_count": null,
   "id": "55fb59ae",
   "metadata": {},
   "outputs": [],
   "source": [
    "from sklearn.model_selection import RandomizedSearchCV\n",
    "knn_random = RandomizedSearchCV(estimator = knn, random_state = 42,n_jobs = -1,param_distributions = random_grid,n_iter = 100, cv=3,verbose = 2)\n",
    "knn_random.fit(data3d_X_train, y_train_resampled)\n",
    "knn_random.best_params_"
   ]
  },
  {
   "cell_type": "code",
   "execution_count": null,
   "id": "f2464559",
   "metadata": {},
   "outputs": [],
   "source": [
    "knn_random.best_params_\n",
    "\n",
    "best_estimator = knn_random.best_estimator_\n",
    "\n",
    "best_estimator.fit(data3d_X_train, y_train_resampled)\n",
    "\n",
    "pred = best_estimator.predict(data3d_X_test)\n",
    "\n",
    "accuracy_score(pred, y_test_resampled)"
   ]
  },
  {
   "cell_type": "code",
   "execution_count": null,
   "id": "c0212081",
   "metadata": {},
   "outputs": [],
   "source": [
    "print(\"\\n -------------Classification Report-------------\\n\")\n",
    "print(classification_report(y_test_resampled, pred))"
   ]
  },
  {
   "cell_type": "code",
   "execution_count": null,
   "id": "9f33de5f",
   "metadata": {},
   "outputs": [],
   "source": [
    "GridSearch_table_plot(knn_random, \"n_neighbors\", negative=False)"
   ]
  },
  {
   "cell_type": "code",
   "execution_count": null,
   "id": "d25ff6c1",
   "metadata": {},
   "outputs": [],
   "source": []
  },
  {
   "cell_type": "code",
   "execution_count": null,
   "id": "f47a0e26",
   "metadata": {},
   "outputs": [],
   "source": [
    "y_pred = knn.predict(data3d_X_test)\n",
    "accuracy_score(y_test_resampled, y_pred)"
   ]
  },
  {
   "cell_type": "code",
   "execution_count": null,
   "id": "7643b805",
   "metadata": {},
   "outputs": [],
   "source": [
    "from sklearn import metrics\n",
    "\n",
    "confusion_matrix = metrics.confusion_matrix(y_test_resampled, y_pred)\n",
    "\n",
    "cm_display = metrics.ConfusionMatrixDisplay(confusion_matrix = confusion_matrix, display_labels = [False, True])\n",
    "\n",
    "cm_display.plot()\n"
   ]
  },
  {
   "cell_type": "code",
   "execution_count": null,
   "id": "6a0eaa61",
   "metadata": {},
   "outputs": [],
   "source": [
    "import pickle\n",
    "with open('TSC_data/models_raw_TSC/gl/KNN_TSC_scaled.pkl','wb') as f:\n",
    "    pickle.dump(knn,f)"
   ]
  },
  {
   "cell_type": "markdown",
   "id": "7f438391",
   "metadata": {},
   "source": [
    "## TimeSeriesSVC"
   ]
  },
  {
   "cell_type": "code",
   "execution_count": null,
   "id": "500f8b84",
   "metadata": {},
   "outputs": [],
   "source": [
    "import pickle\n",
    "start = \"models_raw_TSC\\\\\"\n",
    "end = \".pkl\"\n",
    "folder = \"gl\\\\\"\n",
    "ml_type = \"KNN_TSC\"\n",
    "\n",
    "path = start + folder + ml_type + end\n",
    "\n",
    "with open(path, \"rb\") as f:\n",
    "    model = pickle.load(f)"
   ]
  },
  {
   "cell_type": "code",
   "execution_count": null,
   "id": "4660132f",
   "metadata": {},
   "outputs": [],
   "source": [
    "from tslearn.svm import TimeSeriesSVC\n",
    "clf = TimeSeriesSVC(C=1.0, kernel=\"gak\")\n",
    "clf.fit(data3d_X_train,y_train_resampled)"
   ]
  },
  {
   "cell_type": "code",
   "execution_count": null,
   "id": "bed60934",
   "metadata": {},
   "outputs": [],
   "source": [
    "parameters = {'kernel': ['rbf', 'sigmoid'],\n",
    "             'C': [1.0, 100.0, 1000.0],\n",
    "             'gamma': [0.001, 0.01,0.1]}#\n"
   ]
  },
  {
   "cell_type": "code",
   "execution_count": null,
   "id": "bbbcc50f",
   "metadata": {},
   "outputs": [],
   "source": [
    "random_estimator = RandomizedSearchCV(estimator = clf,\n",
    "                                   param_distributions = parameters,\n",
    "                                   cv = 5,\n",
    "                                   n_iter = 10,\n",
    "                                   scoring = 'accuracy',\n",
    "                                   n_jobs = -1,\n",
    "                                   verbose = 1, \n",
    "                                   random_state = 1,\n",
    "                                  )\n",
    "\n",
    "random_estimator.fit(data3d_X_train, y_train_resampled)"
   ]
  },
  {
   "cell_type": "code",
   "execution_count": null,
   "id": "4fe32cb8",
   "metadata": {},
   "outputs": [],
   "source": [
    "random_estimator.best_params_"
   ]
  },
  {
   "cell_type": "code",
   "execution_count": null,
   "id": "2c2632a3",
   "metadata": {},
   "outputs": [],
   "source": [
    "random_estimator.best_params_\n",
    "\n",
    "best_estimator = random_estimator.best_estimator_\n",
    "\n",
    "best_estimator.fit(data3d_X_train, y_train_resampled)\n",
    "\n",
    "pred = best_estimator.predict(data3d_X_test)\n",
    "\n",
    "accuracy_score(pred, smoothing(y_test_resampled))"
   ]
  },
  {
   "cell_type": "code",
   "execution_count": null,
   "id": "3a12cff8",
   "metadata": {},
   "outputs": [],
   "source": [
    "pred = model.predict(data3d_X_test)\n",
    "\n",
    "accuracy_score(y_test_resampled, smoothing(pred))"
   ]
  },
  {
   "cell_type": "code",
   "execution_count": null,
   "id": "1fa7edeb",
   "metadata": {},
   "outputs": [],
   "source": [
    "print(\"\\n -------------Classification Report-------------\\n\")\n",
    "print(classification_report(y_test_resampled, pred))"
   ]
  },
  {
   "cell_type": "code",
   "execution_count": null,
   "id": "678b8465",
   "metadata": {},
   "outputs": [],
   "source": [
    "y_pred = clf.predict(data3d_X_test)\n",
    "accuracy_score(y_test_resampled, smoothing(y_pred))"
   ]
  },
  {
   "cell_type": "code",
   "execution_count": null,
   "id": "e1d6840b",
   "metadata": {},
   "outputs": [],
   "source": [
    "parameters = {'kernel': ['rbf', 'sigmoid', 'poly'],\n",
    "             'C': [0.1, 1.0, 100.0, 1000.0],\n",
    "             'gamma': [0.00001, 0.0001, 0.001, 0.01, 0.1, 1.0],}#\n"
   ]
  },
  {
   "cell_type": "code",
   "execution_count": null,
   "id": "8c7cfe48",
   "metadata": {},
   "outputs": [],
   "source": [
    "random_estimator = RandomizedSearchCV(estimator = clf,\n",
    "                                   param_distributions = parameters,\n",
    "                                   cv = 5,\n",
    "                                   n_iter = 100,\n",
    "                                   scoring = 'accuracy',\n",
    "                                   n_jobs = -1,\n",
    "                                   verbose = 1, \n",
    "                                   random_state = 1,\n",
    "                                  )\n",
    "\n",
    "random_estimator.fit(data3d_X_train, y_train_resampled)"
   ]
  },
  {
   "cell_type": "code",
   "execution_count": null,
   "id": "6caf3ab1",
   "metadata": {},
   "outputs": [],
   "source": [
    "random_estimator.best_params_\n",
    "\n",
    "best_estimator = random_estimator.best_estimator_\n",
    "\n",
    "best_estimator.fit(X_train_data_lr, y_train_resampled)\n",
    "\n",
    "pred = best_estimator.predict(X_test_data_lr)\n",
    "\n",
    "accuracy_score(pred, y_test_resampled)"
   ]
  },
  {
   "cell_type": "code",
   "execution_count": null,
   "id": "0553260b",
   "metadata": {},
   "outputs": [],
   "source": [
    "GridSearch_table_plot(random_estimator, \"gamma\", negative=False)"
   ]
  },
  {
   "cell_type": "code",
   "execution_count": null,
   "id": "626b39ae",
   "metadata": {},
   "outputs": [],
   "source": [
    "from sklearn import metrics\n",
    "print(metrics.classification_report(y_test_resampled, pred))"
   ]
  },
  {
   "cell_type": "code",
   "execution_count": null,
   "id": "c575f6d8",
   "metadata": {},
   "outputs": [],
   "source": []
  },
  {
   "cell_type": "code",
   "execution_count": null,
   "id": "1ee9bf8e",
   "metadata": {},
   "outputs": [],
   "source": []
  },
  {
   "cell_type": "code",
   "execution_count": null,
   "id": "6c9514c3",
   "metadata": {},
   "outputs": [],
   "source": [
    "from sklearn import metrics\n",
    "\n",
    "confusion_matrix = metrics.confusion_matrix(y_test_resampled, y_pred)\n",
    "\n",
    "cm_display = metrics.ConfusionMatrixDisplay(confusion_matrix = confusion_matrix, display_labels = [False, True])\n",
    "\n",
    "cm_display.plot()\n"
   ]
  },
  {
   "cell_type": "code",
   "execution_count": null,
   "id": "e0a8944f",
   "metadata": {},
   "outputs": [],
   "source": [
    "import pickle\n",
    "with open('TSC_data/models_raw_TSC/gl/CLF_TSC.pkl','wb') as f:\n",
    "    pickle.dump(clf,f)"
   ]
  },
  {
   "cell_type": "code",
   "execution_count": null,
   "id": "4802f1f1",
   "metadata": {},
   "outputs": [],
   "source": [
    "print(\"d\")"
   ]
  },
  {
   "cell_type": "markdown",
   "id": "3c0677b4",
   "metadata": {},
   "source": [
    "## Clustering TimeSeriesKMeans"
   ]
  },
  {
   "cell_type": "code",
   "execution_count": null,
   "id": "b7ddef20",
   "metadata": {},
   "outputs": [],
   "source": [
    "from tslearn.clustering import TimeSeriesKMeans\n",
    "km = TimeSeriesKMeans(n_clusters=2, metric=\"dtw\")\n",
    "labels = km.fit_predict(data3d_X_train)\n",
    "\n",
    "\n",
    "km_bis = TimeSeriesKMeans(n_clusters=2, metric=\"softdtw\")\n",
    "labels_bis = km_bis.fit_predict(data3d_X_train)"
   ]
  },
  {
   "cell_type": "code",
   "execution_count": null,
   "id": "62f13151",
   "metadata": {},
   "outputs": [],
   "source": [
    "pred_df = pd.DataFrame({\"actual\":y_train_resampled, \"prediction\":labels})"
   ]
  },
  {
   "cell_type": "code",
   "execution_count": null,
   "id": "f5b732b4",
   "metadata": {},
   "outputs": [],
   "source": [
    "correct = 0\n",
    "for i in range(len(y_train_resampled)):\n",
    "    if labels_bis[i] == y_train_resampled[i]:\n",
    "        correct += 1\n",
    "\n",
    "print(correct/len(y_train_resampled))"
   ]
  },
  {
   "cell_type": "markdown",
   "id": "31b6a90d",
   "metadata": {},
   "source": [
    "## Model Selection with hypterparameter tuning and KNeighborsTimeSeriesClassifier"
   ]
  },
  {
   "cell_type": "code",
   "execution_count": null,
   "id": "4fc2debc",
   "metadata": {
    "scrolled": true
   },
   "outputs": [],
   "source": [
    "from sklearn.model_selection import KFold, GridSearchCV\n",
    "from tslearn.neighbors import KNeighborsTimeSeriesClassifier\n",
    "\n",
    "knn = KNeighborsTimeSeriesClassifier(metric=\"dtw\")\n",
    "p_grid = {\"n_neighbors\": [1, 5]}\n",
    "\n",
    "cv = KFold(n_splits=2, shuffle=True, random_state=0)\n",
    "clf = GridSearchCV(estimator=knn, param_grid=p_grid, cv=cv)\n",
    "clf.fit(data3d_X_train, y_train_resampled)"
   ]
  }
 ],
 "metadata": {
  "kernelspec": {
   "display_name": "Python 3 (ipykernel)",
   "language": "python",
   "name": "python3"
  },
  "language_info": {
   "codemirror_mode": {
    "name": "ipython",
    "version": 3
   },
   "file_extension": ".py",
   "mimetype": "text/x-python",
   "name": "python",
   "nbconvert_exporter": "python",
   "pygments_lexer": "ipython3",
   "version": "3.8.8"
  }
 },
 "nbformat": 4,
 "nbformat_minor": 5
}
