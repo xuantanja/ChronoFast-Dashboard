{
 "cells": [
  {
   "cell_type": "code",
   "execution_count": 2,
   "id": "6de3f8a2",
   "metadata": {},
   "outputs": [
    {
     "data": {
      "text/html": [
       "<style>.container { width:100% !important; }</style>"
      ],
      "text/plain": [
       "<IPython.core.display.HTML object>"
      ]
     },
     "metadata": {},
     "output_type": "display_data"
    }
   ],
   "source": [
    "import cgmquantify as cgm\n",
    "import pandas as pd\n",
    "import datetime as datetime\n",
    "from datetime import date\n",
    "from scipy.stats import stats\n",
    "import numpy as np\n",
    "from IPython.display import display, HTML\n",
    "display(HTML(\"<style>.container { width:100% !important; }</style>\"))\n",
    "from scipy.signal import find_peaks\n",
    "from scipy.stats import stats\n",
    "\n",
    "from sklearn.metrics import accuracy_score, classification_report\n",
    "from sklearn.model_selection import train_test_split\n",
    "from sklearn.linear_model import LogisticRegression\n",
    "from sklearn.tree import DecisionTreeClassifier\n",
    "from sklearn.neighbors import KNeighborsClassifier\n",
    "from sklearn.linear_model import LinearRegression\n",
    "from numpy import mean\n",
    "from numpy import absolute\n",
    "from numpy import sqrt\n",
    "import pandas as pd\n",
    "import warnings\n",
    "warnings.filterwarnings(\"ignore\")\n",
    "\n",
    "from tensorflow import keras\n",
    "import numpy as np\n",
    "import matplotlib.pyplot as plt"
   ]
  },
  {
   "cell_type": "code",
   "execution_count": null,
   "id": "f94e1bc4",
   "metadata": {},
   "outputs": [],
   "source": [
    "!pip install cgmquantify"
   ]
  },
  {
   "cell_type": "code",
   "execution_count": null,
   "id": "184c4cf3",
   "metadata": {},
   "outputs": [],
   "source": [
    "!pip install tslearn"
   ]
  },
  {
   "cell_type": "code",
   "execution_count": null,
   "id": "c4e12220",
   "metadata": {},
   "outputs": [],
   "source": [
    "!pip install imbalanced-learn"
   ]
  },
  {
   "cell_type": "code",
   "execution_count": 42,
   "id": "87902116",
   "metadata": {},
   "outputs": [],
   "source": [
    "df_merged_all = pd.read_csv('df_overnight_and_PRO.csv', sep='\\t')\n"
   ]
  },
  {
   "cell_type": "code",
   "execution_count": 43,
   "id": "9b688b58",
   "metadata": {},
   "outputs": [
    {
     "data": {
      "text/html": [
       "<div>\n",
       "<style scoped>\n",
       "    .dataframe tbody tr th:only-of-type {\n",
       "        vertical-align: middle;\n",
       "    }\n",
       "\n",
       "    .dataframe tbody tr th {\n",
       "        vertical-align: top;\n",
       "    }\n",
       "\n",
       "    .dataframe thead th {\n",
       "        text-align: right;\n",
       "    }\n",
       "</style>\n",
       "<table border=\"1\" class=\"dataframe\">\n",
       "  <thead>\n",
       "    <tr style=\"text-align: right;\">\n",
       "      <th></th>\n",
       "      <th>Unnamed: 0</th>\n",
       "      <th>id</th>\n",
       "      <th>time</th>\n",
       "      <th>gl</th>\n",
       "      <th>phase</th>\n",
       "      <th>label</th>\n",
       "      <th>axis1</th>\n",
       "      <th>axis2</th>\n",
       "      <th>axis3</th>\n",
       "      <th>steps</th>\n",
       "      <th>lux</th>\n",
       "      <th>inclineOff</th>\n",
       "      <th>inclineStanding</th>\n",
       "      <th>inclineSitting</th>\n",
       "      <th>inclineLying</th>\n",
       "      <th>vm</th>\n",
       "      <th>joinID</th>\n",
       "    </tr>\n",
       "  </thead>\n",
       "  <tbody>\n",
       "    <tr>\n",
       "      <th>0</th>\n",
       "      <td>0</td>\n",
       "      <td>1</td>\n",
       "      <td>2020-06-23 12:38:00+00:00</td>\n",
       "      <td>125.0</td>\n",
       "      <td>screening</td>\n",
       "      <td>Undefined</td>\n",
       "      <td>NaN</td>\n",
       "      <td>NaN</td>\n",
       "      <td>NaN</td>\n",
       "      <td>NaN</td>\n",
       "      <td>NaN</td>\n",
       "      <td>NaN</td>\n",
       "      <td>NaN</td>\n",
       "      <td>NaN</td>\n",
       "      <td>NaN</td>\n",
       "      <td>NaN</td>\n",
       "      <td>NaN</td>\n",
       "    </tr>\n",
       "    <tr>\n",
       "      <th>1</th>\n",
       "      <td>1</td>\n",
       "      <td>1</td>\n",
       "      <td>2020-06-23 12:45:00+00:00</td>\n",
       "      <td>120.0</td>\n",
       "      <td>screening</td>\n",
       "      <td>Undefined</td>\n",
       "      <td>NaN</td>\n",
       "      <td>NaN</td>\n",
       "      <td>NaN</td>\n",
       "      <td>NaN</td>\n",
       "      <td>NaN</td>\n",
       "      <td>NaN</td>\n",
       "      <td>NaN</td>\n",
       "      <td>NaN</td>\n",
       "      <td>NaN</td>\n",
       "      <td>NaN</td>\n",
       "      <td>NaN</td>\n",
       "    </tr>\n",
       "    <tr>\n",
       "      <th>2</th>\n",
       "      <td>2</td>\n",
       "      <td>1</td>\n",
       "      <td>2020-06-23 12:45:00+00:00</td>\n",
       "      <td>121.0</td>\n",
       "      <td>screening</td>\n",
       "      <td>Undefined</td>\n",
       "      <td>NaN</td>\n",
       "      <td>NaN</td>\n",
       "      <td>NaN</td>\n",
       "      <td>NaN</td>\n",
       "      <td>NaN</td>\n",
       "      <td>NaN</td>\n",
       "      <td>NaN</td>\n",
       "      <td>NaN</td>\n",
       "      <td>NaN</td>\n",
       "      <td>NaN</td>\n",
       "      <td>NaN</td>\n",
       "    </tr>\n",
       "    <tr>\n",
       "      <th>3</th>\n",
       "      <td>3</td>\n",
       "      <td>1</td>\n",
       "      <td>2020-06-23 12:53:00+00:00</td>\n",
       "      <td>114.0</td>\n",
       "      <td>screening</td>\n",
       "      <td>Undefined</td>\n",
       "      <td>705.0</td>\n",
       "      <td>593.0</td>\n",
       "      <td>1321.0</td>\n",
       "      <td>8.0</td>\n",
       "      <td>0.0</td>\n",
       "      <td>0.0</td>\n",
       "      <td>60.0</td>\n",
       "      <td>0.0</td>\n",
       "      <td>0.0</td>\n",
       "      <td>1611.0</td>\n",
       "      <td>NaN</td>\n",
       "    </tr>\n",
       "    <tr>\n",
       "      <th>4</th>\n",
       "      <td>4</td>\n",
       "      <td>1</td>\n",
       "      <td>2020-06-23 13:09:00+00:00</td>\n",
       "      <td>107.0</td>\n",
       "      <td>screening</td>\n",
       "      <td>Undefined</td>\n",
       "      <td>363.0</td>\n",
       "      <td>266.0</td>\n",
       "      <td>578.0</td>\n",
       "      <td>16.0</td>\n",
       "      <td>0.0</td>\n",
       "      <td>0.0</td>\n",
       "      <td>0.0</td>\n",
       "      <td>1.0</td>\n",
       "      <td>59.0</td>\n",
       "      <td>733.0</td>\n",
       "      <td>NaN</td>\n",
       "    </tr>\n",
       "    <tr>\n",
       "      <th>...</th>\n",
       "      <td>...</td>\n",
       "      <td>...</td>\n",
       "      <td>...</td>\n",
       "      <td>...</td>\n",
       "      <td>...</td>\n",
       "      <td>...</td>\n",
       "      <td>...</td>\n",
       "      <td>...</td>\n",
       "      <td>...</td>\n",
       "      <td>...</td>\n",
       "      <td>...</td>\n",
       "      <td>...</td>\n",
       "      <td>...</td>\n",
       "      <td>...</td>\n",
       "      <td>...</td>\n",
       "      <td>...</td>\n",
       "      <td>...</td>\n",
       "    </tr>\n",
       "    <tr>\n",
       "      <th>112974</th>\n",
       "      <td>112974</td>\n",
       "      <td>47</td>\n",
       "      <td>2021-12-07 07:06:00+00:00</td>\n",
       "      <td>108.0</td>\n",
       "      <td>lTRE</td>\n",
       "      <td>Undefined</td>\n",
       "      <td>5565.0</td>\n",
       "      <td>5930.0</td>\n",
       "      <td>5865.0</td>\n",
       "      <td>36.0</td>\n",
       "      <td>0.0</td>\n",
       "      <td>0.0</td>\n",
       "      <td>60.0</td>\n",
       "      <td>0.0</td>\n",
       "      <td>0.0</td>\n",
       "      <td>10027.0</td>\n",
       "      <td>NaN</td>\n",
       "    </tr>\n",
       "    <tr>\n",
       "      <th>112975</th>\n",
       "      <td>112975</td>\n",
       "      <td>47</td>\n",
       "      <td>2021-12-07 07:21:00+00:00</td>\n",
       "      <td>110.0</td>\n",
       "      <td>lTRE</td>\n",
       "      <td>Undefined</td>\n",
       "      <td>2043.0</td>\n",
       "      <td>2564.0</td>\n",
       "      <td>3787.0</td>\n",
       "      <td>15.0</td>\n",
       "      <td>0.0</td>\n",
       "      <td>0.0</td>\n",
       "      <td>60.0</td>\n",
       "      <td>0.0</td>\n",
       "      <td>0.0</td>\n",
       "      <td>5009.0</td>\n",
       "      <td>NaN</td>\n",
       "    </tr>\n",
       "    <tr>\n",
       "      <th>112976</th>\n",
       "      <td>112976</td>\n",
       "      <td>47</td>\n",
       "      <td>2021-12-07 07:36:00+00:00</td>\n",
       "      <td>110.0</td>\n",
       "      <td>lTRE</td>\n",
       "      <td>Undefined</td>\n",
       "      <td>NaN</td>\n",
       "      <td>171.0</td>\n",
       "      <td>112.0</td>\n",
       "      <td>0.0</td>\n",
       "      <td>0.0</td>\n",
       "      <td>0.0</td>\n",
       "      <td>15.0</td>\n",
       "      <td>45.0</td>\n",
       "      <td>0.0</td>\n",
       "      <td>205.0</td>\n",
       "      <td>47.lTRE.2021-12-07</td>\n",
       "    </tr>\n",
       "    <tr>\n",
       "      <th>112977</th>\n",
       "      <td>112977</td>\n",
       "      <td>47</td>\n",
       "      <td>2021-12-07 07:51:00+00:00</td>\n",
       "      <td>109.0</td>\n",
       "      <td>lTRE</td>\n",
       "      <td>Undefined</td>\n",
       "      <td>4.0</td>\n",
       "      <td>NaN</td>\n",
       "      <td>NaN</td>\n",
       "      <td>0.0</td>\n",
       "      <td>0.0</td>\n",
       "      <td>0.0</td>\n",
       "      <td>0.0</td>\n",
       "      <td>0.0</td>\n",
       "      <td>60.0</td>\n",
       "      <td>4.0</td>\n",
       "      <td>NaN</td>\n",
       "    </tr>\n",
       "    <tr>\n",
       "      <th>112978</th>\n",
       "      <td>112978</td>\n",
       "      <td>47</td>\n",
       "      <td>2021-12-07 08:45:00+00:00</td>\n",
       "      <td>100.0</td>\n",
       "      <td>lTRE</td>\n",
       "      <td>Undefined</td>\n",
       "      <td>23.0</td>\n",
       "      <td>7.0</td>\n",
       "      <td>NaN</td>\n",
       "      <td>1.0</td>\n",
       "      <td>0.0</td>\n",
       "      <td>60.0</td>\n",
       "      <td>0.0</td>\n",
       "      <td>0.0</td>\n",
       "      <td>0.0</td>\n",
       "      <td>25.0</td>\n",
       "      <td>47.lTRE.2021-12-07</td>\n",
       "    </tr>\n",
       "  </tbody>\n",
       "</table>\n",
       "<p>112979 rows × 17 columns</p>\n",
       "</div>"
      ],
      "text/plain": [
       "        Unnamed: 0  id                       time     gl      phase  \\\n",
       "0                0   1  2020-06-23 12:38:00+00:00  125.0  screening   \n",
       "1                1   1  2020-06-23 12:45:00+00:00  120.0  screening   \n",
       "2                2   1  2020-06-23 12:45:00+00:00  121.0  screening   \n",
       "3                3   1  2020-06-23 12:53:00+00:00  114.0  screening   \n",
       "4                4   1  2020-06-23 13:09:00+00:00  107.0  screening   \n",
       "...            ...  ..                        ...    ...        ...   \n",
       "112974      112974  47  2021-12-07 07:06:00+00:00  108.0       lTRE   \n",
       "112975      112975  47  2021-12-07 07:21:00+00:00  110.0       lTRE   \n",
       "112976      112976  47  2021-12-07 07:36:00+00:00  110.0       lTRE   \n",
       "112977      112977  47  2021-12-07 07:51:00+00:00  109.0       lTRE   \n",
       "112978      112978  47  2021-12-07 08:45:00+00:00  100.0       lTRE   \n",
       "\n",
       "            label   axis1   axis2   axis3  steps  lux  inclineOff  \\\n",
       "0       Undefined     NaN     NaN     NaN    NaN  NaN         NaN   \n",
       "1       Undefined     NaN     NaN     NaN    NaN  NaN         NaN   \n",
       "2       Undefined     NaN     NaN     NaN    NaN  NaN         NaN   \n",
       "3       Undefined   705.0   593.0  1321.0    8.0  0.0         0.0   \n",
       "4       Undefined   363.0   266.0   578.0   16.0  0.0         0.0   \n",
       "...           ...     ...     ...     ...    ...  ...         ...   \n",
       "112974  Undefined  5565.0  5930.0  5865.0   36.0  0.0         0.0   \n",
       "112975  Undefined  2043.0  2564.0  3787.0   15.0  0.0         0.0   \n",
       "112976  Undefined     NaN   171.0   112.0    0.0  0.0         0.0   \n",
       "112977  Undefined     4.0     NaN     NaN    0.0  0.0         0.0   \n",
       "112978  Undefined    23.0     7.0     NaN    1.0  0.0        60.0   \n",
       "\n",
       "        inclineStanding  inclineSitting  inclineLying       vm  \\\n",
       "0                   NaN             NaN           NaN      NaN   \n",
       "1                   NaN             NaN           NaN      NaN   \n",
       "2                   NaN             NaN           NaN      NaN   \n",
       "3                  60.0             0.0           0.0   1611.0   \n",
       "4                   0.0             1.0          59.0    733.0   \n",
       "...                 ...             ...           ...      ...   \n",
       "112974             60.0             0.0           0.0  10027.0   \n",
       "112975             60.0             0.0           0.0   5009.0   \n",
       "112976             15.0            45.0           0.0    205.0   \n",
       "112977              0.0             0.0          60.0      4.0   \n",
       "112978              0.0             0.0           0.0     25.0   \n",
       "\n",
       "                    joinID  \n",
       "0                      NaN  \n",
       "1                      NaN  \n",
       "2                      NaN  \n",
       "3                      NaN  \n",
       "4                      NaN  \n",
       "...                    ...  \n",
       "112974                 NaN  \n",
       "112975                 NaN  \n",
       "112976  47.lTRE.2021-12-07  \n",
       "112977                 NaN  \n",
       "112978  47.lTRE.2021-12-07  \n",
       "\n",
       "[112979 rows x 17 columns]"
      ]
     },
     "execution_count": 43,
     "metadata": {},
     "output_type": "execute_result"
    }
   ],
   "source": [
    "df_merged_all"
   ]
  },
  {
   "cell_type": "code",
   "execution_count": 44,
   "id": "7afa4ab7",
   "metadata": {},
   "outputs": [],
   "source": [
    "df_merged_all = df_merged_all.dropna(subset=['axis1', 'axis2', 'axis3'],how='all')\n",
    "\n",
    "df_merged_all['axis1'] = df_merged_all['axis1'].fillna(0)\n",
    "df_merged_all['axis2'] = df_merged_all['axis2'].fillna(0)\n",
    "df_merged_all['axis3'] = df_merged_all['axis3'].fillna(0)\n",
    "\n",
    "df_merged_all['time'] = pd.to_datetime(df_merged_all['time'] ,errors = 'coerce')\n",
    "\n",
    "df_merged_all = df_merged_all.reset_index(drop=True)\n",
    "df_merged_all = df_merged_all.drop([\"Unnamed: 0\", \"joinID\"], axis=1)\n",
    "\n",
    "fasting_states_to_keep = ['fasting', 'non-fasting']\n",
    "df_merged_all = df_merged_all[df_merged_all.label.isin(fasting_states_to_keep)]\n",
    "\n",
    "#phases_to_keep = ['lTRE', 'eTRE']\n",
    "#df_merged_all = df_merged_all[df_merged_all.phase.isin(phases_to_keep)]\n",
    "\n",
    "final_df = df_merged_all.sort_values(by=['id', 'time', \"phase\"], ascending=True)"
   ]
  },
  {
   "cell_type": "code",
   "execution_count": 45,
   "id": "3026258d",
   "metadata": {},
   "outputs": [],
   "source": [
    "final_df = final_df.reset_index(drop=True)"
   ]
  },
  {
   "cell_type": "markdown",
   "id": "753f377c",
   "metadata": {},
   "source": [
    "## Label Encoding"
   ]
  },
  {
   "cell_type": "code",
   "execution_count": 47,
   "id": "f2f86c57",
   "metadata": {},
   "outputs": [],
   "source": [
    "map_dict = {\"non-fasting\": 1, \"fasting\":0}\n",
    "df_train[\"label\"] = df_train[\"label\"].map(map_dict)\n",
    "df_test[\"label\"] = df_test[\"label\"].map(map_dict)"
   ]
  },
  {
   "cell_type": "code",
   "execution_count": 48,
   "id": "33918405",
   "metadata": {},
   "outputs": [],
   "source": [
    "map_dict = {\"screening\": 1, \"lTRE\":0, \"eTRE\":2}\n",
    "df_train[\"phase\"] = df_train[\"phase\"].map(map_dict)\n",
    "df_test[\"phase\"] = df_test[\"phase\"].map(map_dict)"
   ]
  },
  {
   "cell_type": "code",
   "execution_count": 49,
   "id": "f0a84e26",
   "metadata": {},
   "outputs": [
    {
     "data": {
      "text/html": [
       "<div>\n",
       "<style scoped>\n",
       "    .dataframe tbody tr th:only-of-type {\n",
       "        vertical-align: middle;\n",
       "    }\n",
       "\n",
       "    .dataframe tbody tr th {\n",
       "        vertical-align: top;\n",
       "    }\n",
       "\n",
       "    .dataframe thead th {\n",
       "        text-align: right;\n",
       "    }\n",
       "</style>\n",
       "<table border=\"1\" class=\"dataframe\">\n",
       "  <thead>\n",
       "    <tr style=\"text-align: right;\">\n",
       "      <th></th>\n",
       "      <th>id</th>\n",
       "      <th>time</th>\n",
       "      <th>gl</th>\n",
       "      <th>phase</th>\n",
       "      <th>label</th>\n",
       "      <th>axis1</th>\n",
       "      <th>axis2</th>\n",
       "      <th>axis3</th>\n",
       "      <th>steps</th>\n",
       "      <th>lux</th>\n",
       "      <th>inclineOff</th>\n",
       "      <th>inclineStanding</th>\n",
       "      <th>inclineSitting</th>\n",
       "      <th>inclineLying</th>\n",
       "      <th>vm</th>\n",
       "    </tr>\n",
       "  </thead>\n",
       "  <tbody>\n",
       "    <tr>\n",
       "      <th>8203</th>\n",
       "      <td>10</td>\n",
       "      <td>2020-08-11 23:13:00+00:00</td>\n",
       "      <td>81.0</td>\n",
       "      <td>1</td>\n",
       "      <td>0</td>\n",
       "      <td>336.0</td>\n",
       "      <td>187.0</td>\n",
       "      <td>264.0</td>\n",
       "      <td>4.0</td>\n",
       "      <td>0.0</td>\n",
       "      <td>0.0</td>\n",
       "      <td>0.0</td>\n",
       "      <td>39.0</td>\n",
       "      <td>21.0</td>\n",
       "      <td>467.0</td>\n",
       "    </tr>\n",
       "    <tr>\n",
       "      <th>8204</th>\n",
       "      <td>10</td>\n",
       "      <td>2020-08-11 23:28:00+00:00</td>\n",
       "      <td>76.0</td>\n",
       "      <td>1</td>\n",
       "      <td>0</td>\n",
       "      <td>0.0</td>\n",
       "      <td>0.0</td>\n",
       "      <td>83.0</td>\n",
       "      <td>0.0</td>\n",
       "      <td>0.0</td>\n",
       "      <td>0.0</td>\n",
       "      <td>0.0</td>\n",
       "      <td>52.0</td>\n",
       "      <td>8.0</td>\n",
       "      <td>83.0</td>\n",
       "    </tr>\n",
       "    <tr>\n",
       "      <th>8205</th>\n",
       "      <td>10</td>\n",
       "      <td>2020-08-11 23:43:00+00:00</td>\n",
       "      <td>72.0</td>\n",
       "      <td>1</td>\n",
       "      <td>0</td>\n",
       "      <td>652.0</td>\n",
       "      <td>1028.0</td>\n",
       "      <td>897.0</td>\n",
       "      <td>3.0</td>\n",
       "      <td>0.0</td>\n",
       "      <td>0.0</td>\n",
       "      <td>60.0</td>\n",
       "      <td>0.0</td>\n",
       "      <td>0.0</td>\n",
       "      <td>1513.0</td>\n",
       "    </tr>\n",
       "    <tr>\n",
       "      <th>8206</th>\n",
       "      <td>10</td>\n",
       "      <td>2020-08-12 00:13:00+00:00</td>\n",
       "      <td>71.0</td>\n",
       "      <td>1</td>\n",
       "      <td>0</td>\n",
       "      <td>0.0</td>\n",
       "      <td>51.0</td>\n",
       "      <td>166.0</td>\n",
       "      <td>0.0</td>\n",
       "      <td>0.0</td>\n",
       "      <td>0.0</td>\n",
       "      <td>0.0</td>\n",
       "      <td>0.0</td>\n",
       "      <td>60.0</td>\n",
       "      <td>174.0</td>\n",
       "    </tr>\n",
       "    <tr>\n",
       "      <th>8207</th>\n",
       "      <td>10</td>\n",
       "      <td>2020-08-12 00:43:00+00:00</td>\n",
       "      <td>63.0</td>\n",
       "      <td>1</td>\n",
       "      <td>0</td>\n",
       "      <td>253.0</td>\n",
       "      <td>821.0</td>\n",
       "      <td>559.0</td>\n",
       "      <td>3.0</td>\n",
       "      <td>0.0</td>\n",
       "      <td>0.0</td>\n",
       "      <td>0.0</td>\n",
       "      <td>9.0</td>\n",
       "      <td>51.0</td>\n",
       "      <td>1025.0</td>\n",
       "    </tr>\n",
       "    <tr>\n",
       "      <th>...</th>\n",
       "      <td>...</td>\n",
       "      <td>...</td>\n",
       "      <td>...</td>\n",
       "      <td>...</td>\n",
       "      <td>...</td>\n",
       "      <td>...</td>\n",
       "      <td>...</td>\n",
       "      <td>...</td>\n",
       "      <td>...</td>\n",
       "      <td>...</td>\n",
       "      <td>...</td>\n",
       "      <td>...</td>\n",
       "      <td>...</td>\n",
       "      <td>...</td>\n",
       "      <td>...</td>\n",
       "    </tr>\n",
       "    <tr>\n",
       "      <th>59922</th>\n",
       "      <td>47</td>\n",
       "      <td>2021-12-07 02:21:00+00:00</td>\n",
       "      <td>108.0</td>\n",
       "      <td>0</td>\n",
       "      <td>0</td>\n",
       "      <td>421.0</td>\n",
       "      <td>466.0</td>\n",
       "      <td>296.0</td>\n",
       "      <td>5.0</td>\n",
       "      <td>0.0</td>\n",
       "      <td>0.0</td>\n",
       "      <td>60.0</td>\n",
       "      <td>0.0</td>\n",
       "      <td>0.0</td>\n",
       "      <td>695.0</td>\n",
       "    </tr>\n",
       "    <tr>\n",
       "      <th>59923</th>\n",
       "      <td>47</td>\n",
       "      <td>2021-12-07 02:51:00+00:00</td>\n",
       "      <td>112.0</td>\n",
       "      <td>0</td>\n",
       "      <td>0</td>\n",
       "      <td>180.0</td>\n",
       "      <td>716.0</td>\n",
       "      <td>255.0</td>\n",
       "      <td>2.0</td>\n",
       "      <td>0.0</td>\n",
       "      <td>40.0</td>\n",
       "      <td>0.0</td>\n",
       "      <td>0.0</td>\n",
       "      <td>20.0</td>\n",
       "      <td>782.0</td>\n",
       "    </tr>\n",
       "    <tr>\n",
       "      <th>59924</th>\n",
       "      <td>47</td>\n",
       "      <td>2021-12-07 03:21:00+00:00</td>\n",
       "      <td>103.0</td>\n",
       "      <td>0</td>\n",
       "      <td>0</td>\n",
       "      <td>740.0</td>\n",
       "      <td>521.0</td>\n",
       "      <td>251.0</td>\n",
       "      <td>1.0</td>\n",
       "      <td>0.0</td>\n",
       "      <td>0.0</td>\n",
       "      <td>60.0</td>\n",
       "      <td>0.0</td>\n",
       "      <td>0.0</td>\n",
       "      <td>940.0</td>\n",
       "    </tr>\n",
       "    <tr>\n",
       "      <th>59925</th>\n",
       "      <td>47</td>\n",
       "      <td>2021-12-07 03:36:00+00:00</td>\n",
       "      <td>102.0</td>\n",
       "      <td>0</td>\n",
       "      <td>0</td>\n",
       "      <td>486.0</td>\n",
       "      <td>536.0</td>\n",
       "      <td>260.0</td>\n",
       "      <td>2.0</td>\n",
       "      <td>0.0</td>\n",
       "      <td>0.0</td>\n",
       "      <td>60.0</td>\n",
       "      <td>0.0</td>\n",
       "      <td>0.0</td>\n",
       "      <td>769.0</td>\n",
       "    </tr>\n",
       "    <tr>\n",
       "      <th>59926</th>\n",
       "      <td>47</td>\n",
       "      <td>2021-12-07 03:51:00+00:00</td>\n",
       "      <td>106.0</td>\n",
       "      <td>0</td>\n",
       "      <td>0</td>\n",
       "      <td>564.0</td>\n",
       "      <td>1011.0</td>\n",
       "      <td>547.0</td>\n",
       "      <td>4.0</td>\n",
       "      <td>0.0</td>\n",
       "      <td>0.0</td>\n",
       "      <td>60.0</td>\n",
       "      <td>0.0</td>\n",
       "      <td>0.0</td>\n",
       "      <td>1281.0</td>\n",
       "    </tr>\n",
       "  </tbody>\n",
       "</table>\n",
       "<p>51724 rows × 15 columns</p>\n",
       "</div>"
      ],
      "text/plain": [
       "       id                      time     gl  phase  label  axis1   axis2  \\\n",
       "8203   10 2020-08-11 23:13:00+00:00   81.0      1      0  336.0   187.0   \n",
       "8204   10 2020-08-11 23:28:00+00:00   76.0      1      0    0.0     0.0   \n",
       "8205   10 2020-08-11 23:43:00+00:00   72.0      1      0  652.0  1028.0   \n",
       "8206   10 2020-08-12 00:13:00+00:00   71.0      1      0    0.0    51.0   \n",
       "8207   10 2020-08-12 00:43:00+00:00   63.0      1      0  253.0   821.0   \n",
       "...    ..                       ...    ...    ...    ...    ...     ...   \n",
       "59922  47 2021-12-07 02:21:00+00:00  108.0      0      0  421.0   466.0   \n",
       "59923  47 2021-12-07 02:51:00+00:00  112.0      0      0  180.0   716.0   \n",
       "59924  47 2021-12-07 03:21:00+00:00  103.0      0      0  740.0   521.0   \n",
       "59925  47 2021-12-07 03:36:00+00:00  102.0      0      0  486.0   536.0   \n",
       "59926  47 2021-12-07 03:51:00+00:00  106.0      0      0  564.0  1011.0   \n",
       "\n",
       "       axis3  steps  lux  inclineOff  inclineStanding  inclineSitting  \\\n",
       "8203   264.0    4.0  0.0         0.0              0.0            39.0   \n",
       "8204    83.0    0.0  0.0         0.0              0.0            52.0   \n",
       "8205   897.0    3.0  0.0         0.0             60.0             0.0   \n",
       "8206   166.0    0.0  0.0         0.0              0.0             0.0   \n",
       "8207   559.0    3.0  0.0         0.0              0.0             9.0   \n",
       "...      ...    ...  ...         ...              ...             ...   \n",
       "59922  296.0    5.0  0.0         0.0             60.0             0.0   \n",
       "59923  255.0    2.0  0.0        40.0              0.0             0.0   \n",
       "59924  251.0    1.0  0.0         0.0             60.0             0.0   \n",
       "59925  260.0    2.0  0.0         0.0             60.0             0.0   \n",
       "59926  547.0    4.0  0.0         0.0             60.0             0.0   \n",
       "\n",
       "       inclineLying      vm  \n",
       "8203           21.0   467.0  \n",
       "8204            8.0    83.0  \n",
       "8205            0.0  1513.0  \n",
       "8206           60.0   174.0  \n",
       "8207           51.0  1025.0  \n",
       "...             ...     ...  \n",
       "59922           0.0   695.0  \n",
       "59923          20.0   782.0  \n",
       "59924           0.0   940.0  \n",
       "59925           0.0   769.0  \n",
       "59926           0.0  1281.0  \n",
       "\n",
       "[51724 rows x 15 columns]"
      ]
     },
     "execution_count": 49,
     "metadata": {},
     "output_type": "execute_result"
    }
   ],
   "source": [
    "df_train"
   ]
  },
  {
   "cell_type": "markdown",
   "id": "d2b5a293",
   "metadata": {},
   "source": [
    "## Saving and Loading the featured Data"
   ]
  },
  {
   "cell_type": "code",
   "execution_count": 50,
   "id": "62f04bf9",
   "metadata": {},
   "outputs": [],
   "source": [
    "train_labels = df_train[\"label\"]\n",
    "test_labels = df_test[\"label\"]"
   ]
  },
  {
   "cell_type": "code",
   "execution_count": 51,
   "id": "3fd0b0ea",
   "metadata": {},
   "outputs": [],
   "source": [
    "y_train = np.array(train_labels)\n",
    "y_test = np.array(test_labels)"
   ]
  },
  {
   "cell_type": "code",
   "execution_count": 52,
   "id": "2292f009",
   "metadata": {},
   "outputs": [],
   "source": [
    "y_train_float = y_train\n",
    "y_test_float = y_test"
   ]
  },
  {
   "cell_type": "code",
   "execution_count": 12,
   "id": "5a7676e7",
   "metadata": {},
   "outputs": [
    {
     "data": {
      "text/plain": [
       "[0, 1]"
      ]
     },
     "execution_count": 12,
     "metadata": {},
     "output_type": "execute_result"
    }
   ],
   "source": [
    "mylist = list(set(y_train_float))\n",
    "mylist"
   ]
  },
  {
   "cell_type": "markdown",
   "id": "0775fefa",
   "metadata": {},
   "source": [
    "## Building the time series"
   ]
  },
  {
   "cell_type": "markdown",
   "id": "faf543d9",
   "metadata": {},
   "source": [
    "### Test-dataset"
   ]
  },
  {
   "cell_type": "code",
   "execution_count": 53,
   "id": "41d9516b",
   "metadata": {},
   "outputs": [],
   "source": [
    "X_test = df_test"
   ]
  },
  {
   "cell_type": "markdown",
   "id": "add213b2",
   "metadata": {},
   "source": [
    "### acc and gl"
   ]
  },
  {
   "cell_type": "code",
   "execution_count": 15,
   "id": "57d6b5bb",
   "metadata": {},
   "outputs": [],
   "source": [
    "from datetime import datetime\n",
    "\n",
    "\n",
    "X_test.time = pd.to_datetime(X_test.time)\n",
    "\n",
    "x_list_test_tsc_1st = []\n",
    "test_labels_tsc = []\n",
    "x_list_test_tsc_2nd = []\n",
    "counter=0\n",
    "\n",
    "\n",
    "last_time_before = X_test['time'].values[0]\n",
    "\n",
    "for i in range(0, X_test.shape[0], 1):\n",
    "    time = X_test['time'].values[i]\n",
    "    gl =  X_test['gl'].values[i]\n",
    "    axis1 = X_test['axis1'].values[i]\n",
    "    axis2 = X_test['axis2'].values[i]\n",
    "    axis3 = X_test['axis3'].values[i]\n",
    "    steps = X_test['steps'].values[i]\n",
    "    lux = X_test['lux'].values[i]\n",
    "    inclineStanding = X_test['inclineStanding'].values[i]\n",
    "    inclineSitting = X_test['inclineSitting'].values[i]\n",
    "    inclineLying = X_test['inclineLying'].values[i]\n",
    "    vm = X_test['vm'].values[i]\n",
    "\n",
    "    timedelta_first =  time - last_time_before\n",
    "\n",
    "    one_hour = 3600000000000\n",
    "    \n",
    "    if timedelta_first < one_hour and counter < 5:\n",
    "        x_list_test_tsc_3rd = []\n",
    "        x_list_test_tsc_3rd.append(gl)\n",
    "        x_list_test_tsc_3rd.append(axis1)\n",
    "        x_list_test_tsc_3rd.append(axis2)\n",
    "        x_list_test_tsc_3rd.append(axis3)\n",
    "        x_list_test_tsc_3rd.append(steps)\n",
    "        x_list_test_tsc_3rd.append(lux)\n",
    "        x_list_test_tsc_3rd.append(inclineStanding)\n",
    "        x_list_test_tsc_3rd.append(inclineSitting)\n",
    "        x_list_test_tsc_3rd.append(inclineLying)\n",
    "        x_list_test_tsc_3rd.append(vm)\n",
    "\n",
    "        x_list_test_tsc_2nd.append(x_list_test_tsc_3rd)\n",
    "    \n",
    "    else:\n",
    "        \n",
    "        if counter == 5:\n",
    "            x_list_test_tsc_1st.append(x_list_test_tsc_2nd)\n",
    "            test_labels_tsc.append(y_test_float[i])\n",
    "            \n",
    "        counter = 0\n",
    "        x_list_test_tsc_2nd = [] \n",
    "        x_list_test_tsc_3rd = []\n",
    "        x_list_test_tsc_3rd.append(gl)\n",
    "        x_list_test_tsc_3rd.append(axis1)\n",
    "        x_list_test_tsc_3rd.append(axis2)\n",
    "        x_list_test_tsc_3rd.append(axis3)\n",
    "        x_list_test_tsc_3rd.append(steps)\n",
    "        x_list_test_tsc_3rd.append(lux)\n",
    "        x_list_test_tsc_3rd.append(inclineStanding)\n",
    "        x_list_test_tsc_3rd.append(inclineSitting)\n",
    "        x_list_test_tsc_3rd.append(inclineLying)\n",
    "        x_list_test_tsc_3rd.append(vm)\n",
    "        x_list_test_tsc_2nd.append(x_list_test_tsc_3rd)\n",
    "        \n",
    "    counter += 1\n",
    "    \n",
    "    last_time_before = time\n"
   ]
  },
  {
   "cell_type": "markdown",
   "id": "059457e9",
   "metadata": {},
   "source": [
    "### gl"
   ]
  },
  {
   "cell_type": "code",
   "execution_count": 14,
   "id": "597a620e",
   "metadata": {},
   "outputs": [],
   "source": [
    "from datetime import datetime\n",
    "\n",
    "\n",
    "X_test.time = pd.to_datetime(X_test.time)\n",
    "\n",
    "x_list_test_tsc_1st = []\n",
    "test_labels_tsc = []\n",
    "x_list_test_tsc_2nd = []\n",
    "counter=0\n",
    "\n",
    "\n",
    "last_time_before = X_test['time'].values[0]\n",
    "\n",
    "for i in range(0, X_test.shape[0], 1):\n",
    "    time = X_test['time'].values[i]\n",
    "    gl =  X_test['gl'].values[i]\n",
    "\n",
    "    \n",
    "    timedelta_first =  time - last_time_before\n",
    "\n",
    "    one_hour = 3600000000000\n",
    "    \n",
    "    if timedelta_first < one_hour and counter < 5:\n",
    "        x_list_test_tsc_3rd = []\n",
    "        x_list_test_tsc_3rd.append(gl)\n",
    "\n",
    "        x_list_test_tsc_2nd.append(x_list_test_tsc_3rd)\n",
    "    \n",
    "    else:\n",
    "        \n",
    "        if counter == 5:\n",
    "            x_list_test_tsc_1st.append(x_list_test_tsc_2nd)\n",
    "            test_labels_tsc.append(y_test_float[i])\n",
    "            \n",
    "        counter = 0\n",
    "        x_list_test_tsc_2nd = [] \n",
    "        x_list_test_tsc_3rd = []\n",
    "        x_list_test_tsc_3rd.append(gl)\n",
    "        x_list_test_tsc_2nd.append(x_list_test_tsc_3rd)\n",
    "        \n",
    "    counter += 1\n",
    "    \n",
    "    last_time_before = time"
   ]
  },
  {
   "cell_type": "markdown",
   "id": "41813a14",
   "metadata": {},
   "source": [
    "### acc"
   ]
  },
  {
   "cell_type": "code",
   "execution_count": 54,
   "id": "5202a233",
   "metadata": {},
   "outputs": [],
   "source": [
    "from datetime import datetime\n",
    "\n",
    "\n",
    "X_test.time = pd.to_datetime(X_test.time)\n",
    "\n",
    "x_list_test_tsc_1st = []\n",
    "test_labels_tsc = []\n",
    "x_list_test_tsc_2nd = []\n",
    "counter=0\n",
    "\n",
    "\n",
    "last_time_before = X_test['time'].values[0]\n",
    "\n",
    "for i in range(0, X_test.shape[0], 1):\n",
    "    time = X_test['time'].values[i]\n",
    "    axis1 = X_test['axis1'].values[i]\n",
    "    axis2 = X_test['axis2'].values[i]\n",
    "    axis3 = X_test['axis3'].values[i]\n",
    "    steps = X_test['steps'].values[i]\n",
    "    lux = X_test['lux'].values[i]\n",
    "    inclineStanding = X_test['inclineStanding'].values[i]\n",
    "    inclineSitting = X_test['inclineSitting'].values[i]\n",
    "    inclineLying = X_test['inclineLying'].values[i]\n",
    "    vm = X_test['vm'].values[i]\n",
    "    \n",
    "    timedelta_first =  time - last_time_before\n",
    "\n",
    "    one_hour = 3600000000000\n",
    "    \n",
    "    if timedelta_first < one_hour and counter < 5:\n",
    "        x_list_test_tsc_3rd = []\n",
    "\n",
    "        x_list_test_tsc_3rd.append(axis1)\n",
    "        x_list_test_tsc_3rd.append(axis2)\n",
    "        x_list_test_tsc_3rd.append(axis3)\n",
    "        x_list_test_tsc_3rd.append(steps)\n",
    "        x_list_test_tsc_3rd.append(lux)\n",
    "        x_list_test_tsc_3rd.append(inclineStanding)\n",
    "        x_list_test_tsc_3rd.append(inclineSitting)\n",
    "        x_list_test_tsc_3rd.append(inclineLying)\n",
    "        x_list_test_tsc_3rd.append(vm)\n",
    "        x_list_test_tsc_2nd.append(x_list_test_tsc_3rd)\n",
    "    \n",
    "    else:\n",
    "        \n",
    "        if counter == 5:\n",
    "            x_list_test_tsc_1st.append(x_list_test_tsc_2nd)\n",
    "            test_labels_tsc.append(y_test_float[i])\n",
    "            \n",
    "        counter = 0\n",
    "        x_list_test_tsc_2nd = [] \n",
    "        x_list_test_tsc_3rd = []\n",
    "\n",
    "        x_list_test_tsc_3rd.append(axis1)\n",
    "        x_list_test_tsc_3rd.append(axis2)\n",
    "        x_list_test_tsc_3rd.append(axis3)\n",
    "        x_list_test_tsc_3rd.append(steps)\n",
    "        x_list_test_tsc_3rd.append(lux)\n",
    "        x_list_test_tsc_3rd.append(inclineStanding)\n",
    "        x_list_test_tsc_3rd.append(inclineSitting)\n",
    "        x_list_test_tsc_3rd.append(inclineLying)\n",
    "        x_list_test_tsc_3rd.append(vm)\n",
    "        x_list_test_tsc_2nd.append(x_list_test_tsc_3rd)\n",
    "        \n",
    "    counter += 1\n",
    "    \n",
    "    last_time_before = time"
   ]
  },
  {
   "cell_type": "markdown",
   "id": "4ed9ac1b",
   "metadata": {},
   "source": [
    "### Train-Dataset"
   ]
  },
  {
   "cell_type": "code",
   "execution_count": 55,
   "id": "807c6295",
   "metadata": {},
   "outputs": [],
   "source": [
    "X_train = df_train"
   ]
  },
  {
   "cell_type": "code",
   "execution_count": 17,
   "id": "4c70e5f8",
   "metadata": {},
   "outputs": [],
   "source": [
    "from datetime import datetime\n",
    "\n",
    "\n",
    "X_train.time = pd.to_datetime(X_train.time)\n",
    "\n",
    "\n",
    "x_list_train_tsc_1st = []\n",
    "train_labels_tsc = []\n",
    "x_list_train_tsc_2nd = []\n",
    "counter = 0\n",
    "\n",
    "\n",
    "last_time_before = X_train['time'].values[0]\n",
    "\n",
    "\n",
    "\n",
    "for i in range(0, X_train.shape[0], 1):\n",
    "    time = X_train['time'].values[i]\n",
    "    gl =  X_train['gl'].values[i]\n",
    "    axis1 = X_train['axis1'].values[i]\n",
    "    axis2 = X_train['axis2'].values[i]\n",
    "    axis3 = X_train['axis3'].values[i]\n",
    "    steps = X_train['steps'].values[i]\n",
    "    lux = X_train['lux'].values[i]\n",
    "    inclineStanding = X_train['inclineStanding'].values[i]\n",
    "    inclineSitting = X_train['inclineSitting'].values[i]\n",
    "    inclineLying = X_train['inclineLying'].values[i]\n",
    "    vm = X_train['vm'].values[i]\n",
    "    \n",
    "    timedelta_first =  time - last_time_before\n",
    "\n",
    "    one_hour = 3600000000000\n",
    "    \n",
    "    if timedelta_first < one_hour and counter < 5:\n",
    "        \n",
    "        x_list_train_tsc_3rd = []\n",
    "        x_list_train_tsc_3rd.append(gl)\n",
    "        x_list_train_tsc_3rd.append(axis1)\n",
    "        x_list_train_tsc_3rd.append(axis2)\n",
    "        x_list_train_tsc_3rd.append(axis3)\n",
    "        x_list_train_tsc_3rd.append(steps)\n",
    "        x_list_train_tsc_3rd.append(lux)\n",
    "        x_list_train_tsc_3rd.append(inclineStanding)\n",
    "        x_list_train_tsc_3rd.append(inclineSitting)\n",
    "        x_list_train_tsc_3rd.append(inclineLying)\n",
    "        x_list_train_tsc_3rd.append(vm)\n",
    "        x_list_train_tsc_2nd.append(x_list_train_tsc_3rd)\n",
    "    \n",
    "    else:\n",
    "        if counter == 5:\n",
    "            x_list_train_tsc_1st.append(x_list_train_tsc_2nd)\n",
    "            train_labels_tsc.append(y_train_float[i])\n",
    "            \n",
    "        counter = 0\n",
    "        x_list_train_tsc_2nd = [] \n",
    "        x_list_train_tsc_3rd = []\n",
    "        x_list_train_tsc_3rd.append(gl)\n",
    "        x_list_train_tsc_3rd.append(axis1)\n",
    "        x_list_train_tsc_3rd.append(axis2)\n",
    "        x_list_train_tsc_3rd.append(axis3)\n",
    "        x_list_train_tsc_3rd.append(steps)\n",
    "        x_list_train_tsc_3rd.append(lux)\n",
    "        x_list_train_tsc_3rd.append(inclineStanding)\n",
    "        x_list_train_tsc_3rd.append(inclineSitting)\n",
    "        x_list_train_tsc_3rd.append(inclineLying)\n",
    "        x_list_train_tsc_3rd.append(vm)\n",
    "        x_list_train_tsc_2nd.append(x_list_train_tsc_3rd)\n",
    "    counter += 1\n",
    "    last_time_before = time"
   ]
  },
  {
   "cell_type": "markdown",
   "id": "fefb6fe1",
   "metadata": {},
   "source": [
    "### gl"
   ]
  },
  {
   "cell_type": "code",
   "execution_count": 17,
   "id": "4fea75d9",
   "metadata": {},
   "outputs": [],
   "source": [
    "from datetime import datetime\n",
    "\n",
    "\n",
    "X_train.time = pd.to_datetime(X_train.time)\n",
    "\n",
    "\n",
    "x_list_train_tsc_1st = []\n",
    "train_labels_tsc = []\n",
    "x_list_train_tsc_2nd = []\n",
    "counter = 0\n",
    "\n",
    "\n",
    "last_time_before = X_train['time'].values[0]\n",
    "\n",
    "\n",
    "\n",
    "for i in range(0, X_train.shape[0], 1):\n",
    "    time = X_train['time'].values[i]\n",
    "    gl =  X_train['gl'].values[i]\n",
    "    timedelta_first =  time - last_time_before\n",
    "\n",
    "    one_hour = 3600000000000\n",
    "    \n",
    "    if timedelta_first < one_hour and counter < 5:\n",
    "        \n",
    "        x_list_train_tsc_3rd = []\n",
    "        x_list_train_tsc_3rd.append(gl)\n",
    "\n",
    "        x_list_train_tsc_2nd.append(x_list_train_tsc_3rd)\n",
    "    \n",
    "    else:\n",
    "        if counter == 5:\n",
    "            x_list_train_tsc_1st.append(x_list_train_tsc_2nd)\n",
    "            train_labels_tsc.append(y_train_float[i])\n",
    "            \n",
    "        counter = 0\n",
    "        x_list_train_tsc_2nd = [] \n",
    "        x_list_train_tsc_3rd = []\n",
    "        x_list_train_tsc_3rd.append(gl)\n",
    "\n",
    "        x_list_train_tsc_2nd.append(x_list_train_tsc_3rd)\n",
    "    counter += 1\n",
    "    last_time_before = time"
   ]
  },
  {
   "cell_type": "markdown",
   "id": "7f5866ee",
   "metadata": {},
   "source": [
    "### acc"
   ]
  },
  {
   "cell_type": "code",
   "execution_count": 56,
   "id": "a4dc12e9",
   "metadata": {},
   "outputs": [],
   "source": [
    "from datetime import datetime\n",
    "\n",
    "\n",
    "X_train.time = pd.to_datetime(X_train.time)\n",
    "\n",
    "\n",
    "x_list_train_tsc_1st = []\n",
    "train_labels_tsc = []\n",
    "x_list_train_tsc_2nd = []\n",
    "counter = 0\n",
    "\n",
    "\n",
    "last_time_before = X_train['time'].values[0]\n",
    "\n",
    "\n",
    "\n",
    "for i in range(0, X_train.shape[0], 1):\n",
    "    time = X_train['time'].values[i]\n",
    "    axis1 = X_train['axis1'].values[i]\n",
    "    axis2 = X_train['axis2'].values[i]\n",
    "    axis3 = X_train['axis3'].values[i]\n",
    "    steps = X_train['steps'].values[i]\n",
    "    lux = X_train['lux'].values[i]\n",
    "    inclineStanding = X_train['inclineStanding'].values[i]\n",
    "    inclineSitting = X_train['inclineSitting'].values[i]\n",
    "    inclineLying = X_train['inclineLying'].values[i]\n",
    "    vm = X_train['vm'].values[i]\n",
    "    \n",
    "    timedelta_first =  time - last_time_before\n",
    "\n",
    "    one_hour = 3600000000000\n",
    "    \n",
    "    if timedelta_first < one_hour and counter < 5:\n",
    "        \n",
    "        x_list_train_tsc_3rd = []\n",
    "        x_list_train_tsc_3rd.append(axis1)\n",
    "        x_list_train_tsc_3rd.append(axis2)\n",
    "        x_list_train_tsc_3rd.append(axis3)\n",
    "        x_list_train_tsc_3rd.append(steps)\n",
    "        x_list_train_tsc_3rd.append(lux)\n",
    "        x_list_train_tsc_3rd.append(inclineStanding)\n",
    "        x_list_train_tsc_3rd.append(inclineSitting)\n",
    "        x_list_train_tsc_3rd.append(inclineLying)\n",
    "        x_list_train_tsc_3rd.append(vm)\n",
    "        x_list_train_tsc_2nd.append(x_list_train_tsc_3rd)\n",
    "    \n",
    "    else:\n",
    "        if counter == 5:\n",
    "            x_list_train_tsc_1st.append(x_list_train_tsc_2nd)\n",
    "            train_labels_tsc.append(y_train_float[i])\n",
    "            \n",
    "        counter = 0\n",
    "        x_list_train_tsc_2nd = [] \n",
    "        x_list_train_tsc_3rd = []\n",
    "        x_list_train_tsc_3rd.append(axis1)\n",
    "        x_list_train_tsc_3rd.append(axis2)\n",
    "        x_list_train_tsc_3rd.append(axis3)\n",
    "        x_list_train_tsc_3rd.append(steps)\n",
    "        x_list_train_tsc_3rd.append(lux)\n",
    "        x_list_train_tsc_3rd.append(inclineStanding)\n",
    "        x_list_train_tsc_3rd.append(inclineSitting)\n",
    "        x_list_train_tsc_3rd.append(inclineLying)\n",
    "        x_list_train_tsc_3rd.append(vm)\n",
    "        \n",
    "        x_list_train_tsc_2nd.append(x_list_train_tsc_3rd)\n",
    "    counter += 1\n",
    "    last_time_before = time"
   ]
  },
  {
   "cell_type": "markdown",
   "id": "63b829f8",
   "metadata": {},
   "source": [
    "# TS Learn Classification"
   ]
  },
  {
   "cell_type": "markdown",
   "id": "9a5ae5d5",
   "metadata": {},
   "source": [
    "### To Time Series Dataset"
   ]
  },
  {
   "cell_type": "code",
   "execution_count": 57,
   "id": "6c065a96",
   "metadata": {},
   "outputs": [],
   "source": [
    "from tslearn.utils import to_time_series_dataset\n",
    "from tslearn.neighbors import KNeighborsTimeSeriesClassifier\n",
    "from tslearn import generators\n"
   ]
  },
  {
   "cell_type": "code",
   "execution_count": 58,
   "id": "41418cd8",
   "metadata": {},
   "outputs": [],
   "source": [
    "X_train =to_time_series_dataset(x_list_train_tsc_1st)\n",
    "X_test =to_time_series_dataset(x_list_test_tsc_1st)"
   ]
  },
  {
   "cell_type": "code",
   "execution_count": 59,
   "id": "6483c4a6",
   "metadata": {},
   "outputs": [],
   "source": [
    "y_train =  np.array(train_labels_tsc)\n",
    "y_test =  np.array(test_labels_tsc)"
   ]
  },
  {
   "cell_type": "markdown",
   "id": "b5496386",
   "metadata": {},
   "source": [
    "### Checking for Balance"
   ]
  },
  {
   "cell_type": "code",
   "execution_count": 60,
   "id": "9607085f",
   "metadata": {},
   "outputs": [
    {
     "name": "stdout",
     "output_type": "stream",
     "text": [
      "dict_keys([1, 0])\n",
      "dict_values([1148, 319])\n",
      "dict_keys([0, 1])\n",
      "dict_values([2410, 7146])\n"
     ]
    }
   ],
   "source": [
    "from collections import Counter\n",
    "print(Counter(y_test).keys()) # equals to list(set(words))\n",
    "print(Counter(y_test).values()) # counts the elements' frequency\n",
    "print(Counter(y_train).keys()) # equals to list(set(words))\n",
    "print(Counter(y_train).values()) # counts the elements' frequency"
   ]
  },
  {
   "cell_type": "code",
   "execution_count": 61,
   "id": "31271be7",
   "metadata": {},
   "outputs": [],
   "source": [
    "data2d_test = X_test.reshape(X_test.shape[0], -1)\n",
    "data2d_train = X_train.reshape(X_train.shape[0], -1)"
   ]
  },
  {
   "cell_type": "code",
   "execution_count": 62,
   "id": "399194ca",
   "metadata": {},
   "outputs": [
    {
     "name": "stdout",
     "output_type": "stream",
     "text": [
      "(1467, 5, 9)\n",
      "(9556, 5, 9)\n",
      "(1467, 45)\n",
      "(9556, 45)\n"
     ]
    }
   ],
   "source": [
    "print(X_test.shape)\n",
    "print(X_train.shape)\n",
    "print(data2d_test.shape)\n",
    "print(data2d_train.shape)"
   ]
  },
  {
   "cell_type": "markdown",
   "id": "d291f890",
   "metadata": {},
   "source": [
    "### Undersampling with Random Selection"
   ]
  },
  {
   "cell_type": "code",
   "execution_count": 63,
   "id": "582ee9bd",
   "metadata": {},
   "outputs": [],
   "source": [
    "from imblearn.under_sampling import RandomUnderSampler\n",
    "import collections\n",
    "rus = RandomUnderSampler(random_state=0, replacement=True)\n",
    "data2d_test_resampled , y_test_resampled = rus.fit_resample(data2d_test, y_test)\n",
    "data2d_train_resampled , y_train_resampled = rus.fit_resample(data2d_train, y_train)"
   ]
  },
  {
   "cell_type": "code",
   "execution_count": 64,
   "id": "a3c93898",
   "metadata": {},
   "outputs": [
    {
     "name": "stdout",
     "output_type": "stream",
     "text": [
      "(638, 45)\n",
      "(4820, 45)\n"
     ]
    }
   ],
   "source": [
    "print(data2d_test_resampled.shape)\n",
    "print(data2d_train_resampled.shape)"
   ]
  },
  {
   "cell_type": "code",
   "execution_count": 65,
   "id": "e5404f12",
   "metadata": {},
   "outputs": [
    {
     "name": "stdout",
     "output_type": "stream",
     "text": [
      "dict_keys([0, 1])\n",
      "dict_values([319, 319])\n",
      "dict_keys([0, 1])\n",
      "dict_values([2410, 2410])\n"
     ]
    }
   ],
   "source": [
    "from collections import Counter\n",
    "print(Counter(y_test_resampled).keys()) # equals to list(set(words))\n",
    "print(Counter(y_test_resampled).values()) # counts the elements' frequency\n",
    "print(Counter(y_train_resampled).keys()) # equals to list(set(words))\n",
    "print(Counter(y_train_resampled).values()) # counts the elements' frequency"
   ]
  },
  {
   "cell_type": "code",
   "execution_count": 66,
   "id": "326cf507",
   "metadata": {},
   "outputs": [
    {
     "data": {
      "text/plain": [
       "638"
      ]
     },
     "execution_count": 66,
     "metadata": {},
     "output_type": "execute_result"
    }
   ],
   "source": [
    "data2d_test_resampled.shape[0]"
   ]
  },
  {
   "cell_type": "code",
   "execution_count": 67,
   "id": "4ca47df5",
   "metadata": {},
   "outputs": [],
   "source": [
    "scaler = MinMaxScaler()\n",
    "scaler.fit(data2d_train_resampled)\n",
    "data2d_train_resampled = scaler.transform(data2d_train_resampled)\n",
    "data2d_test_resampled = scaler.transform(data2d_test_resampled)"
   ]
  },
  {
   "cell_type": "code",
   "execution_count": 68,
   "id": "cfd93d2f",
   "metadata": {},
   "outputs": [],
   "source": [
    "data3d_X_test = data2d_test_resampled.reshape(-1, X_test.shape[1], X_test.shape[2])\n",
    "data3d_X_train = data2d_train_resampled.reshape(-1, X_train.shape[1], X_train.shape[2])"
   ]
  },
  {
   "cell_type": "code",
   "execution_count": 69,
   "id": "786122bf",
   "metadata": {},
   "outputs": [
    {
     "name": "stdout",
     "output_type": "stream",
     "text": [
      "(638, 5, 9)\n",
      "(4820, 5, 9)\n"
     ]
    }
   ],
   "source": [
    "print(data3d_X_test.shape)\n",
    "print(data3d_X_train.shape)"
   ]
  },
  {
   "cell_type": "code",
   "execution_count": null,
   "id": "29012641",
   "metadata": {},
   "outputs": [],
   "source": []
  },
  {
   "cell_type": "code",
   "execution_count": 31,
   "id": "1ef841ca",
   "metadata": {},
   "outputs": [],
   "source": [
    "def GridSearch_table_plot(grid_clf, param_name,\n",
    "                          num_results=15,\n",
    "                          negative=True,\n",
    "                          graph=True,\n",
    "                          display_all_params=True):\n",
    "\n",
    "    '''Display grid search results\n",
    "\n",
    "    Arguments\n",
    "    ---------\n",
    "\n",
    "    grid_clf           the estimator resulting from a grid search\n",
    "                       for example: grid_clf = GridSearchCV( ...\n",
    "\n",
    "    param_name         a string with the name of the parameter being tested\n",
    "\n",
    "    num_results        an integer indicating the number of results to display\n",
    "                       Default: 15\n",
    "\n",
    "    negative           boolean: should the sign of the score be reversed?\n",
    "                       scoring = 'neg_log_loss', for instance\n",
    "                       Default: True\n",
    "\n",
    "    graph              boolean: should a graph be produced?\n",
    "                       non-numeric parameters (True/False, None) don't graph well\n",
    "                       Default: True\n",
    "\n",
    "    display_all_params boolean: should we print out all of the parameters, not just the ones searched for?\n",
    "                       Default: True\n",
    "\n",
    "    Usage\n",
    "    -----\n",
    "\n",
    "    GridSearch_table_plot(grid_clf, \"min_samples_leaf\")\n",
    "\n",
    "                          '''\n",
    "    from matplotlib      import pyplot as plt\n",
    "    from IPython.display import display\n",
    "    import pandas as pd\n",
    "\n",
    "    clf = grid_clf.best_estimator_\n",
    "    clf_params = grid_clf.best_params_\n",
    "    if negative:\n",
    "        clf_score = -grid_clf.best_score_\n",
    "    else:\n",
    "        clf_score = grid_clf.best_score_\n",
    "    clf_stdev = grid_clf.cv_results_['std_test_score'][grid_clf.best_index_]\n",
    "    cv_results = grid_clf.cv_results_\n",
    "\n",
    "    print(\"best parameters: {}\".format(clf_params))\n",
    "    print(\"best score:      {:0.5f} (+/-{:0.5f})\".format(clf_score, clf_stdev))\n",
    "    if display_all_params:\n",
    "        import pprint\n",
    "        pprint.pprint(clf.get_params())\n",
    "\n",
    "    # pick out the best results\n",
    "    # =========================\n",
    "    scores_df = pd.DataFrame(cv_results).sort_values(by='rank_test_score')\n",
    "\n",
    "    best_row = scores_df.iloc[0, :]\n",
    "    if negative:\n",
    "        best_mean = -best_row['mean_test_score']\n",
    "    else:\n",
    "        best_mean = best_row['mean_test_score']\n",
    "    best_stdev = best_row['std_test_score']\n",
    "    best_param = best_row['param_' + param_name]\n",
    "\n",
    "    # display the top 'num_results' results\n",
    "    # =====================================\n",
    "    display(pd.DataFrame(cv_results) \\\n",
    "            .sort_values(by='rank_test_score').head(num_results))\n",
    "\n",
    "    # plot the results\n",
    "    # ================\n",
    "    scores_df = scores_df.sort_values(by='param_' + param_name)\n",
    "\n",
    "    if negative:\n",
    "        means = -scores_df['mean_test_score']\n",
    "    else:\n",
    "        means = scores_df['mean_test_score']\n",
    "    stds = scores_df['std_test_score']\n",
    "    params = scores_df['param_' + param_name]\n",
    "\n",
    "    # plot\n",
    "    if graph:\n",
    "        plt.figure(figsize=(8, 8))\n",
    "        plt.errorbar(params, means, yerr=stds)\n",
    "\n",
    "        plt.axhline(y=best_mean + best_stdev, color='red')\n",
    "        plt.axhline(y=best_mean - best_stdev, color='red')\n",
    "        plt.plot(best_param, best_mean, 'or')\n",
    "\n",
    "        plt.title(param_name + \" vs Score\\nBest Score {:0.5f}\".format(clf_score))\n",
    "        plt.xlabel(param_name)\n",
    "        plt.ylabel('Score')\n",
    "        plt.show()"
   ]
  },
  {
   "cell_type": "code",
   "execution_count": null,
   "id": "d3ca99a4",
   "metadata": {},
   "outputs": [],
   "source": []
  },
  {
   "cell_type": "code",
   "execution_count": 31,
   "id": "05ff6713",
   "metadata": {},
   "outputs": [],
   "source": [
    "from numpy.lib.stride_tricks import sliding_window_view\n",
    "\n",
    "\n",
    "def smoothing(y_pred):\n",
    "    \n",
    "    outcomes = np.array([])\n",
    "    last_four_values = y_pred[-4:]\n",
    "    \n",
    "    y_pred_windowed = sliding_window_view((y_pred), window_shape = 5)\n",
    "\n",
    "    i = 0\n",
    "    for window in y_pred_windowed:\n",
    "        pred_one = np.count_nonzero(window == 1)\n",
    "        pred_zero = 5 - pred_one\n",
    "        if pred_one > pred_zero:\n",
    "            outcome = int(1)\n",
    "            outcomes = np.append(outcomes, outcome)\n",
    "        else:\n",
    "            outcome = int(0)\n",
    "            outcomes = np.append(outcomes, outcome)\n",
    "    \n",
    "    outcomes = np.append(outcomes, last_four_values)\n",
    "            \n",
    "    \n",
    "    return outcomes"
   ]
  },
  {
   "cell_type": "markdown",
   "id": "d622f05f",
   "metadata": {},
   "source": [
    "## KNeighborsTimeSeriesClassifier"
   ]
  },
  {
   "cell_type": "code",
   "execution_count": null,
   "id": "5716d72f",
   "metadata": {},
   "outputs": [],
   "source": []
  },
  {
   "cell_type": "code",
   "execution_count": 32,
   "id": "2889f952",
   "metadata": {},
   "outputs": [],
   "source": [
    "from sklearn.model_selection import RandomizedSearchCV\n"
   ]
  },
  {
   "cell_type": "code",
   "execution_count": null,
   "id": "4d773a83",
   "metadata": {},
   "outputs": [],
   "source": []
  },
  {
   "cell_type": "code",
   "execution_count": 70,
   "id": "d2a31dbb",
   "metadata": {},
   "outputs": [
    {
     "data": {
      "text/html": [
       "<style>#sk-container-id-2 {color: black;background-color: white;}#sk-container-id-2 pre{padding: 0;}#sk-container-id-2 div.sk-toggleable {background-color: white;}#sk-container-id-2 label.sk-toggleable__label {cursor: pointer;display: block;width: 100%;margin-bottom: 0;padding: 0.3em;box-sizing: border-box;text-align: center;}#sk-container-id-2 label.sk-toggleable__label-arrow:before {content: \"▸\";float: left;margin-right: 0.25em;color: #696969;}#sk-container-id-2 label.sk-toggleable__label-arrow:hover:before {color: black;}#sk-container-id-2 div.sk-estimator:hover label.sk-toggleable__label-arrow:before {color: black;}#sk-container-id-2 div.sk-toggleable__content {max-height: 0;max-width: 0;overflow: hidden;text-align: left;background-color: #f0f8ff;}#sk-container-id-2 div.sk-toggleable__content pre {margin: 0.2em;color: black;border-radius: 0.25em;background-color: #f0f8ff;}#sk-container-id-2 input.sk-toggleable__control:checked~div.sk-toggleable__content {max-height: 200px;max-width: 100%;overflow: auto;}#sk-container-id-2 input.sk-toggleable__control:checked~label.sk-toggleable__label-arrow:before {content: \"▾\";}#sk-container-id-2 div.sk-estimator input.sk-toggleable__control:checked~label.sk-toggleable__label {background-color: #d4ebff;}#sk-container-id-2 div.sk-label input.sk-toggleable__control:checked~label.sk-toggleable__label {background-color: #d4ebff;}#sk-container-id-2 input.sk-hidden--visually {border: 0;clip: rect(1px 1px 1px 1px);clip: rect(1px, 1px, 1px, 1px);height: 1px;margin: -1px;overflow: hidden;padding: 0;position: absolute;width: 1px;}#sk-container-id-2 div.sk-estimator {font-family: monospace;background-color: #f0f8ff;border: 1px dotted black;border-radius: 0.25em;box-sizing: border-box;margin-bottom: 0.5em;}#sk-container-id-2 div.sk-estimator:hover {background-color: #d4ebff;}#sk-container-id-2 div.sk-parallel-item::after {content: \"\";width: 100%;border-bottom: 1px solid gray;flex-grow: 1;}#sk-container-id-2 div.sk-label:hover label.sk-toggleable__label {background-color: #d4ebff;}#sk-container-id-2 div.sk-serial::before {content: \"\";position: absolute;border-left: 1px solid gray;box-sizing: border-box;top: 0;bottom: 0;left: 50%;z-index: 0;}#sk-container-id-2 div.sk-serial {display: flex;flex-direction: column;align-items: center;background-color: white;padding-right: 0.2em;padding-left: 0.2em;position: relative;}#sk-container-id-2 div.sk-item {position: relative;z-index: 1;}#sk-container-id-2 div.sk-parallel {display: flex;align-items: stretch;justify-content: center;background-color: white;position: relative;}#sk-container-id-2 div.sk-item::before, #sk-container-id-2 div.sk-parallel-item::before {content: \"\";position: absolute;border-left: 1px solid gray;box-sizing: border-box;top: 0;bottom: 0;left: 50%;z-index: -1;}#sk-container-id-2 div.sk-parallel-item {display: flex;flex-direction: column;z-index: 1;position: relative;background-color: white;}#sk-container-id-2 div.sk-parallel-item:first-child::after {align-self: flex-end;width: 50%;}#sk-container-id-2 div.sk-parallel-item:last-child::after {align-self: flex-start;width: 50%;}#sk-container-id-2 div.sk-parallel-item:only-child::after {width: 0;}#sk-container-id-2 div.sk-dashed-wrapped {border: 1px dashed gray;margin: 0 0.4em 0.5em 0.4em;box-sizing: border-box;padding-bottom: 0.4em;background-color: white;}#sk-container-id-2 div.sk-label label {font-family: monospace;font-weight: bold;display: inline-block;line-height: 1.2em;}#sk-container-id-2 div.sk-label-container {text-align: center;}#sk-container-id-2 div.sk-container {/* jupyter's `normalize.less` sets `[hidden] { display: none; }` but bootstrap.min.css set `[hidden] { display: none !important; }` so we also need the `!important` here to be able to override the default hidden behavior on the sphinx rendered scikit-learn.org. See: https://github.com/scikit-learn/scikit-learn/issues/21755 */display: inline-block !important;position: relative;}#sk-container-id-2 div.sk-text-repr-fallback {display: none;}</style><div id=\"sk-container-id-2\" class=\"sk-top-container\"><div class=\"sk-text-repr-fallback\"><pre>KNeighborsTimeSeriesClassifier(n_neighbors=93)</pre><b>In a Jupyter environment, please rerun this cell to show the HTML representation or trust the notebook. <br />On GitHub, the HTML representation is unable to render, please try loading this page with nbviewer.org.</b></div><div class=\"sk-container\" hidden><div class=\"sk-item\"><div class=\"sk-estimator sk-toggleable\"><input class=\"sk-toggleable__control sk-hidden--visually\" id=\"sk-estimator-id-2\" type=\"checkbox\" checked><label for=\"sk-estimator-id-2\" class=\"sk-toggleable__label sk-toggleable__label-arrow\">KNeighborsTimeSeriesClassifier</label><div class=\"sk-toggleable__content\"><pre>KNeighborsTimeSeriesClassifier(n_neighbors=93)</pre></div></div></div></div></div>"
      ],
      "text/plain": [
       "KNeighborsTimeSeriesClassifier(n_neighbors=93)"
      ]
     },
     "execution_count": 70,
     "metadata": {},
     "output_type": "execute_result"
    }
   ],
   "source": [
    "from tslearn.neighbors import KNeighborsTimeSeriesClassifier\n",
    "knn = KNeighborsTimeSeriesClassifier(n_neighbors=93)\n",
    "knn.fit(data3d_X_train, y_train_resampled)"
   ]
  },
  {
   "cell_type": "code",
   "execution_count": 71,
   "id": "860b2a84",
   "metadata": {},
   "outputs": [],
   "source": [
    "y_pred = knn.predict(data3d_X_test)"
   ]
  },
  {
   "cell_type": "code",
   "execution_count": 73,
   "id": "d7a8a968",
   "metadata": {},
   "outputs": [
    {
     "name": "stdout",
     "output_type": "stream",
     "text": [
      "Accuracy: 0.7601880877742947\n",
      "\n",
      " -------------Classification Report-------------\n",
      "\n",
      "              precision    recall  f1-score   support\n",
      "\n",
      "           0       0.63      0.76      0.69       319\n",
      "           1       0.70      0.55      0.61       319\n",
      "\n",
      "    accuracy                           0.66       638\n",
      "   macro avg       0.66      0.66      0.65       638\n",
      "weighted avg       0.66      0.66      0.65       638\n",
      "\n"
     ]
    }
   ],
   "source": [
    "print(\"Accuracy:\", accuracy_score(y_test_resampled,smoothing(y_pred)))\n",
    "print(\"\\n -------------Classification Report-------------\\n\")\n",
    "print(classification_report(y_test_resampled, y_pred))"
   ]
  },
  {
   "cell_type": "code",
   "execution_count": 30,
   "id": "7f78c30b",
   "metadata": {},
   "outputs": [],
   "source": [
    "# set search parameters\n",
    "n_neighbors = [int(x) for x in np.linspace(start = 1, stop = 100, num = 50)]   \n",
    "weights = ['uniform','distance']\n",
    "metric = ['euclidean','manhattan','chebyshev','minkowski'] \n",
    "random_grid = {\n",
    "    'n_neighbors': n_neighbors,\n",
    "    'weights': weights,\n",
    "    'metric': metric,\n",
    "}"
   ]
  },
  {
   "cell_type": "code",
   "execution_count": 31,
   "id": "55fb59ae",
   "metadata": {},
   "outputs": [
    {
     "name": "stdout",
     "output_type": "stream",
     "text": [
      "Fitting 3 folds for each of 100 candidates, totalling 300 fits\n"
     ]
    },
    {
     "data": {
      "text/plain": [
       "{'weights': 'distance', 'n_neighbors': 93, 'metric': 'euclidean'}"
      ]
     },
     "execution_count": 31,
     "metadata": {},
     "output_type": "execute_result"
    }
   ],
   "source": [
    "from sklearn.model_selection import RandomizedSearchCV\n",
    "knn_random = RandomizedSearchCV(estimator = knn, random_state = 42,n_jobs = -1,param_distributions = random_grid,n_iter = 100, cv=3,verbose = 2)\n",
    "knn_random.fit(data3d_X_train, y_train_resampled)\n",
    "knn_random.best_params_"
   ]
  },
  {
   "cell_type": "code",
   "execution_count": 32,
   "id": "f2464559",
   "metadata": {},
   "outputs": [
    {
     "data": {
      "text/plain": [
       "0.677115987460815"
      ]
     },
     "execution_count": 32,
     "metadata": {},
     "output_type": "execute_result"
    }
   ],
   "source": [
    "knn_random.best_params_\n",
    "\n",
    "best_estimator = knn_random.best_estimator_\n",
    "\n",
    "best_estimator.fit(data3d_X_train, y_train_resampled)\n",
    "\n",
    "pred = best_estimator.predict(data3d_X_test)\n",
    "\n",
    "accuracy_score(pred, y_test_resampled)"
   ]
  },
  {
   "cell_type": "code",
   "execution_count": 33,
   "id": "c0212081",
   "metadata": {},
   "outputs": [
    {
     "name": "stdout",
     "output_type": "stream",
     "text": [
      "\n",
      " -------------Classification Report-------------\n",
      "\n",
      "              precision    recall  f1-score   support\n",
      "\n",
      "           0       0.66      0.73      0.69       319\n",
      "           1       0.70      0.63      0.66       319\n",
      "\n",
      "    accuracy                           0.68       638\n",
      "   macro avg       0.68      0.68      0.68       638\n",
      "weighted avg       0.68      0.68      0.68       638\n",
      "\n"
     ]
    }
   ],
   "source": [
    "print(\"\\n -------------Classification Report-------------\\n\")\n",
    "print(classification_report(y_test_resampled, pred))"
   ]
  },
  {
   "cell_type": "code",
   "execution_count": 35,
   "id": "9f33de5f",
   "metadata": {},
   "outputs": [
    {
     "name": "stdout",
     "output_type": "stream",
     "text": [
      "best parameters: {'weights': 'distance', 'n_neighbors': 93, 'metric': 'euclidean'}\n",
      "best score:      0.78216 (+/-0.00994)\n",
      "{'metric': 'euclidean',\n",
      " 'metric_params': None,\n",
      " 'n_jobs': None,\n",
      " 'n_neighbors': 93,\n",
      " 'verbose': 0,\n",
      " 'weights': 'distance'}\n"
     ]
    },
    {
     "data": {
      "text/html": [
       "<div>\n",
       "<style scoped>\n",
       "    .dataframe tbody tr th:only-of-type {\n",
       "        vertical-align: middle;\n",
       "    }\n",
       "\n",
       "    .dataframe tbody tr th {\n",
       "        vertical-align: top;\n",
       "    }\n",
       "\n",
       "    .dataframe thead th {\n",
       "        text-align: right;\n",
       "    }\n",
       "</style>\n",
       "<table border=\"1\" class=\"dataframe\">\n",
       "  <thead>\n",
       "    <tr style=\"text-align: right;\">\n",
       "      <th></th>\n",
       "      <th>mean_fit_time</th>\n",
       "      <th>std_fit_time</th>\n",
       "      <th>mean_score_time</th>\n",
       "      <th>std_score_time</th>\n",
       "      <th>param_weights</th>\n",
       "      <th>param_n_neighbors</th>\n",
       "      <th>param_metric</th>\n",
       "      <th>params</th>\n",
       "      <th>split0_test_score</th>\n",
       "      <th>split1_test_score</th>\n",
       "      <th>split2_test_score</th>\n",
       "      <th>mean_test_score</th>\n",
       "      <th>std_test_score</th>\n",
       "      <th>rank_test_score</th>\n",
       "    </tr>\n",
       "  </thead>\n",
       "  <tbody>\n",
       "    <tr>\n",
       "      <th>4</th>\n",
       "      <td>0.302332</td>\n",
       "      <td>0.009177</td>\n",
       "      <td>0.445667</td>\n",
       "      <td>0.002868</td>\n",
       "      <td>distance</td>\n",
       "      <td>93</td>\n",
       "      <td>euclidean</td>\n",
       "      <td>{'weights': 'distance', 'n_neighbors': 93, 'me...</td>\n",
       "      <td>0.795893</td>\n",
       "      <td>0.777847</td>\n",
       "      <td>0.772727</td>\n",
       "      <td>0.782156</td>\n",
       "      <td>0.009936</td>\n",
       "      <td>1</td>\n",
       "    </tr>\n",
       "    <tr>\n",
       "      <th>20</th>\n",
       "      <td>0.339667</td>\n",
       "      <td>0.009286</td>\n",
       "      <td>0.459001</td>\n",
       "      <td>0.002160</td>\n",
       "      <td>distance</td>\n",
       "      <td>77</td>\n",
       "      <td>euclidean</td>\n",
       "      <td>{'weights': 'distance', 'n_neighbors': 77, 'me...</td>\n",
       "      <td>0.792159</td>\n",
       "      <td>0.782203</td>\n",
       "      <td>0.772105</td>\n",
       "      <td>0.782156</td>\n",
       "      <td>0.008187</td>\n",
       "      <td>2</td>\n",
       "    </tr>\n",
       "    <tr>\n",
       "      <th>99</th>\n",
       "      <td>0.293999</td>\n",
       "      <td>0.006482</td>\n",
       "      <td>0.254332</td>\n",
       "      <td>0.008654</td>\n",
       "      <td>distance</td>\n",
       "      <td>75</td>\n",
       "      <td>euclidean</td>\n",
       "      <td>{'weights': 'distance', 'n_neighbors': 75, 'me...</td>\n",
       "      <td>0.789048</td>\n",
       "      <td>0.781581</td>\n",
       "      <td>0.771482</td>\n",
       "      <td>0.780703</td>\n",
       "      <td>0.007198</td>\n",
       "      <td>3</td>\n",
       "    </tr>\n",
       "    <tr>\n",
       "      <th>69</th>\n",
       "      <td>0.304665</td>\n",
       "      <td>0.007040</td>\n",
       "      <td>0.437333</td>\n",
       "      <td>0.001247</td>\n",
       "      <td>distance</td>\n",
       "      <td>73</td>\n",
       "      <td>euclidean</td>\n",
       "      <td>{'weights': 'distance', 'n_neighbors': 73, 'me...</td>\n",
       "      <td>0.790292</td>\n",
       "      <td>0.782203</td>\n",
       "      <td>0.768991</td>\n",
       "      <td>0.780496</td>\n",
       "      <td>0.008780</td>\n",
       "      <td>4</td>\n",
       "    </tr>\n",
       "    <tr>\n",
       "      <th>33</th>\n",
       "      <td>0.305666</td>\n",
       "      <td>0.003091</td>\n",
       "      <td>0.435001</td>\n",
       "      <td>0.009416</td>\n",
       "      <td>distance</td>\n",
       "      <td>57</td>\n",
       "      <td>euclidean</td>\n",
       "      <td>{'weights': 'distance', 'n_neighbors': 57, 'me...</td>\n",
       "      <td>0.787181</td>\n",
       "      <td>0.781581</td>\n",
       "      <td>0.770859</td>\n",
       "      <td>0.779874</td>\n",
       "      <td>0.006772</td>\n",
       "      <td>5</td>\n",
       "    </tr>\n",
       "    <tr>\n",
       "      <th>85</th>\n",
       "      <td>0.304998</td>\n",
       "      <td>0.006976</td>\n",
       "      <td>0.434000</td>\n",
       "      <td>0.005657</td>\n",
       "      <td>distance</td>\n",
       "      <td>63</td>\n",
       "      <td>euclidean</td>\n",
       "      <td>{'weights': 'distance', 'n_neighbors': 63, 'me...</td>\n",
       "      <td>0.785937</td>\n",
       "      <td>0.780336</td>\n",
       "      <td>0.772105</td>\n",
       "      <td>0.779459</td>\n",
       "      <td>0.005681</td>\n",
       "      <td>6</td>\n",
       "    </tr>\n",
       "    <tr>\n",
       "      <th>43</th>\n",
       "      <td>0.308670</td>\n",
       "      <td>0.005793</td>\n",
       "      <td>0.435663</td>\n",
       "      <td>0.004191</td>\n",
       "      <td>distance</td>\n",
       "      <td>25</td>\n",
       "      <td>euclidean</td>\n",
       "      <td>{'weights': 'distance', 'n_neighbors': 25, 'me...</td>\n",
       "      <td>0.772869</td>\n",
       "      <td>0.783447</td>\n",
       "      <td>0.776463</td>\n",
       "      <td>0.777593</td>\n",
       "      <td>0.004392</td>\n",
       "      <td>7</td>\n",
       "    </tr>\n",
       "    <tr>\n",
       "      <th>41</th>\n",
       "      <td>0.312666</td>\n",
       "      <td>0.005437</td>\n",
       "      <td>0.436000</td>\n",
       "      <td>0.006532</td>\n",
       "      <td>distance</td>\n",
       "      <td>55</td>\n",
       "      <td>euclidean</td>\n",
       "      <td>{'weights': 'distance', 'n_neighbors': 55, 'me...</td>\n",
       "      <td>0.781581</td>\n",
       "      <td>0.781581</td>\n",
       "      <td>0.768991</td>\n",
       "      <td>0.777384</td>\n",
       "      <td>0.005935</td>\n",
       "      <td>8</td>\n",
       "    </tr>\n",
       "    <tr>\n",
       "      <th>2</th>\n",
       "      <td>0.758333</td>\n",
       "      <td>0.010872</td>\n",
       "      <td>0.408333</td>\n",
       "      <td>0.006600</td>\n",
       "      <td>distance</td>\n",
       "      <td>33</td>\n",
       "      <td>euclidean</td>\n",
       "      <td>{'weights': 'distance', 'n_neighbors': 33, 'me...</td>\n",
       "      <td>0.774113</td>\n",
       "      <td>0.781581</td>\n",
       "      <td>0.773973</td>\n",
       "      <td>0.776555</td>\n",
       "      <td>0.003554</td>\n",
       "      <td>9</td>\n",
       "    </tr>\n",
       "    <tr>\n",
       "      <th>73</th>\n",
       "      <td>0.305999</td>\n",
       "      <td>0.007118</td>\n",
       "      <td>0.442001</td>\n",
       "      <td>0.003742</td>\n",
       "      <td>distance</td>\n",
       "      <td>45</td>\n",
       "      <td>euclidean</td>\n",
       "      <td>{'weights': 'distance', 'n_neighbors': 45, 'me...</td>\n",
       "      <td>0.777225</td>\n",
       "      <td>0.779714</td>\n",
       "      <td>0.772105</td>\n",
       "      <td>0.776348</td>\n",
       "      <td>0.003168</td>\n",
       "      <td>10</td>\n",
       "    </tr>\n",
       "    <tr>\n",
       "      <th>65</th>\n",
       "      <td>0.310999</td>\n",
       "      <td>0.004320</td>\n",
       "      <td>0.440667</td>\n",
       "      <td>0.009285</td>\n",
       "      <td>distance</td>\n",
       "      <td>31</td>\n",
       "      <td>euclidean</td>\n",
       "      <td>{'weights': 'distance', 'n_neighbors': 31, 'me...</td>\n",
       "      <td>0.768513</td>\n",
       "      <td>0.782825</td>\n",
       "      <td>0.775218</td>\n",
       "      <td>0.775519</td>\n",
       "      <td>0.005847</td>\n",
       "      <td>11</td>\n",
       "    </tr>\n",
       "    <tr>\n",
       "      <th>55</th>\n",
       "      <td>0.313331</td>\n",
       "      <td>0.002497</td>\n",
       "      <td>0.427333</td>\n",
       "      <td>0.005793</td>\n",
       "      <td>distance</td>\n",
       "      <td>39</td>\n",
       "      <td>euclidean</td>\n",
       "      <td>{'weights': 'distance', 'n_neighbors': 39, 'me...</td>\n",
       "      <td>0.780336</td>\n",
       "      <td>0.776602</td>\n",
       "      <td>0.768991</td>\n",
       "      <td>0.775310</td>\n",
       "      <td>0.004721</td>\n",
       "      <td>12</td>\n",
       "    </tr>\n",
       "    <tr>\n",
       "      <th>21</th>\n",
       "      <td>0.348000</td>\n",
       "      <td>0.010230</td>\n",
       "      <td>0.466667</td>\n",
       "      <td>0.003858</td>\n",
       "      <td>distance</td>\n",
       "      <td>15</td>\n",
       "      <td>euclidean</td>\n",
       "      <td>{'weights': 'distance', 'n_neighbors': 15, 'me...</td>\n",
       "      <td>0.764779</td>\n",
       "      <td>0.778469</td>\n",
       "      <td>0.772727</td>\n",
       "      <td>0.771992</td>\n",
       "      <td>0.005613</td>\n",
       "      <td>13</td>\n",
       "    </tr>\n",
       "    <tr>\n",
       "      <th>10</th>\n",
       "      <td>0.314333</td>\n",
       "      <td>0.008654</td>\n",
       "      <td>0.438000</td>\n",
       "      <td>0.012356</td>\n",
       "      <td>distance</td>\n",
       "      <td>9</td>\n",
       "      <td>euclidean</td>\n",
       "      <td>{'weights': 'distance', 'n_neighbors': 9, 'met...</td>\n",
       "      <td>0.759179</td>\n",
       "      <td>0.777847</td>\n",
       "      <td>0.762765</td>\n",
       "      <td>0.766597</td>\n",
       "      <td>0.008089</td>\n",
       "      <td>14</td>\n",
       "    </tr>\n",
       "    <tr>\n",
       "      <th>72</th>\n",
       "      <td>0.305000</td>\n",
       "      <td>0.007789</td>\n",
       "      <td>0.430333</td>\n",
       "      <td>0.003858</td>\n",
       "      <td>distance</td>\n",
       "      <td>5</td>\n",
       "      <td>euclidean</td>\n",
       "      <td>{'weights': 'distance', 'n_neighbors': 5, 'met...</td>\n",
       "      <td>0.748600</td>\n",
       "      <td>0.764779</td>\n",
       "      <td>0.752179</td>\n",
       "      <td>0.755186</td>\n",
       "      <td>0.006939</td>\n",
       "      <td>15</td>\n",
       "    </tr>\n",
       "  </tbody>\n",
       "</table>\n",
       "</div>"
      ],
      "text/plain": [
       "    mean_fit_time  std_fit_time  mean_score_time  std_score_time  \\\n",
       "4        0.302332      0.009177         0.445667        0.002868   \n",
       "20       0.339667      0.009286         0.459001        0.002160   \n",
       "99       0.293999      0.006482         0.254332        0.008654   \n",
       "69       0.304665      0.007040         0.437333        0.001247   \n",
       "33       0.305666      0.003091         0.435001        0.009416   \n",
       "85       0.304998      0.006976         0.434000        0.005657   \n",
       "43       0.308670      0.005793         0.435663        0.004191   \n",
       "41       0.312666      0.005437         0.436000        0.006532   \n",
       "2        0.758333      0.010872         0.408333        0.006600   \n",
       "73       0.305999      0.007118         0.442001        0.003742   \n",
       "65       0.310999      0.004320         0.440667        0.009285   \n",
       "55       0.313331      0.002497         0.427333        0.005793   \n",
       "21       0.348000      0.010230         0.466667        0.003858   \n",
       "10       0.314333      0.008654         0.438000        0.012356   \n",
       "72       0.305000      0.007789         0.430333        0.003858   \n",
       "\n",
       "   param_weights param_n_neighbors param_metric  \\\n",
       "4       distance                93    euclidean   \n",
       "20      distance                77    euclidean   \n",
       "99      distance                75    euclidean   \n",
       "69      distance                73    euclidean   \n",
       "33      distance                57    euclidean   \n",
       "85      distance                63    euclidean   \n",
       "43      distance                25    euclidean   \n",
       "41      distance                55    euclidean   \n",
       "2       distance                33    euclidean   \n",
       "73      distance                45    euclidean   \n",
       "65      distance                31    euclidean   \n",
       "55      distance                39    euclidean   \n",
       "21      distance                15    euclidean   \n",
       "10      distance                 9    euclidean   \n",
       "72      distance                 5    euclidean   \n",
       "\n",
       "                                               params  split0_test_score  \\\n",
       "4   {'weights': 'distance', 'n_neighbors': 93, 'me...           0.795893   \n",
       "20  {'weights': 'distance', 'n_neighbors': 77, 'me...           0.792159   \n",
       "99  {'weights': 'distance', 'n_neighbors': 75, 'me...           0.789048   \n",
       "69  {'weights': 'distance', 'n_neighbors': 73, 'me...           0.790292   \n",
       "33  {'weights': 'distance', 'n_neighbors': 57, 'me...           0.787181   \n",
       "85  {'weights': 'distance', 'n_neighbors': 63, 'me...           0.785937   \n",
       "43  {'weights': 'distance', 'n_neighbors': 25, 'me...           0.772869   \n",
       "41  {'weights': 'distance', 'n_neighbors': 55, 'me...           0.781581   \n",
       "2   {'weights': 'distance', 'n_neighbors': 33, 'me...           0.774113   \n",
       "73  {'weights': 'distance', 'n_neighbors': 45, 'me...           0.777225   \n",
       "65  {'weights': 'distance', 'n_neighbors': 31, 'me...           0.768513   \n",
       "55  {'weights': 'distance', 'n_neighbors': 39, 'me...           0.780336   \n",
       "21  {'weights': 'distance', 'n_neighbors': 15, 'me...           0.764779   \n",
       "10  {'weights': 'distance', 'n_neighbors': 9, 'met...           0.759179   \n",
       "72  {'weights': 'distance', 'n_neighbors': 5, 'met...           0.748600   \n",
       "\n",
       "    split1_test_score  split2_test_score  mean_test_score  std_test_score  \\\n",
       "4            0.777847           0.772727         0.782156        0.009936   \n",
       "20           0.782203           0.772105         0.782156        0.008187   \n",
       "99           0.781581           0.771482         0.780703        0.007198   \n",
       "69           0.782203           0.768991         0.780496        0.008780   \n",
       "33           0.781581           0.770859         0.779874        0.006772   \n",
       "85           0.780336           0.772105         0.779459        0.005681   \n",
       "43           0.783447           0.776463         0.777593        0.004392   \n",
       "41           0.781581           0.768991         0.777384        0.005935   \n",
       "2            0.781581           0.773973         0.776555        0.003554   \n",
       "73           0.779714           0.772105         0.776348        0.003168   \n",
       "65           0.782825           0.775218         0.775519        0.005847   \n",
       "55           0.776602           0.768991         0.775310        0.004721   \n",
       "21           0.778469           0.772727         0.771992        0.005613   \n",
       "10           0.777847           0.762765         0.766597        0.008089   \n",
       "72           0.764779           0.752179         0.755186        0.006939   \n",
       "\n",
       "    rank_test_score  \n",
       "4                 1  \n",
       "20                2  \n",
       "99                3  \n",
       "69                4  \n",
       "33                5  \n",
       "85                6  \n",
       "43                7  \n",
       "41                8  \n",
       "2                 9  \n",
       "73               10  \n",
       "65               11  \n",
       "55               12  \n",
       "21               13  \n",
       "10               14  \n",
       "72               15  "
      ]
     },
     "metadata": {},
     "output_type": "display_data"
    },
    {
     "data": {
      "image/png": "[encoded data removed]",
      "text/plain": [
       "<Figure size 576x576 with 1 Axes>"
      ]
     },
     "metadata": {
      "needs_background": "light"
     },
     "output_type": "display_data"
    }
   ],
   "source": [
    "GridSearch_table_plot(knn_random, \"n_neighbors\", negative=False)"
   ]
  },
  {
   "cell_type": "code",
   "execution_count": null,
   "id": "d25ff6c1",
   "metadata": {},
   "outputs": [],
   "source": []
  },
  {
   "cell_type": "code",
   "execution_count": 41,
   "id": "f47a0e26",
   "metadata": {},
   "outputs": [
    {
     "data": {
      "text/plain": [
       "0.647196261682243"
      ]
     },
     "execution_count": 41,
     "metadata": {},
     "output_type": "execute_result"
    }
   ],
   "source": [
    "y_pred = knn.predict(data3d_X_test)\n",
    "accuracy_score(y_test_resampled, y_pred)"
   ]
  },
  {
   "cell_type": "code",
   "execution_count": 66,
   "id": "7643b805",
   "metadata": {},
   "outputs": [
    {
     "data": {
      "text/plain": [
       "<sklearn.metrics._plot.confusion_matrix.ConfusionMatrixDisplay at 0x2549f2964f0>"
      ]
     },
     "execution_count": 66,
     "metadata": {},
     "output_type": "execute_result"
    },
    {
     "data": {
      "image/png": "[encoded data removed]",
      "text/plain": [
       "<Figure size 432x288 with 2 Axes>"
      ]
     },
     "metadata": {
      "needs_background": "light"
     },
     "output_type": "display_data"
    }
   ],
   "source": [
    "from sklearn import metrics\n",
    "\n",
    "confusion_matrix = metrics.confusion_matrix(y_test_resampled, y_pred)\n",
    "\n",
    "cm_display = metrics.ConfusionMatrixDisplay(confusion_matrix = confusion_matrix, display_labels = [False, True])\n",
    "\n",
    "cm_display.plot()\n"
   ]
  },
  {
   "cell_type": "code",
   "execution_count": 42,
   "id": "6a0eaa61",
   "metadata": {},
   "outputs": [],
   "source": [
    "import pickle\n",
    "with open('TSC_data/models_raw_TSC/gl/KNN_TSC_scaled.pkl','wb') as f:\n",
    "    pickle.dump(knn,f)"
   ]
  },
  {
   "cell_type": "markdown",
   "id": "7f438391",
   "metadata": {},
   "source": [
    "## TimeSeriesSVC"
   ]
  },
  {
   "cell_type": "code",
   "execution_count": 40,
   "id": "500f8b84",
   "metadata": {},
   "outputs": [],
   "source": [
    "import pickle\n",
    "start = \"models_raw_TSC\\\\\"\n",
    "end = \".pkl\"\n",
    "folder = \"gl\\\\\"\n",
    "ml_type = \"KNN_TSC\"\n",
    "\n",
    "path = start + folder + ml_type + end\n",
    "\n",
    "with open(path, \"rb\") as f:\n",
    "    model = pickle.load(f)"
   ]
  },
  {
   "cell_type": "code",
   "execution_count": null,
   "id": "4660132f",
   "metadata": {},
   "outputs": [],
   "source": [
    "from tslearn.svm import TimeSeriesSVC\n",
    "clf = TimeSeriesSVC(C=1.0, kernel=\"gak\")\n",
    "clf.fit(data3d_X_train,y_train_resampled)"
   ]
  },
  {
   "cell_type": "code",
   "execution_count": 40,
   "id": "bed60934",
   "metadata": {},
   "outputs": [],
   "source": [
    "parameters = {'kernel': ['rbf', 'sigmoid'],\n",
    "             'C': [1.0, 100.0, 1000.0],\n",
    "             'gamma': [0.001, 0.01,0.1]}#\n"
   ]
  },
  {
   "cell_type": "code",
   "execution_count": 41,
   "id": "bbbcc50f",
   "metadata": {},
   "outputs": [
    {
     "name": "stdout",
     "output_type": "stream",
     "text": [
      "Fitting 5 folds for each of 10 candidates, totalling 50 fits\n"
     ]
    },
    {
     "data": {
      "text/html": [
       "<style>#sk-container-id-2 {color: black;background-color: white;}#sk-container-id-2 pre{padding: 0;}#sk-container-id-2 div.sk-toggleable {background-color: white;}#sk-container-id-2 label.sk-toggleable__label {cursor: pointer;display: block;width: 100%;margin-bottom: 0;padding: 0.3em;box-sizing: border-box;text-align: center;}#sk-container-id-2 label.sk-toggleable__label-arrow:before {content: \"▸\";float: left;margin-right: 0.25em;color: #696969;}#sk-container-id-2 label.sk-toggleable__label-arrow:hover:before {color: black;}#sk-container-id-2 div.sk-estimator:hover label.sk-toggleable__label-arrow:before {color: black;}#sk-container-id-2 div.sk-toggleable__content {max-height: 0;max-width: 0;overflow: hidden;text-align: left;background-color: #f0f8ff;}#sk-container-id-2 div.sk-toggleable__content pre {margin: 0.2em;color: black;border-radius: 0.25em;background-color: #f0f8ff;}#sk-container-id-2 input.sk-toggleable__control:checked~div.sk-toggleable__content {max-height: 200px;max-width: 100%;overflow: auto;}#sk-container-id-2 input.sk-toggleable__control:checked~label.sk-toggleable__label-arrow:before {content: \"▾\";}#sk-container-id-2 div.sk-estimator input.sk-toggleable__control:checked~label.sk-toggleable__label {background-color: #d4ebff;}#sk-container-id-2 div.sk-label input.sk-toggleable__control:checked~label.sk-toggleable__label {background-color: #d4ebff;}#sk-container-id-2 input.sk-hidden--visually {border: 0;clip: rect(1px 1px 1px 1px);clip: rect(1px, 1px, 1px, 1px);height: 1px;margin: -1px;overflow: hidden;padding: 0;position: absolute;width: 1px;}#sk-container-id-2 div.sk-estimator {font-family: monospace;background-color: #f0f8ff;border: 1px dotted black;border-radius: 0.25em;box-sizing: border-box;margin-bottom: 0.5em;}#sk-container-id-2 div.sk-estimator:hover {background-color: #d4ebff;}#sk-container-id-2 div.sk-parallel-item::after {content: \"\";width: 100%;border-bottom: 1px solid gray;flex-grow: 1;}#sk-container-id-2 div.sk-label:hover label.sk-toggleable__label {background-color: #d4ebff;}#sk-container-id-2 div.sk-serial::before {content: \"\";position: absolute;border-left: 1px solid gray;box-sizing: border-box;top: 0;bottom: 0;left: 50%;z-index: 0;}#sk-container-id-2 div.sk-serial {display: flex;flex-direction: column;align-items: center;background-color: white;padding-right: 0.2em;padding-left: 0.2em;position: relative;}#sk-container-id-2 div.sk-item {position: relative;z-index: 1;}#sk-container-id-2 div.sk-parallel {display: flex;align-items: stretch;justify-content: center;background-color: white;position: relative;}#sk-container-id-2 div.sk-item::before, #sk-container-id-2 div.sk-parallel-item::before {content: \"\";position: absolute;border-left: 1px solid gray;box-sizing: border-box;top: 0;bottom: 0;left: 50%;z-index: -1;}#sk-container-id-2 div.sk-parallel-item {display: flex;flex-direction: column;z-index: 1;position: relative;background-color: white;}#sk-container-id-2 div.sk-parallel-item:first-child::after {align-self: flex-end;width: 50%;}#sk-container-id-2 div.sk-parallel-item:last-child::after {align-self: flex-start;width: 50%;}#sk-container-id-2 div.sk-parallel-item:only-child::after {width: 0;}#sk-container-id-2 div.sk-dashed-wrapped {border: 1px dashed gray;margin: 0 0.4em 0.5em 0.4em;box-sizing: border-box;padding-bottom: 0.4em;background-color: white;}#sk-container-id-2 div.sk-label label {font-family: monospace;font-weight: bold;display: inline-block;line-height: 1.2em;}#sk-container-id-2 div.sk-label-container {text-align: center;}#sk-container-id-2 div.sk-container {/* jupyter's `normalize.less` sets `[hidden] { display: none; }` but bootstrap.min.css set `[hidden] { display: none !important; }` so we also need the `!important` here to be able to override the default hidden behavior on the sphinx rendered scikit-learn.org. See: https://github.com/scikit-learn/scikit-learn/issues/21755 */display: inline-block !important;position: relative;}#sk-container-id-2 div.sk-text-repr-fallback {display: none;}</style><div id=\"sk-container-id-2\" class=\"sk-top-container\"><div class=\"sk-text-repr-fallback\"><pre>RandomizedSearchCV(cv=5, estimator=TimeSeriesSVC(), n_jobs=-1,\n",
       "                   param_distributions={&#x27;C&#x27;: [1.0, 100.0, 1000.0],\n",
       "                                        &#x27;gamma&#x27;: [0.001, 0.01, 0.1],\n",
       "                                        &#x27;kernel&#x27;: [&#x27;rbf&#x27;, &#x27;sigmoid&#x27;]},\n",
       "                   random_state=1, scoring=&#x27;accuracy&#x27;, verbose=1)</pre><b>In a Jupyter environment, please rerun this cell to show the HTML representation or trust the notebook. <br />On GitHub, the HTML representation is unable to render, please try loading this page with nbviewer.org.</b></div><div class=\"sk-container\" hidden><div class=\"sk-item sk-dashed-wrapped\"><div class=\"sk-label-container\"><div class=\"sk-label sk-toggleable\"><input class=\"sk-toggleable__control sk-hidden--visually\" id=\"sk-estimator-id-4\" type=\"checkbox\" ><label for=\"sk-estimator-id-4\" class=\"sk-toggleable__label sk-toggleable__label-arrow\">RandomizedSearchCV</label><div class=\"sk-toggleable__content\"><pre>RandomizedSearchCV(cv=5, estimator=TimeSeriesSVC(), n_jobs=-1,\n",
       "                   param_distributions={&#x27;C&#x27;: [1.0, 100.0, 1000.0],\n",
       "                                        &#x27;gamma&#x27;: [0.001, 0.01, 0.1],\n",
       "                                        &#x27;kernel&#x27;: [&#x27;rbf&#x27;, &#x27;sigmoid&#x27;]},\n",
       "                   random_state=1, scoring=&#x27;accuracy&#x27;, verbose=1)</pre></div></div></div><div class=\"sk-parallel\"><div class=\"sk-parallel-item\"><div class=\"sk-item\"><div class=\"sk-label-container\"><div class=\"sk-label sk-toggleable\"><input class=\"sk-toggleable__control sk-hidden--visually\" id=\"sk-estimator-id-5\" type=\"checkbox\" ><label for=\"sk-estimator-id-5\" class=\"sk-toggleable__label sk-toggleable__label-arrow\">estimator: TimeSeriesSVC</label><div class=\"sk-toggleable__content\"><pre>TimeSeriesSVC()</pre></div></div></div><div class=\"sk-serial\"><div class=\"sk-item\"><div class=\"sk-estimator sk-toggleable\"><input class=\"sk-toggleable__control sk-hidden--visually\" id=\"sk-estimator-id-6\" type=\"checkbox\" ><label for=\"sk-estimator-id-6\" class=\"sk-toggleable__label sk-toggleable__label-arrow\">TimeSeriesSVC</label><div class=\"sk-toggleable__content\"><pre>TimeSeriesSVC()</pre></div></div></div></div></div></div></div></div></div></div>"
      ],
      "text/plain": [
       "RandomizedSearchCV(cv=5, estimator=TimeSeriesSVC(), n_jobs=-1,\n",
       "                   param_distributions={'C': [1.0, 100.0, 1000.0],\n",
       "                                        'gamma': [0.001, 0.01, 0.1],\n",
       "                                        'kernel': ['rbf', 'sigmoid']},\n",
       "                   random_state=1, scoring='accuracy', verbose=1)"
      ]
     },
     "execution_count": 41,
     "metadata": {},
     "output_type": "execute_result"
    }
   ],
   "source": [
    "random_estimator = RandomizedSearchCV(estimator = clf,\n",
    "                                   param_distributions = parameters,\n",
    "                                   cv = 5,\n",
    "                                   n_iter = 10,\n",
    "                                   scoring = 'accuracy',\n",
    "                                   n_jobs = -1,\n",
    "                                   verbose = 1, \n",
    "                                   random_state = 1,\n",
    "                                  )\n",
    "\n",
    "random_estimator.fit(data3d_X_train, y_train_resampled)"
   ]
  },
  {
   "cell_type": "code",
   "execution_count": 42,
   "id": "4fe32cb8",
   "metadata": {},
   "outputs": [
    {
     "data": {
      "text/plain": [
       "{'kernel': 'sigmoid', 'gamma': 0.001, 'C': 1000.0}"
      ]
     },
     "execution_count": 42,
     "metadata": {},
     "output_type": "execute_result"
    }
   ],
   "source": [
    "random_estimator.best_params_"
   ]
  },
  {
   "cell_type": "code",
   "execution_count": 54,
   "id": "2c2632a3",
   "metadata": {},
   "outputs": [
    {
     "data": {
      "text/plain": [
       "0.7445141065830722"
      ]
     },
     "execution_count": 54,
     "metadata": {},
     "output_type": "execute_result"
    }
   ],
   "source": [
    "random_estimator.best_params_\n",
    "\n",
    "best_estimator = random_estimator.best_estimator_\n",
    "\n",
    "best_estimator.fit(data3d_X_train, y_train_resampled)\n",
    "\n",
    "pred = best_estimator.predict(data3d_X_test)\n",
    "\n",
    "accuracy_score(pred, smoothing(y_test_resampled))"
   ]
  },
  {
   "cell_type": "code",
   "execution_count": 41,
   "id": "3a12cff8",
   "metadata": {},
   "outputs": [
    {
     "data": {
      "text/plain": [
       "0.5"
      ]
     },
     "execution_count": 41,
     "metadata": {},
     "output_type": "execute_result"
    }
   ],
   "source": [
    "pred = model.predict(data3d_X_test)\n",
    "\n",
    "accuracy_score(y_test_resampled, smoothing(pred))"
   ]
  },
  {
   "cell_type": "code",
   "execution_count": 44,
   "id": "1fa7edeb",
   "metadata": {},
   "outputs": [
    {
     "name": "stdout",
     "output_type": "stream",
     "text": [
      "\n",
      " -------------Classification Report-------------\n",
      "\n",
      "              precision    recall  f1-score   support\n",
      "\n",
      "           0       0.74      0.76      0.75       319\n",
      "           1       0.75      0.74      0.75       319\n",
      "\n",
      "    accuracy                           0.75       638\n",
      "   macro avg       0.75      0.75      0.75       638\n",
      "weighted avg       0.75      0.75      0.75       638\n",
      "\n"
     ]
    }
   ],
   "source": [
    "print(\"\\n -------------Classification Report-------------\\n\")\n",
    "print(classification_report(y_test_resampled, pred))"
   ]
  },
  {
   "cell_type": "code",
   "execution_count": null,
   "id": "678b8465",
   "metadata": {},
   "outputs": [],
   "source": [
    "y_pred = clf.predict(data3d_X_test)\n",
    "accuracy_score(y_test_resampled, smoothing(y_pred))"
   ]
  },
  {
   "cell_type": "code",
   "execution_count": null,
   "id": "e1d6840b",
   "metadata": {},
   "outputs": [],
   "source": [
    "parameters = {'kernel': ['rbf', 'sigmoid', 'poly'],\n",
    "             'C': [0.1, 1.0, 100.0, 1000.0],\n",
    "             'gamma': [0.00001, 0.0001, 0.001, 0.01, 0.1, 1.0],}#\n"
   ]
  },
  {
   "cell_type": "code",
   "execution_count": null,
   "id": "8c7cfe48",
   "metadata": {},
   "outputs": [],
   "source": [
    "random_estimator = RandomizedSearchCV(estimator = clf,\n",
    "                                   param_distributions = parameters,\n",
    "                                   cv = 5,\n",
    "                                   n_iter = 100,\n",
    "                                   scoring = 'accuracy',\n",
    "                                   n_jobs = -1,\n",
    "                                   verbose = 1, \n",
    "                                   random_state = 1,\n",
    "                                  )\n",
    "\n",
    "random_estimator.fit(data3d_X_train, y_train_resampled)"
   ]
  },
  {
   "cell_type": "code",
   "execution_count": null,
   "id": "6caf3ab1",
   "metadata": {},
   "outputs": [],
   "source": [
    "random_estimator.best_params_\n",
    "\n",
    "best_estimator = random_estimator.best_estimator_\n",
    "\n",
    "best_estimator.fit(X_train_data_lr, y_train_resampled)\n",
    "\n",
    "pred = best_estimator.predict(X_test_data_lr)\n",
    "\n",
    "accuracy_score(pred, y_test_resampled)"
   ]
  },
  {
   "cell_type": "code",
   "execution_count": null,
   "id": "0553260b",
   "metadata": {},
   "outputs": [],
   "source": [
    "GridSearch_table_plot(random_estimator, \"gamma\", negative=False)"
   ]
  },
  {
   "cell_type": "code",
   "execution_count": null,
   "id": "626b39ae",
   "metadata": {},
   "outputs": [],
   "source": [
    "from sklearn import metrics\n",
    "print(metrics.classification_report(y_test_resampled, pred))"
   ]
  },
  {
   "cell_type": "code",
   "execution_count": null,
   "id": "c575f6d8",
   "metadata": {},
   "outputs": [],
   "source": []
  },
  {
   "cell_type": "code",
   "execution_count": null,
   "id": "1ee9bf8e",
   "metadata": {},
   "outputs": [],
   "source": []
  },
  {
   "cell_type": "code",
   "execution_count": 70,
   "id": "6c9514c3",
   "metadata": {},
   "outputs": [
    {
     "data": {
      "text/plain": [
       "<sklearn.metrics._plot.confusion_matrix.ConfusionMatrixDisplay at 0x254ae894ac0>"
      ]
     },
     "execution_count": 70,
     "metadata": {},
     "output_type": "execute_result"
    },
    {
     "data": {
      "image/png": "[encoded data removed]",
      "text/plain": [
       "<Figure size 432x288 with 2 Axes>"
      ]
     },
     "metadata": {
      "needs_background": "light"
     },
     "output_type": "display_data"
    }
   ],
   "source": [
    "from sklearn import metrics\n",
    "\n",
    "confusion_matrix = metrics.confusion_matrix(y_test_resampled, y_pred)\n",
    "\n",
    "cm_display = metrics.ConfusionMatrixDisplay(confusion_matrix = confusion_matrix, display_labels = [False, True])\n",
    "\n",
    "cm_display.plot()\n"
   ]
  },
  {
   "cell_type": "code",
   "execution_count": 71,
   "id": "e0a8944f",
   "metadata": {},
   "outputs": [],
   "source": [
    "import pickle\n",
    "with open('TSC_data/models_raw_TSC/gl/CLF_TSC.pkl','wb') as f:\n",
    "    pickle.dump(clf,f)"
   ]
  },
  {
   "cell_type": "code",
   "execution_count": 36,
   "id": "4802f1f1",
   "metadata": {},
   "outputs": [
    {
     "name": "stdout",
     "output_type": "stream",
     "text": [
      "d\n"
     ]
    }
   ],
   "source": [
    "print(\"d\")"
   ]
  },
  {
   "cell_type": "markdown",
   "id": "3c0677b4",
   "metadata": {},
   "source": [
    "## Clustering TimeSeriesKMeans"
   ]
  },
  {
   "cell_type": "code",
   "execution_count": 91,
   "id": "b7ddef20",
   "metadata": {},
   "outputs": [],
   "source": [
    "from tslearn.clustering import TimeSeriesKMeans\n",
    "km = TimeSeriesKMeans(n_clusters=2, metric=\"dtw\")\n",
    "labels = km.fit_predict(data3d_X_train)\n",
    "\n",
    "\n",
    "km_bis = TimeSeriesKMeans(n_clusters=2, metric=\"softdtw\")\n",
    "labels_bis = km_bis.fit_predict(data3d_X_train)"
   ]
  },
  {
   "cell_type": "code",
   "execution_count": 86,
   "id": "62f13151",
   "metadata": {},
   "outputs": [],
   "source": [
    "pred_df = pd.DataFrame({\"actual\":y_train_resampled, \"prediction\":labels})"
   ]
  },
  {
   "cell_type": "code",
   "execution_count": 92,
   "id": "f5b732b4",
   "metadata": {},
   "outputs": [
    {
     "name": "stdout",
     "output_type": "stream",
     "text": [
      "0.363855421686747\n"
     ]
    }
   ],
   "source": [
    "correct = 0\n",
    "for i in range(len(y_train_resampled)):\n",
    "    if labels_bis[i] == y_train_resampled[i]:\n",
    "        correct += 1\n",
    "\n",
    "print(correct/len(y_train_resampled))"
   ]
  },
  {
   "cell_type": "markdown",
   "id": "31b6a90d",
   "metadata": {},
   "source": [
    "## Model Selection with hypterparameter tuning and KNeighborsTimeSeriesClassifier"
   ]
  },
  {
   "cell_type": "code",
   "execution_count": 94,
   "id": "4fc2debc",
   "metadata": {
    "scrolled": true
   },
   "outputs": [
    {
     "data": {
      "text/html": [
       "<style>#sk-container-id-3 {color: black;background-color: white;}#sk-container-id-3 pre{padding: 0;}#sk-container-id-3 div.sk-toggleable {background-color: white;}#sk-container-id-3 label.sk-toggleable__label {cursor: pointer;display: block;width: 100%;margin-bottom: 0;padding: 0.3em;box-sizing: border-box;text-align: center;}#sk-container-id-3 label.sk-toggleable__label-arrow:before {content: \"▸\";float: left;margin-right: 0.25em;color: #696969;}#sk-container-id-3 label.sk-toggleable__label-arrow:hover:before {color: black;}#sk-container-id-3 div.sk-estimator:hover label.sk-toggleable__label-arrow:before {color: black;}#sk-container-id-3 div.sk-toggleable__content {max-height: 0;max-width: 0;overflow: hidden;text-align: left;background-color: #f0f8ff;}#sk-container-id-3 div.sk-toggleable__content pre {margin: 0.2em;color: black;border-radius: 0.25em;background-color: #f0f8ff;}#sk-container-id-3 input.sk-toggleable__control:checked~div.sk-toggleable__content {max-height: 200px;max-width: 100%;overflow: auto;}#sk-container-id-3 input.sk-toggleable__control:checked~label.sk-toggleable__label-arrow:before {content: \"▾\";}#sk-container-id-3 div.sk-estimator input.sk-toggleable__control:checked~label.sk-toggleable__label {background-color: #d4ebff;}#sk-container-id-3 div.sk-label input.sk-toggleable__control:checked~label.sk-toggleable__label {background-color: #d4ebff;}#sk-container-id-3 input.sk-hidden--visually {border: 0;clip: rect(1px 1px 1px 1px);clip: rect(1px, 1px, 1px, 1px);height: 1px;margin: -1px;overflow: hidden;padding: 0;position: absolute;width: 1px;}#sk-container-id-3 div.sk-estimator {font-family: monospace;background-color: #f0f8ff;border: 1px dotted black;border-radius: 0.25em;box-sizing: border-box;margin-bottom: 0.5em;}#sk-container-id-3 div.sk-estimator:hover {background-color: #d4ebff;}#sk-container-id-3 div.sk-parallel-item::after {content: \"\";width: 100%;border-bottom: 1px solid gray;flex-grow: 1;}#sk-container-id-3 div.sk-label:hover label.sk-toggleable__label {background-color: #d4ebff;}#sk-container-id-3 div.sk-serial::before {content: \"\";position: absolute;border-left: 1px solid gray;box-sizing: border-box;top: 0;bottom: 0;left: 50%;z-index: 0;}#sk-container-id-3 div.sk-serial {display: flex;flex-direction: column;align-items: center;background-color: white;padding-right: 0.2em;padding-left: 0.2em;position: relative;}#sk-container-id-3 div.sk-item {position: relative;z-index: 1;}#sk-container-id-3 div.sk-parallel {display: flex;align-items: stretch;justify-content: center;background-color: white;position: relative;}#sk-container-id-3 div.sk-item::before, #sk-container-id-3 div.sk-parallel-item::before {content: \"\";position: absolute;border-left: 1px solid gray;box-sizing: border-box;top: 0;bottom: 0;left: 50%;z-index: -1;}#sk-container-id-3 div.sk-parallel-item {display: flex;flex-direction: column;z-index: 1;position: relative;background-color: white;}#sk-container-id-3 div.sk-parallel-item:first-child::after {align-self: flex-end;width: 50%;}#sk-container-id-3 div.sk-parallel-item:last-child::after {align-self: flex-start;width: 50%;}#sk-container-id-3 div.sk-parallel-item:only-child::after {width: 0;}#sk-container-id-3 div.sk-dashed-wrapped {border: 1px dashed gray;margin: 0 0.4em 0.5em 0.4em;box-sizing: border-box;padding-bottom: 0.4em;background-color: white;}#sk-container-id-3 div.sk-label label {font-family: monospace;font-weight: bold;display: inline-block;line-height: 1.2em;}#sk-container-id-3 div.sk-label-container {text-align: center;}#sk-container-id-3 div.sk-container {/* jupyter's `normalize.less` sets `[hidden] { display: none; }` but bootstrap.min.css set `[hidden] { display: none !important; }` so we also need the `!important` here to be able to override the default hidden behavior on the sphinx rendered scikit-learn.org. See: https://github.com/scikit-learn/scikit-learn/issues/21755 */display: inline-block !important;position: relative;}#sk-container-id-3 div.sk-text-repr-fallback {display: none;}</style><div id=\"sk-container-id-3\" class=\"sk-top-container\"><div class=\"sk-text-repr-fallback\"><pre>GridSearchCV(cv=KFold(n_splits=2, random_state=0, shuffle=True),\n",
       "             estimator=KNeighborsTimeSeriesClassifier(),\n",
       "             param_grid={&#x27;n_neighbors&#x27;: [1, 5]})</pre><b>In a Jupyter environment, please rerun this cell to show the HTML representation or trust the notebook. <br />On GitHub, the HTML representation is unable to render, please try loading this page with nbviewer.org.</b></div><div class=\"sk-container\" hidden><div class=\"sk-item sk-dashed-wrapped\"><div class=\"sk-label-container\"><div class=\"sk-label sk-toggleable\"><input class=\"sk-toggleable__control sk-hidden--visually\" id=\"sk-estimator-id-3\" type=\"checkbox\" ><label for=\"sk-estimator-id-3\" class=\"sk-toggleable__label sk-toggleable__label-arrow\">GridSearchCV</label><div class=\"sk-toggleable__content\"><pre>GridSearchCV(cv=KFold(n_splits=2, random_state=0, shuffle=True),\n",
       "             estimator=KNeighborsTimeSeriesClassifier(),\n",
       "             param_grid={&#x27;n_neighbors&#x27;: [1, 5]})</pre></div></div></div><div class=\"sk-parallel\"><div class=\"sk-parallel-item\"><div class=\"sk-item\"><div class=\"sk-label-container\"><div class=\"sk-label sk-toggleable\"><input class=\"sk-toggleable__control sk-hidden--visually\" id=\"sk-estimator-id-4\" type=\"checkbox\" ><label for=\"sk-estimator-id-4\" class=\"sk-toggleable__label sk-toggleable__label-arrow\">estimator: KNeighborsTimeSeriesClassifier</label><div class=\"sk-toggleable__content\"><pre>KNeighborsTimeSeriesClassifier()</pre></div></div></div><div class=\"sk-serial\"><div class=\"sk-item\"><div class=\"sk-estimator sk-toggleable\"><input class=\"sk-toggleable__control sk-hidden--visually\" id=\"sk-estimator-id-5\" type=\"checkbox\" ><label for=\"sk-estimator-id-5\" class=\"sk-toggleable__label sk-toggleable__label-arrow\">KNeighborsTimeSeriesClassifier</label><div class=\"sk-toggleable__content\"><pre>KNeighborsTimeSeriesClassifier()</pre></div></div></div></div></div></div></div></div></div></div>"
      ],
      "text/plain": [
       "GridSearchCV(cv=KFold(n_splits=2, random_state=0, shuffle=True),\n",
       "             estimator=KNeighborsTimeSeriesClassifier(),\n",
       "             param_grid={'n_neighbors': [1, 5]})"
      ]
     },
     "execution_count": 94,
     "metadata": {},
     "output_type": "execute_result"
    }
   ],
   "source": [
    "from sklearn.model_selection import KFold, GridSearchCV\n",
    "from tslearn.neighbors import KNeighborsTimeSeriesClassifier\n",
    "\n",
    "knn = KNeighborsTimeSeriesClassifier(metric=\"dtw\")\n",
    "p_grid = {\"n_neighbors\": [1, 5]}\n",
    "\n",
    "cv = KFold(n_splits=2, shuffle=True, random_state=0)\n",
    "clf = GridSearchCV(estimator=knn, param_grid=p_grid, cv=cv)\n",
    "clf.fit(data3d_X_train, y_train_resampled)"
   ]
  }
 ],
 "metadata": {
  "kernelspec": {
   "display_name": "Python 3 (ipykernel)",
   "language": "python",
   "name": "python3"
  },
  "language_info": {
   "codemirror_mode": {
    "name": "ipython",
    "version": 3
   },
   "file_extension": ".py",
   "mimetype": "text/x-python",
   "name": "python",
   "nbconvert_exporter": "python",
   "pygments_lexer": "ipython3",
   "version": "3.8.8"
  }
 },
 "nbformat": 4,
 "nbformat_minor": 5
}
