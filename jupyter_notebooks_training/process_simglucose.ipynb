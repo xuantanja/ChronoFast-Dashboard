{
 "cells": [
  {
   "cell_type": "code",
   "execution_count": null,
   "id": "215c8ea7",
   "metadata": {},
   "outputs": [],
   "source": [
    "import pandas as pd"
   ]
  },
  {
   "cell_type": "code",
   "execution_count": null,
   "id": "ba3fe304",
   "metadata": {},
   "outputs": [],
   "source": [
    "import numpy as np\n",
    "from datetime import datetime\n",
    "from datetime import datetime, timedelta\n"
   ]
  },
  {
   "cell_type": "code",
   "execution_count": null,
   "id": "6317b798",
   "metadata": {},
   "outputs": [],
   "source": [
    "df_glucose = pd.read_csv('path'', sep=',')\n"
   ]
  },
  {
   "cell_type": "code",
   "execution_count": null,
   "id": "78c95808",
   "metadata": {},
   "outputs": [],
   "source": [
    "df_glucose = df_glucose.sort_values(by=['id', 'Time'], ascending=True)"
   ]
  },
  {
   "cell_type": "code",
   "execution_count": null,
   "id": "0e1cb9e1",
   "metadata": {},
   "outputs": [],
   "source": [
    "def give_fasting_state(row):\n",
    "    \n",
    "    time = row[\"Time\"]\n",
    "    \n",
    "    time = datetime.strptime(time, \"%Y-%m-%d %H:%M:%S\")\n",
    "    time =  time.strftime('%H:%M:%S')\n",
    "    time = datetime.strptime(time,'%H:%M:%S').time()\n",
    "    \n",
    "    \n",
    "    \n",
    "    breakfast_begin = datetime.strptime(\"08:00:00\", \"%H:%M:%S\").time()\n",
    "    breakfast_end = datetime.strptime(\"10:00:00\", \"%H:%M:%S\").time()\n",
    "\n",
    "    lunch_begin = datetime.strptime(\"12:00:00\", \"%H:%M:%S\").time()\n",
    "    lunch_end = datetime.strptime(\"14:00:00\", \"%H:%M:%S\").time()\n",
    "    \n",
    "    dinner_begin = datetime.strptime(\"18:00:00\", \"%H:%M:%S\").time()\n",
    "    dinner_end = datetime.strptime(\"20:00:00\", \"%H:%M:%S\").time()\n",
    "    \n",
    "    if (time > breakfast_begin and time < breakfast_end or time > lunch_begin and time < lunch_end or time > dinner_begin and time < dinner_end ):\n",
    "        \n",
    "        fasting_state  = \"non-fasting\"\n",
    "    \n",
    "    else:\n",
    "        \n",
    "        fasting_state  = \"fasting\"\n",
    "        \n",
    "    return fasting_state"
   ]
  },
  {
   "cell_type": "code",
   "execution_count": null,
   "id": "6bbc7902",
   "metadata": {},
   "outputs": [],
   "source": [
    "df_glucose[\"fasting_state\"] = df_glucose.apply(give_fasting_state, axis=1)"
   ]
  },
  {
   "cell_type": "code",
   "execution_count": null,
   "id": "ddbd9748",
   "metadata": {},
   "outputs": [],
   "source": [
    "df_glucose.to_csv(\"simglucose_data.csv\", sep='\\t')\n",
    "\n"
   ]
  },
  {
   "cell_type": "markdown",
   "id": "ca1bc3d8",
   "metadata": {},
   "source": [
    "# Adding Fasting states to overnight fasting"
   ]
  },
  {
   "cell_type": "code",
   "execution_count": null,
   "id": "c9e90077",
   "metadata": {},
   "outputs": [],
   "source": [
    "df_glucose_overnight = pd.read_csv('path', index_col=0, sep='\\t')\n"
   ]
  },
  {
   "cell_type": "code",
   "execution_count": null,
   "id": "81cb3db7",
   "metadata": {},
   "outputs": [],
   "source": [
    "df_glucose_overnight"
   ]
  },
  {
   "cell_type": "code",
   "execution_count": null,
   "id": "55e673cd",
   "metadata": {},
   "outputs": [],
   "source": [
    "df_glucose_overnight[\"time\"] = df_glucose_overnight[\"time\"].replace(['2020-09-02 22:04:59.995000+00:00'], '2020-09-02 22:04:00+00:00')\n",
    "\n",
    "df_glucose_overnight = df_glucose_overnight.sort_values(by=['id', 'time'], ascending=True)"
   ]
  },
  {
   "cell_type": "code",
   "execution_count": null,
   "id": "d68c1fe6",
   "metadata": {},
   "outputs": [],
   "source": [
    "overnight_overlap = datetime.strptime((\"23:00:00\"), \"%H:%M:%S\")\n",
    "overnight_overlap =  overnight_overlap.strftime('%H:%M:%S')\n",
    "overnight_overlap = datetime.strptime(overnight_overlap,'%H:%M:%S').time()\n",
    "\n",
    "\n",
    "for index_1, row_df in df_glucose_overnight.iterrows():\n",
    "        \n",
    "    \n",
    "    for index_2, row_df_fasting in df_fasting_times_all.iterrows():\n",
    "        \n",
    "        \n",
    "        ###### from merged df ######\n",
    "        try:\n",
    "            time_df_merged = datetime.strptime(str(row_df[\"time\"]), \"%Y-%m-%d %H:%M:%S%z\")\n",
    "            date_df_merged = time_df_merged.strftime('%Y-%m-%d')\n",
    "            date_df_merged = datetime.strptime(date_df_merged,'%Y-%m-%d')\n",
    "\n",
    "            min_df_merged =  time_df_merged.strftime('%H:%M:%S')\n",
    "            min_df_merged = datetime.strptime(min_df_merged,'%H:%M:%S').time()\n",
    "        except:\n",
    "            time_df_merged = datetime.strptime(str(row_df[\"time\"]), \"%Y-%m-%d %H:%M:%S+%z\")\n",
    "            date_df_merged = time_df_merged.strftime('%Y-%m-%d')\n",
    "            date_df_merged = datetime.strptime(date_df_merged,'%Y-%m-%d')\n",
    "\n",
    "            min_df_merged =  time_df_merged.strftime('%H:%M:%S')\n",
    "            min_df_merged = datetime.strptime(min_df_merged,'%H:%M:%S').time()        \n",
    "        ###### from fasting df #######\n",
    "        # day\n",
    "        \n",
    "        time_fasting = datetime.strptime(str(row_df_fasting[\"time\"]), \"%Y-%m-%d %H:%M:%S\")\n",
    "        date_fasting = time_fasting.strftime('%Y-%m-%d')\n",
    "        date_fasting = datetime.strptime(date_fasting,'%Y-%m-%d')\n",
    "        \n",
    "        # minutes\n",
    "\n",
    "        begin_non_fasting = datetime.strptime(str(row_df_fasting[\"Beginn erste Mahlzeit\"]), \"%H:%M:%S\")\n",
    "        begin_non_fasting =  begin_non_fasting.strftime('%H:%M:%S')\n",
    "        begin_non_fasting = datetime.strptime(begin_non_fasting,'%H:%M:%S').time()\n",
    "\n",
    "\n",
    "        if not row_df_fasting[\"Beginn letzte Mahlzeit\"] == \"nan\":\n",
    "            end_non_fasting = datetime.strptime(str(row_df_fasting[\"Beginn letzte Mahlzeit\"]), \"%H:%M:%S\")\n",
    "            end_non_fasting =  end_non_fasting.strftime('%H:%M:%S')\n",
    "            end_non_fasting = datetime.strptime(end_non_fasting,'%H:%M:%S').time()\n",
    "            \n",
    "\n",
    "\n",
    "        \n",
    "        if row_df[\"id\"] == row_df_fasting[\"id\"] and row_df[\"phase\"] == row_df_fasting[\"phase\"] and date_df_merged == date_fasting:\n",
    "            \n",
    "            if begin_non_fasting < end_non_fasting:\n",
    "                # begin_non_fasting 10 Uhr\n",
    "                # end_non_fasting  22 Uhr\n",
    "                if min_df_merged >= begin_non_fasting and min_df_merged < end_non_fasting:\n",
    "                    df_glucose_overnight.at[index_1,'label']  = \"non-fasting\" \n",
    "            else: \n",
    "                \n",
    "                if min_df_merged >= begin_non_fasting and min_df_merged < overnight_overlap:\n",
    "                    # nicht fastenzustand\n",
    "                    df_glucose_overnight.at[index_1,'label']  = \"non-fasting\"                 \n",
    "\n",
    "\n"
   ]
  },
  {
   "cell_type": "code",
   "execution_count": null,
   "id": "852a1e3e",
   "metadata": {},
   "outputs": [],
   "source": [
    "df_glucose_overnight.to_csv(\".csv\", sep='\\t')\n"
   ]
  },
  {
   "cell_type": "code",
   "execution_count": null,
   "id": "94121680",
   "metadata": {},
   "outputs": [],
   "source": []
  }
 ],
 "metadata": {
  "kernelspec": {
   "display_name": "Python 3 (ipykernel)",
   "language": "python",
   "name": "python3"
  },
  "language_info": {
   "codemirror_mode": {
    "name": "ipython",
    "version": 3
   },
   "file_extension": ".py",
   "mimetype": "text/x-python",
   "name": "python",
   "nbconvert_exporter": "python",
   "pygments_lexer": "ipython3",
   "version": "3.8.8"
  }
 },
 "nbformat": 4,
 "nbformat_minor": 5
}
