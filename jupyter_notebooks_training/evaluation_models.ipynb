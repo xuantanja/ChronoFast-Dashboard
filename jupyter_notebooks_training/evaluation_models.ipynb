{
 "cells": [
  {
   "cell_type": "code",
   "execution_count": null,
   "id": "942865de",
   "metadata": {},
   "outputs": [],
   "source": [
    "import cgmquantify as cgm\n",
    "import pandas as pd\n",
    "import datetime as datetime\n",
    "from datetime import date\n",
    "from scipy.stats import stats\n",
    "import numpy as np\n",
    "from IPython.display import display, HTML\n",
    "display(HTML(\"<style>.container { width:100% !important; }</style>\"))\n",
    "from scipy.signal import find_peaks\n",
    "from scipy.stats import stats\n",
    "import warnings\n",
    "warnings.filterwarnings(\"ignore\")\n",
    "\n",
    "from sklearn.metrics import accuracy_score, classification_report\n",
    "from sklearn.model_selection import train_test_split\n",
    "from sklearn.linear_model import LogisticRegression\n",
    "from sklearn.tree import DecisionTreeClassifier\n",
    "from sklearn.neighbors import KNeighborsClassifier\n",
    "from sklearn.preprocessing import LabelEncoder, StandardScaler\n",
    "from sklearn.preprocessing import MinMaxScaler\n",
    "from sklearn.model_selection import train_test_split\n",
    "from sklearn.model_selection import LeaveOneOut\n",
    "from sklearn.model_selection import cross_val_score\n",
    "from sklearn.linear_model import LinearRegression\n",
    "from numpy import mean\n",
    "from numpy import absolute\n",
    "from numpy import sqrt\n",
    "import pandas as pd\n",
    "import pickle"
   ]
  },
  {
   "cell_type": "markdown",
   "id": "b2e20c4a",
   "metadata": {},
   "source": [
    " # Evaluation of Parofastin data"
   ]
  },
  {
   "cell_type": "code",
   "execution_count": null,
   "id": "cb65dbd5",
   "metadata": {},
   "outputs": [],
   "source": [
    "parofastin_168 = pd.read_csv('prediction_file_path', sep='\\t')\n",
    "parofastin_bahai = pd.read_csv('prediction_file_path', sep='\\t')"
   ]
  },
  {
   "cell_type": "code",
   "execution_count": null,
   "id": "038773a3",
   "metadata": {},
   "outputs": [],
   "source": [
    "fasting_states_to_keep = ['fasting', 'non-fasting']\n",
    "parofastin_168 = parofastin_168[parofastin_168.fasting_state.isin(fasting_states_to_keep)]\n",
    "parofastin_bahai = parofastin_bahai[parofastin_bahai.fasting_state.isin(fasting_states_to_keep)]"
   ]
  },
  {
   "cell_type": "markdown",
   "id": "24b98bc8",
   "metadata": {},
   "source": [
    "## Preprocessing for ML models"
   ]
  },
  {
   "cell_type": "code",
   "execution_count": null,
   "id": "500f7783",
   "metadata": {},
   "outputs": [],
   "source": [
    "parofastin_168['Time'] = pd.to_datetime(parofastin_168['time'], format='%d-%m-%Y %H:%M')\n",
    "parofastin_168['Day'] = parofastin_168[\"Time\"].dt.date#\n",
    "parofastin_168['gl'] = parofastin_168['gl'].str.replace(',','.')\n",
    "parofastin_168['gl'] = pd.to_numeric(parofastin_168['gl'])\n",
    "parofastin_168[\"gl\"] = parofastin_168[\"gl\"]*18\n",
    "parofastin_168[\"Glucose\"] = parofastin_168[\"gl\"]\n",
    "\n",
    "parofastin_168 = parofastin_168.sort_values(by=['id', 'time', \"phase\"], ascending=True)\n",
    "parofastin_168 = parofastin_168.reset_index(drop=True)\n",
    "parofastin_168 = parofastin_168.drop([\"Unnamed: 0\"], axis=1)\n",
    "\n",
    "parofastin_bahai['Time'] = pd.to_datetime(parofastin_bahai['time'], format='%d-%m-%Y %H:%M')\n",
    "parofastin_bahai['Day'] = parofastin_bahai[\"Time\"].dt.date#\n",
    "parofastin_bahai['gl'] = parofastin_bahai['gl'].str.replace(',','.')\n",
    "parofastin_bahai['gl'] = pd.to_numeric(parofastin_bahai['gl'])\n",
    "parofastin_bahai[\"gl\"] = parofastin_bahai[\"gl\"]*18\n",
    "parofastin_bahai[\"Glucose\"] = parofastin_bahai[\"gl\"]\n",
    "parofastin_bahai = parofastin_bahai.sort_values(by=['id', 'time', \"phase\"], ascending=True)\n",
    "parofastin_bahai = parofastin_bahai.reset_index(drop=True)\n",
    "parofastin_bahai = parofastin_bahai.drop([\"Unnamed: 0\"], axis=1)"
   ]
  },
  {
   "cell_type": "code",
   "execution_count": null,
   "id": "8e542fc7",
   "metadata": {},
   "outputs": [],
   "source": [
    "def feat_statistical_measures_gl(x_list):\n",
    "    X_train = pd.DataFrame()\n",
    "\n",
    "    for df_temp in x_list:\n",
    "        time_median = df_temp.loc[1,'Time']\n",
    "        cgm_summary = list(cgm.summary(df_temp))\n",
    "        cgm_LBGI = cgm.LBGI(df_temp)\n",
    "        cgm_HBGI = cgm.HBGI(df_temp)\n",
    "        cgm_ADRR = cgm.ADRR(df_temp)\n",
    "        cgm_GMI = cgm.GMI(df_temp)\n",
    "        cgm_J_index = cgm.J_index(df_temp)\n",
    "        cgm_eA1c = cgm.eA1c(df_temp)\n",
    "        cgm_interdaysd = cgm.interdaysd(df_temp)\n",
    "        cgm_interdaycv = cgm.interdaycv(df_temp)\n",
    "        cgm_TOR = cgm.TOR(df_temp, sd=1, sr=15)\n",
    "        cgm_TIR = cgm.TIR(df_temp, sd=1, sr=15)\n",
    "        cgm_POR = cgm.POR(df_temp, sd=1, sr=15)\n",
    "\n",
    "        \n",
    "        cgm_summary.append(cgm_LBGI)\n",
    "        cgm_summary.append(cgm_HBGI)\n",
    "        cgm_summary.append(cgm_ADRR)\n",
    "        cgm_summary.append(cgm_GMI)\n",
    "        cgm_summary.append(cgm_J_index)\n",
    "        cgm_summary.append(cgm_eA1c)\n",
    "        cgm_summary.append(cgm_interdaysd)\n",
    "        cgm_summary.append(cgm_interdaycv)\n",
    "        cgm_summary.append(cgm_TOR)\n",
    "        cgm_summary.append(cgm_TIR)\n",
    "        cgm_summary.append(cgm_POR)\n",
    "\n",
    "        general = []\n",
    "        general.extend([time_median])\n",
    "        general.extend(cgm_summary)\n",
    "\n",
    "        X_train_temp = pd.DataFrame([general], columns = [\"time\",\"mean\", \"median\",\"minimum\", \"maximum\",\"first_quartile\", \"third_quartile\",\n",
    "                                                              \"LBGI\", \"HBGI\", \"ADRR\",\"GMI\", \"J_index\", \"eA1c\", \"interdaysd\",\n",
    "                                                              \"cgm_interdaycv\", \n",
    "                                                              \"cgm_TOR\", \"cgm_TIR\",\n",
    "                                                              \"cgm_POR\"])\n",
    "\n",
    "        \n",
    "        X_train = pd.concat([X_train, X_train_temp], ignore_index=True)\n",
    "        \n",
    "    return X_train"
   ]
  },
  {
   "cell_type": "code",
   "execution_count": null,
   "id": "efd36da5",
   "metadata": {},
   "outputs": [],
   "source": [
    "x_list_parofastin_168 = []\n",
    "train_labels_parofastin_168 = []\n",
    "\n",
    "\n",
    "window_size = 3\n",
    "step_size = 1\n",
    "\n",
    "# creating overlaping windows of size window-size 100\n",
    "for i in range(0, parofastin_168.shape[0] - window_size, step_size):\n",
    "    time = parofastin_168['Time'].values[i: i + window_size]\n",
    "    times = parofastin_168['Day'].values[i: i + window_size]\n",
    "    gls = parofastin_168['Glucose'].values[i: i + window_size]\n",
    "\n",
    "    label = stats.mode(parofastin_168['fasting_state'][i: i + window_size])[0][0]\n",
    "\n",
    "    df_slice = pd.DataFrame(time, columns=['Time'])\n",
    "    df_slice[\"Day\"] = times\n",
    "    df_slice[\"Glucose\"] = gls   \n",
    "\n",
    "    x_list_parofastin_168.append(df_slice)\n",
    "\n",
    "    train_labels_parofastin_168.append(label)"
   ]
  },
  {
   "cell_type": "code",
   "execution_count": null,
   "id": "ba256cbc",
   "metadata": {},
   "outputs": [],
   "source": [
    "x_list_parofastin_bahai = []\n",
    "train_labels_parofastin_bahai = []\n",
    "\n",
    "\n",
    "window_size = 3\n",
    "step_size = 1\n",
    "\n",
    "# creating overlaping windows of size window-size 100\n",
    "for i in range(0, parofastin_bahai.shape[0] - window_size, step_size):\n",
    "    time = parofastin_bahai['Time'].values[i: i + window_size]\n",
    "    times = parofastin_bahai['Day'].values[i: i + window_size]\n",
    "    gls = parofastin_bahai['Glucose'].values[i: i + window_size]\n",
    "\n",
    "    label = stats.mode(parofastin_bahai['fasting_state'][i: i + window_size])[0][0]\n",
    "\n",
    "    df_slice = pd.DataFrame(time, columns=['Time'])\n",
    "    df_slice[\"Day\"] = times\n",
    "    df_slice[\"Glucose\"] = gls   \n",
    "\n",
    "    x_list_parofastin_bahai.append(df_slice)\n",
    "\n",
    "    train_labels_parofastin_bahai.append(label)"
   ]
  },
  {
   "cell_type": "code",
   "execution_count": null,
   "id": "b18cb77c",
   "metadata": {},
   "outputs": [],
   "source": [
    "X_pred_parofastin_168 = feat_statistical_measures_gl(x_list_parofastin_168)\n",
    "X_pred_parofastin_bahai = feat_statistical_measures_gl(x_list_parofastin_bahai)"
   ]
  },
  {
   "cell_type": "code",
   "execution_count": null,
   "id": "177adf6f",
   "metadata": {},
   "outputs": [],
   "source": [
    "y_test_168 = np.array(train_labels_parofastin_168)\n",
    "y_test_bahai = np.array(train_labels_parofastin_bahai)\n",
    "\n",
    "def to_float(input_string):\n",
    "    if input_string == \"fasting\":\n",
    "        return 0\n",
    "    else:\n",
    "        return 1"
   ]
  },
  {
   "cell_type": "code",
   "execution_count": null,
   "id": "84987ac7",
   "metadata": {},
   "outputs": [],
   "source": [
    "func_float = np.vectorize(to_float)\n",
    "y_test_168_float = func_float(y_test_168)\n",
    "y_test_bahai_float = func_float(y_test_bahai)"
   ]
  },
  {
   "cell_type": "code",
   "execution_count": null,
   "id": "48b48e64",
   "metadata": {},
   "outputs": [],
   "source": [
    "X_pred_parofastin_168.to_csv(\"evaluation/X_pred_parofastin_168.csv\", sep='\\t')\n",
    "X_pred_parofastin_bahai.to_csv(\"evaluation/X_pred_parofastin_bahai.csv\", sep='\\t')\n",
    "np.save('evaluation/y_pred_parofastin_168.npy', y_test_168_float)\n",
    "np.save('evaluation/y_pred_parofastin_bahai.npy', y_test_bahai_float)"
   ]
  },
  {
   "cell_type": "code",
   "execution_count": null,
   "id": "58f38f3a",
   "metadata": {},
   "outputs": [],
   "source": [
    "X_pred_parofastin_168 = pd.read_csv('X_pred_parofastin_168.csv', sep='\\t')\n",
    "X_pred_parofastin_bahai = pd.read_csv('X_pred_parofastin_bahai.csv', sep='\\t')\n",
    "\n",
    "y_test_168_float = np.load('evaluation/y_pred_parofastin_168.npy')\n",
    "y_test_bahai_float = np.load('evaluation/y_pred_parofastin_bahai.npy')"
   ]
  },
  {
   "cell_type": "code",
   "execution_count": null,
   "id": "2a89f337",
   "metadata": {},
   "outputs": [],
   "source": [
    "from datetime import datetime\n",
    "\n",
    "\n",
    "X_pred_parofastin_168.time = pd.to_datetime(X_pred_parofastin_168.time)\n",
    "X_pred_parofastin_bahai.time = pd.to_datetime(X_pred_parofastin_bahai.time)\n",
    "\n",
    "X_pred_parofastin_168_ml = X_pred_parofastin_168.drop([\"time\"], axis=1)\n",
    "X_pred_parofastin_bahai_ml = X_pred_parofastin_bahai.drop([\"time\"], axis=1)\n"
   ]
  },
  {
   "cell_type": "markdown",
   "id": "b855621d",
   "metadata": {},
   "source": [
    "### Preprocessing for TSC features"
   ]
  },
  {
   "cell_type": "code",
   "execution_count": null,
   "id": "7065a90c",
   "metadata": {},
   "outputs": [],
   "source": [
    "from tslearn.utils import to_time_series_dataset\n",
    "from tslearn.neighbors import KNeighborsTimeSeriesClassifier\n",
    "from tslearn import generators"
   ]
  },
  {
   "cell_type": "code",
   "execution_count": null,
   "id": "b481599f",
   "metadata": {},
   "outputs": [],
   "source": [
    "\n",
    "window_size = 5\n",
    "\n",
    "x_list_pred_168 = []\n",
    "x_list_pred_tsc_2nd = []\n",
    "pred_labels_tsc_168 = []\n",
    "counter = 1\n",
    "\n",
    "for i in range(0, X_pred_parofastin_168.shape[0], 1):\n",
    "\n",
    "    time = X_pred_parofastin_168['time'].values[i]\n",
    "    cgm_interdaycv = X_pred_parofastin_168['cgm_interdaycv'].values[i]\n",
    "    J_index = X_pred_parofastin_168['J_index'].values[i]\n",
    "    maximum = X_pred_parofastin_168['maximum'].values[i]\n",
    "\n",
    "\n",
    "    x_list_pred_tsc_3rd = []\n",
    "    x_list_pred_tsc_3rd.append(cgm_interdaycv)\n",
    "    x_list_pred_tsc_3rd.append(J_index)\n",
    "    x_list_pred_tsc_3rd.append(maximum)\n",
    "\n",
    "    x_list_pred_tsc_2nd.append(x_list_pred_tsc_3rd)\n",
    "\n",
    "    if counter >= window_size:\n",
    "        pred_labels_tsc_168.append(y_test_168_float[i])\n",
    "\n",
    "        x_list_pred_168.append(x_list_pred_tsc_2nd)\n",
    "        x_list_pred_tsc_2nd = []\n",
    "        counter = 0\n",
    "\n",
    "    counter += 1\n",
    "\n",
    "x_list_pred_168 = to_time_series_dataset(x_list_pred_168)"
   ]
  },
  {
   "cell_type": "code",
   "execution_count": null,
   "id": "7d7f82bc",
   "metadata": {},
   "outputs": [],
   "source": [
    "from datetime import datetime\n",
    "\n",
    "\n",
    "x_list_pred_bahai = []\n",
    "x_list_pred_tsc_2nd = []\n",
    "pred_labels_tsc_bahai = []\n",
    "counter = 1\n",
    "\n",
    "for i in range(0, X_pred_parofastin_bahai.shape[0], 1):\n",
    "\n",
    "    time = X_pred_parofastin_bahai['time'].values[i]\n",
    "    cgm_interdaycv = X_pred_parofastin_bahai['cgm_interdaycv'].values[i]\n",
    "    J_index = X_pred_parofastin_bahai['J_index'].values[i]\n",
    "    maximum = X_pred_parofastin_bahai['maximum'].values[i]\n",
    "\n",
    "\n",
    "    x_list_pred_tsc_3rd = []\n",
    "    x_list_pred_tsc_3rd.append(cgm_interdaycv)\n",
    "    x_list_pred_tsc_3rd.append(J_index)\n",
    "    x_list_pred_tsc_3rd.append(maximum)\n",
    "\n",
    "    x_list_pred_tsc_2nd.append(x_list_pred_tsc_3rd)\n",
    "\n",
    "    if counter >= window_size:\n",
    "        pred_labels_tsc_bahai.append(y_test_bahai_float[i])\n",
    "\n",
    "        x_list_pred_bahai.append(x_list_pred_tsc_2nd)\n",
    "        x_list_pred_tsc_2nd = []\n",
    "        counter = 0\n",
    "\n",
    "    counter += 1\n",
    "\n",
    "x_list_pred_bahai = to_time_series_dataset(x_list_pred_bahai)\n",
    "    "
   ]
  },
  {
   "cell_type": "code",
   "execution_count": null,
   "id": "b3d1e72b",
   "metadata": {},
   "outputs": [],
   "source": [
    "x_list_pred_168.shape"
   ]
  },
  {
   "cell_type": "code",
   "execution_count": null,
   "id": "bd0badad",
   "metadata": {},
   "outputs": [],
   "source": [
    "len(pred_labels_tsc_168)"
   ]
  },
  {
   "cell_type": "markdown",
   "id": "69507412",
   "metadata": {},
   "source": [
    "### Preprocessing for TSC raw"
   ]
  },
  {
   "cell_type": "code",
   "execution_count": null,
   "id": "47597c62",
   "metadata": {},
   "outputs": [],
   "source": [
    "map_dict = {\"non-fasting\": 1, \"fasting\":0}\n",
    "parofastin_168[\"fasting_state\"] = parofastin_168[\"fasting_state\"].map(map_dict)\n",
    "parofastin_bahai[\"fasting_state\"] = parofastin_bahai[\"fasting_state\"].map(map_dict)"
   ]
  },
  {
   "cell_type": "code",
   "execution_count": null,
   "id": "ffbc574b",
   "metadata": {},
   "outputs": [],
   "source": [
    "y_168_raw_float = parofastin_168[\"fasting_state\"]\n",
    "y_bahai_raw_float = parofastin_bahai[\"fasting_state\"]\n",
    "\n",
    "y_168_raw_float = np.array(y_168_raw_float)\n",
    "y_bahai_raw_float = np.array(y_bahai_raw_float)"
   ]
  },
  {
   "cell_type": "code",
   "execution_count": null,
   "id": "cdc78683",
   "metadata": {},
   "outputs": [],
   "source": [
    "from datetime import datetime\n",
    "\n",
    "\n",
    "parofastin_168.time = pd.to_datetime(parofastin_168.time)\n",
    "\n",
    "\n",
    "x_list_pred_168_raw = []\n",
    "x_list_pred_tsc_2nd = []\n",
    "pred_labels_tsc_168_raw = []\n",
    "counter = 1\n",
    "\n",
    "for i in range(0, parofastin_168.shape[0], 1):\n",
    "\n",
    "    gl = parofastin_168['gl'].values[i]\n",
    "\n",
    "    x_list_pred_tsc_3rd = []\n",
    "    x_list_pred_tsc_3rd.append(gl)\n",
    "\n",
    "    x_list_pred_tsc_2nd.append(x_list_pred_tsc_3rd)\n",
    "\n",
    "    if counter >= window_size:\n",
    "        pred_labels_tsc_168_raw.append(y_168_raw_float[i])\n",
    "\n",
    "        x_list_pred_168_raw.append(x_list_pred_tsc_2nd)\n",
    "        x_list_pred_tsc_2nd = []\n",
    "        counter = 0\n",
    "\n",
    "    counter += 1\n",
    "\n",
    "x_list_pred_168_raw = to_time_series_dataset(x_list_pred_168_raw)"
   ]
  },
  {
   "cell_type": "code",
   "execution_count": null,
   "id": "1f17291b",
   "metadata": {},
   "outputs": [],
   "source": [
    "parofastin_bahai.time = pd.to_datetime(parofastin_bahai.time)\n",
    "\n",
    "\n",
    "x_list_pred_bahai_raw = []\n",
    "x_list_pred_tsc_2nd = []\n",
    "pred_labels_tsc_bahai_raw = []\n",
    "counter = 1\n",
    "\n",
    "for i in range(0, parofastin_bahai.shape[0], 1):\n",
    "\n",
    "    gl = parofastin_bahai['gl'].values[i]\n",
    "\n",
    "    x_list_pred_tsc_3rd = []\n",
    "    x_list_pred_tsc_3rd.append(gl)\n",
    "\n",
    "    x_list_pred_tsc_2nd.append(x_list_pred_tsc_3rd)\n",
    "\n",
    "    if counter >= window_size:\n",
    "        pred_labels_tsc_bahai_raw.append(y_bahai_raw_float[i])\n",
    "\n",
    "        x_list_pred_bahai_raw.append(x_list_pred_tsc_2nd)\n",
    "        x_list_pred_tsc_2nd = []\n",
    "        counter = 0\n",
    "\n",
    "    counter += 1\n",
    "\n",
    "x_list_pred_bahai_raw = to_time_series_dataset(x_list_pred_bahai_raw)"
   ]
  },
  {
   "cell_type": "code",
   "execution_count": null,
   "id": "9722f8c9",
   "metadata": {},
   "outputs": [],
   "source": [
    "x_list_pred_bahai_raw.shape"
   ]
  },
  {
   "cell_type": "code",
   "execution_count": null,
   "id": "4f6fc2cb",
   "metadata": {},
   "outputs": [],
   "source": [
    "len(pred_labels_tsc_bahai_raw)"
   ]
  },
  {
   "cell_type": "code",
   "execution_count": null,
   "id": "535c50de",
   "metadata": {},
   "outputs": [],
   "source": [
    "from numpy.lib.stride_tricks import sliding_window_view\n",
    "\n",
    "\n",
    "def smoothing(y_pred):\n",
    "    \n",
    "    outcomes = np.array([])\n",
    "    last_four_values = y_pred[-4:]\n",
    "    \n",
    "    y_pred_windowed = sliding_window_view((y_pred), window_shape = 5)\n",
    "\n",
    "    i = 0\n",
    "    for window in y_pred_windowed:\n",
    "        pred_one = np.count_nonzero(window == 1)\n",
    "        pred_zero = 5 - pred_one\n",
    "        if pred_one > pred_zero:\n",
    "            outcome = int(1)\n",
    "            outcomes = np.append(outcomes, outcome)\n",
    "        else:\n",
    "            outcome = int(0)\n",
    "            outcomes = np.append(outcomes, outcome)\n",
    "    \n",
    "    outcomes = np.append(outcomes, last_four_values)\n",
    "            \n",
    "    \n",
    "    return outcomes"
   ]
  },
  {
   "cell_type": "markdown",
   "id": "2e2249d6",
   "metadata": {},
   "source": [
    "## Testing data on models"
   ]
  },
  {
   "cell_type": "markdown",
   "id": "56b117a7",
   "metadata": {},
   "source": [
    "### ML Models"
   ]
  },
  {
   "cell_type": "code",
   "execution_count": null,
   "id": "f16cc2ae",
   "metadata": {},
   "outputs": [],
   "source": [
    "ml_types = [\"ML_DT\", \"ML_KNN\", \"ML_SDG\", \"ML_LR\", \"ML_MLP\", \"ML_RF\", \"ML_SVM\"]\n",
    "folders = [\"gl\\\\\"]"
   ]
  },
  {
   "cell_type": "code",
   "execution_count": null,
   "id": "b10a6c3d",
   "metadata": {},
   "outputs": [],
   "source": [
    "start = \"path_model\"\n",
    "end = \"_adapt.pkl\""
   ]
  },
  {
   "cell_type": "code",
   "execution_count": null,
   "id": "ca4f8b73",
   "metadata": {},
   "outputs": [],
   "source": [
    "df_evaluation_parofastin_168 = pd.DataFrame(columns=['model','used_data','accuracy','smoothed_accuracy'])\n",
    "df_evaluation_parofastin_bahai = pd.DataFrame(columns=['model','used_data','accuracy','smoothed_accuracy'])\n",
    "\n",
    "\n",
    "import pickle\n",
    "\n",
    "for ml_type in ml_types:\n",
    "    for folder in folders:\n",
    "        \n",
    "        path = start + folder + ml_type + end\n",
    "\n",
    "        with open(path, \"rb\") as f:\n",
    "            model = pickle.load(f)\n",
    "            \n",
    "        y_pred_168 = model.predict(X_pred_parofastin_168_ml)\n",
    "        acc_16_8 = accuracy_score(y_test_168_float, y_pred_168)\n",
    "        y_pred_bahai = model.predict(X_pred_parofastin_bahai_ml)\n",
    "        acc_bahai = accuracy_score(y_test_bahai_float, y_pred_bahai)\n",
    "        \n",
    "        y_pred_168_smoothed = smoothing(y_pred_168)\n",
    "        acc_16_8_smoothed = accuracy_score(y_test_168_float, y_pred_168_smoothed)\n",
    "        y_pred_bahai_smoothed = smoothing(y_pred_bahai)\n",
    "        acc_bahai_smoothed = accuracy_score(y_test_bahai_float, y_pred_bahai_smoothed)\n",
    "        \n",
    "        df_evaluation_parofastin_168 = df_evaluation_parofastin_168.append({'model': ml_type, 'used_data':folder, 'accuracy': acc_16_8, \"smoothed_accuracy\": acc_16_8_smoothed}, ignore_index=True)\n",
    "        df_evaluation_parofastin_bahai = df_evaluation_parofastin_bahai.append({'model': ml_type, 'used_data':folder, 'accuracy': acc_bahai, \"smoothed_accuracy\": acc_bahai_smoothed}, ignore_index=True)\n"
   ]
  },
  {
   "cell_type": "code",
   "execution_count": null,
   "id": "ab776571",
   "metadata": {
    "scrolled": true
   },
   "outputs": [],
   "source": [
    "df_evaluation_parofastin_bahai"
   ]
  },
  {
   "cell_type": "markdown",
   "id": "43e42cbd",
   "metadata": {},
   "source": [
    "### TSC models"
   ]
  },
  {
   "cell_type": "code",
   "execution_count": null,
   "id": "d7ac9b78",
   "metadata": {},
   "outputs": [],
   "source": [
    "ml_types = [\"CLF_TSC\", \"KNN_TSC\"]\n",
    "folders = [\"gl\\\\\"]\n",
    "start = \"path_model\n",
    "end = \".pkl\""
   ]
  },
  {
   "cell_type": "code",
   "execution_count": null,
   "id": "2c823259",
   "metadata": {},
   "outputs": [],
   "source": [
    "for ml_type in ml_types:\n",
    "    for folder in folders:\n",
    "        \n",
    "        path = start + folder + ml_type + end\n",
    "\n",
    "        with open(path, \"rb\") as f:\n",
    "            model = pickle.load(f)\n",
    "            \n",
    "        y_pred_168 = model.predict(x_list_pred_168)\n",
    "        acc_16_8 = accuracy_score(pred_labels_tsc_168, y_pred_168)\n",
    "        y_pred_bahai = model.predict(x_list_pred_bahai)\n",
    "        acc_bahai = accuracy_score(pred_labels_tsc_bahai, y_pred_bahai)\n",
    "        \n",
    "        y_pred_168_smoothed = smoothing(y_pred_168)\n",
    "        acc_16_8_smoothed = accuracy_score(pred_labels_tsc_168, y_pred_168_smoothed)\n",
    "        y_pred_bahai_smoothed = smoothing(y_pred_bahai)\n",
    "        acc_bahai_smoothed = accuracy_score(pred_labels_tsc_bahai, y_pred_bahai_smoothed)\n",
    "        \n",
    "        df_evaluation_parofastin_168 = df_evaluation_parofastin_168.append({'model': ml_type, 'used_data':folder, 'accuracy': acc_16_8, \"smoothed_accuracy\": acc_16_8_smoothed}, ignore_index=True)\n",
    "        df_evaluation_parofastin_bahai = df_evaluation_parofastin_bahai.append({'model': ml_type, 'used_data':folder, 'accuracy': acc_bahai, \"smoothed_accuracy\": acc_bahai_smoothed}, ignore_index=True)"
   ]
  },
  {
   "cell_type": "markdown",
   "id": "0daa213a",
   "metadata": {},
   "source": [
    "### TSC models raw"
   ]
  },
  {
   "cell_type": "code",
   "execution_count": null,
   "id": "f259e6a3",
   "metadata": {},
   "outputs": [],
   "source": [
    "ml_types = [\"CLF_TSC\", \"KNN_TSC\"]\n",
    "folders = [\"gl\\\\\"]\n",
    "start = \"path_model\"\n",
    "end = \".pkl\""
   ]
  },
  {
   "cell_type": "code",
   "execution_count": null,
   "id": "48f6b6f5",
   "metadata": {},
   "outputs": [],
   "source": [
    "for ml_type in ml_types:\n",
    "    for folder in folders:\n",
    "        \n",
    "        path = start + folder + ml_type + end\n",
    "\n",
    "        with open(path, \"rb\") as f:\n",
    "            model = pickle.load(f)\n",
    "            \n",
    "        y_pred_168_raw = model.predict(x_list_pred_168_raw)\n",
    "        acc_16_8_raw = accuracy_score(pred_labels_tsc_168_raw, y_pred_168_raw)\n",
    "        y_pred_bahai_raw = model.predict(x_list_pred_bahai_raw)\n",
    "        acc_bahai_raw = accuracy_score(pred_labels_tsc_bahai_raw, y_pred_bahai_raw)\n",
    "        \n",
    "        y_pred_168_raw_smoothed = smoothing(y_pred_168_raw)\n",
    "        acc_16_8_raw_smoothed = accuracy_score(pred_labels_tsc_168_raw, y_pred_168_raw_smoothed)\n",
    "        y_pred_bahai_raw_smoothed = smoothing(y_pred_bahai_raw)\n",
    "        acc_bahai_raw_smoothed = accuracy_score(pred_labels_tsc_bahai_raw, y_pred_bahai_raw_smoothed)\n",
    "        \n",
    "        df_evaluation_parofastin_168 = df_evaluation_parofastin_168.append({'model': ml_type, 'used_data':folder, 'accuracy': acc_16_8_raw, \"smoothed_accuracy\": acc_16_8_raw_smoothed}, ignore_index=True)\n",
    "        df_evaluation_parofastin_bahai = df_evaluation_parofastin_bahai.append({'model': ml_type, 'used_data':folder, 'accuracy': acc_bahai_raw, \"smoothed_accuracy\": acc_bahai_raw_smoothed}, ignore_index=True)"
   ]
  },
  {
   "cell_type": "code",
   "execution_count": null,
   "id": "d2263f6a",
   "metadata": {},
   "outputs": [],
   "source": [
    "df_evaluation_parofastin_168.to_csv(\"evaluation/df_evaluation_parofastin_168.csv\", sep='\\t')\n",
    "df_evaluation_parofastin_bahai.to_csv(\"evaluation/df_evaluation_parofastin_bahai.csv\", sep='\\t')"
   ]
  },
  {
   "cell_type": "code",
   "execution_count": null,
   "id": "3b79472d",
   "metadata": {},
   "outputs": [],
   "source": [
    "df_evaluation_parofastin_bahai"
   ]
  },
  {
   "cell_type": "code",
   "execution_count": null,
   "id": "af1f8c1e",
   "metadata": {},
   "outputs": [],
   "source": [
    "df_evaluation_parofastin_168\n"
   ]
  },
  {
   "cell_type": "code",
   "execution_count": null,
   "id": "9fda9029",
   "metadata": {},
   "outputs": [],
   "source": [
    "new_row_1 = {'model':'Hutchison', 'used_data':\"gl and nutrition\", 'accuracy':0.691, 'smoothed_accuracy':0.7178}\n",
    "new_row_2 = {'model':'Hutchison', 'used_data':\"gl and nutrition\", 'accuracy':0.6121, 'smoothed_accuracy':0.6389}\n",
    "\n",
    "\n",
    "df_evaluation_parofastin_bahai = df_evaluation_parofastin_bahai.append(new_row_1, ignore_index=True)\n",
    "df_evaluation_parofastin_168 = df_evaluation_parofastin_168.append(new_row_2, ignore_index=True)"
   ]
  },
  {
   "cell_type": "code",
   "execution_count": null,
   "id": "667559a5",
   "metadata": {},
   "outputs": [],
   "source": [
    "df_evaluation_parofastin_bahai = df_evaluation_parofastin_bahai.sort_values(by=['smoothed_accuracy'], ascending=False)\n",
    "df_evaluation_parofastin_168 = df_evaluation_parofastin_168.sort_values(by=['smoothed_accuracy'], ascending=False)\n"
   ]
  },
  {
   "cell_type": "markdown",
   "id": "df0ebdb8",
   "metadata": {},
   "source": [
    " # Evaluation of simglucosedata"
   ]
  },
  {
   "cell_type": "code",
   "execution_count": null,
   "id": "90c6b072",
   "metadata": {},
   "outputs": [],
   "source": [
    "simglucose = pd.read_csv('path_model', sep='\\t')"
   ]
  },
  {
   "cell_type": "code",
   "execution_count": null,
   "id": "dc222897",
   "metadata": {},
   "outputs": [],
   "source": [
    "simglucose['Time'] = pd.to_datetime(simglucose['Time'], format=\"%Y-%m-%d %H:%M:%S\")\n",
    "simglucose['Day'] = simglucose[\"Time\"].dt.date\n",
    "simglucose['gl'] = pd.to_numeric(simglucose['CGM'])\n",
    "simglucose[\"Glucose\"] = simglucose[\"gl\"]\n"
   ]
  },
  {
   "cell_type": "code",
   "execution_count": null,
   "id": "ab2cf0c2",
   "metadata": {},
   "outputs": [],
   "source": [
    "simglucose['Time'] = pd.to_datetime(simglucose['Time'])\n",
    "simglucose = simglucose.set_index('Time')"
   ]
  },
  {
   "cell_type": "code",
   "execution_count": null,
   "id": "0c03e826",
   "metadata": {},
   "outputs": [],
   "source": [
    "simglucose = simglucose.resample('15T').mean()\n"
   ]
  },
  {
   "cell_type": "code",
   "execution_count": null,
   "id": "4b078ac9",
   "metadata": {},
   "outputs": [],
   "source": [
    "simglucose"
   ]
  },
  {
   "cell_type": "code",
   "execution_count": null,
   "id": "06a2ce65",
   "metadata": {},
   "outputs": [],
   "source": [
    "simglucose.to_csv(\"simglucose_data_resampled.csv\", sep='\\t')\n"
   ]
  },
  {
   "cell_type": "code",
   "execution_count": null,
   "id": "ca3332ee",
   "metadata": {},
   "outputs": [],
   "source": [
    "x_list_simglucose = []\n",
    "train_labels_simglucose = []\n",
    "\n",
    "\n",
    "window_size = 3\n",
    "step_size = 1\n",
    "\n",
    "# creating overlaping windows of size window-size 100\n",
    "for i in range(0, simglucose.shape[0] - window_size, step_size):\n",
    "    time = simglucose['Time'].values[i: i + window_size]\n",
    "    times = simglucose['Day'].values[i: i + window_size]\n",
    "    gls = simglucose['Glucose'].values[i: i + window_size]\n",
    "\n",
    "    label = stats.mode(simglucose['fasting_state'][i: i + window_size])[0][0]\n",
    "\n",
    "    df_slice = pd.DataFrame(time, columns=['Time'])\n",
    "    df_slice[\"Day\"] = times\n",
    "    df_slice[\"Glucose\"] = gls   \n",
    "\n",
    "    x_list_simglucose.append(df_slice)\n",
    "\n",
    "    train_labels_simglucose.append(label)"
   ]
  },
  {
   "cell_type": "code",
   "execution_count": null,
   "id": "984ef15a",
   "metadata": {},
   "outputs": [],
   "source": [
    "X_pred_simglucose = feat_statistical_measures_gl(x_list_simglucose)\n"
   ]
  },
  {
   "cell_type": "code",
   "execution_count": null,
   "id": "c2c0f9de",
   "metadata": {},
   "outputs": [],
   "source": [
    "y_test_simglucose = np.array(train_labels_simglucose)\n",
    "\n",
    "def to_float(input_string):\n",
    "    if input_string == \"fasting\":\n",
    "        return 0\n",
    "    else:\n",
    "        return 1"
   ]
  },
  {
   "cell_type": "code",
   "execution_count": null,
   "id": "e63e6f50",
   "metadata": {},
   "outputs": [],
   "source": [
    "func_float = np.vectorize(to_float)\n",
    "y_test_simglucose = func_float(y_test_simglucose)\n"
   ]
  },
  {
   "cell_type": "code",
   "execution_count": null,
   "id": "c625fbf8",
   "metadata": {},
   "outputs": [],
   "source": [
    "from datetime import datetime\n",
    "\n",
    "\n",
    "X_pred_simglucose.time = pd.to_datetime(X_pred_simglucose.time)\n",
    "\n",
    "X_pred_simglucose = X_pred_simglucose.drop([\"time\"], axis=1)\n"
   ]
  },
  {
   "cell_type": "markdown",
   "id": "d2b4a27b",
   "metadata": {},
   "source": [
    "## Testing on models"
   ]
  },
  {
   "cell_type": "markdown",
   "id": "8883017c",
   "metadata": {},
   "source": [
    "### ML models"
   ]
  },
  {
   "cell_type": "code",
   "execution_count": null,
   "id": "9cf57707",
   "metadata": {},
   "outputs": [],
   "source": [
    "ml_types = [\"ML_DT\", \"ML_KNN\", \"ML_SDG\", \"ML_LR\", \"ML_MLP\", \"ML_RF\", \"ML_SVM\"]\n",
    "folders = [\"gl\\\\\"]"
   ]
  },
  {
   "cell_type": "code",
   "execution_count": null,
   "id": "6a80ad26",
   "metadata": {},
   "outputs": [],
   "source": [
    "start = \"model_path\"\n",
    "end = \"_adapt.pkl\""
   ]
  },
  {
   "cell_type": "code",
   "execution_count": null,
   "id": "cb0f3ac7",
   "metadata": {},
   "outputs": [],
   "source": [
    "scaler = pickle.load(open(\"ML_scaler_adapt.pkl\", 'rb'))\n"
   ]
  },
  {
   "cell_type": "code",
   "execution_count": null,
   "id": "8693688d",
   "metadata": {},
   "outputs": [],
   "source": [
    "X_pred_simglucose = scaler.transform(X_pred_simglucose)\n"
   ]
  },
  {
   "cell_type": "code",
   "execution_count": null,
   "id": "4cdbfa67",
   "metadata": {},
   "outputs": [],
   "source": [
    "df_evaluation_simglucose = pd.DataFrame(columns=['model','used_data','accuracy','smoothed_accuracy'])\n",
    "\n",
    "\n",
    "import pickle\n",
    "\n",
    "for ml_type in ml_types:\n",
    "    for folder in folders:\n",
    "        \n",
    "        path = start + folder + ml_type + end\n",
    "\n",
    "        with open(path, \"rb\") as f:\n",
    "            model = pickle.load(f)\n",
    "            \n",
    "        y_pred_simglucose = model.predict(X_pred_simglucose)\n",
    "        acc_simglucose = accuracy_score(y_test_simglucose, y_pred_simglucose)\n",
    "        \n",
    "        y_pred_simglucose_smoothed = smoothing(y_pred_simglucose)\n",
    "        acc_simglucose_smoothed = accuracy_score(y_test_simglucose, y_pred_simglucose_smoothed)\n",
    "\n",
    "        \n",
    "        df_evaluation_simglucose = df_evaluation_simglucose.append({'model': ml_type, 'used_data':folder, 'accuracy': acc_simglucose, \"smoothed_accuracy\": acc_simglucose_smoothed}, ignore_index=True)\n"
   ]
  },
  {
   "cell_type": "code",
   "execution_count": null,
   "id": "5dac638b",
   "metadata": {},
   "outputs": [],
   "source": [
    "df_evaluation_simglucose"
   ]
  },
  {
   "cell_type": "markdown",
   "id": "166b4f1a",
   "metadata": {},
   "source": [
    "### TSC models"
   ]
  },
  {
   "cell_type": "code",
   "execution_count": null,
   "id": "65cc04a9",
   "metadata": {},
   "outputs": [],
   "source": [
    "X_pred_simglucose"
   ]
  },
  {
   "cell_type": "code",
   "execution_count": null,
   "id": "3e0ac3fe",
   "metadata": {},
   "outputs": [],
   "source": [
    "\n",
    "window_size = 5\n",
    "\n",
    "x_list_simglucose = []\n",
    "x_list_pred_tsc_2nd = []\n",
    "pred_labels_tsc_simglucose = []\n",
    "counter = 1\n",
    "\n",
    "for i in range(0, X_pred_simglucose.shape[0], 1):\n",
    "\n",
    "    time = X_pred_simglucose['time'].values[i]\n",
    "    cgm_interdaycv = X_pred_simglucose['cgm_interdaycv'].values[i]\n",
    "    J_index = X_pred_simglucose['J_index'].values[i]\n",
    "    maximum = X_pred_simglucose['maximum'].values[i]\n",
    "\n",
    "\n",
    "    x_list_pred_tsc_3rd = []\n",
    "    x_list_pred_tsc_3rd.append(cgm_interdaycv)\n",
    "    x_list_pred_tsc_3rd.append(J_index)\n",
    "    x_list_pred_tsc_3rd.append(maximum)\n",
    "\n",
    "    x_list_pred_tsc_2nd.append(x_list_pred_tsc_3rd)\n",
    "\n",
    "    if counter >= window_size:\n",
    "        pred_labels_tsc_simglucose.append(y_test_simglucose[i])\n",
    "\n",
    "        x_list_simglucose.append(x_list_pred_tsc_2nd)\n",
    "        x_list_pred_tsc_2nd = []\n",
    "        counter = 0\n",
    "\n",
    "    counter += 1\n",
    "\n",
    "x_list_simglucose = to_time_series_dataset(x_list_simglucose)"
   ]
  },
  {
   "cell_type": "code",
   "execution_count": null,
   "id": "e3bbdc88",
   "metadata": {},
   "outputs": [],
   "source": [
    "x_list_simglucose.shape"
   ]
  },
  {
   "cell_type": "markdown",
   "id": "b11f8a04",
   "metadata": {},
   "source": [
    "### Test"
   ]
  },
  {
   "cell_type": "code",
   "execution_count": null,
   "id": "96c6716e",
   "metadata": {},
   "outputs": [],
   "source": [
    "ml_types = [\"CLF_TSC\", \"KNN_TSC\"]\n",
    "folders = [\"gl\\\\\"]\n",
    "start = \"models_TSC\"\n",
    "end = \".pkl\""
   ]
  },
  {
   "cell_type": "code",
   "execution_count": null,
   "id": "be5cc475",
   "metadata": {},
   "outputs": [],
   "source": [
    "for ml_type in ml_types:\n",
    "    for folder in folders:\n",
    "        \n",
    "        path = start + folder + ml_type + end\n",
    "\n",
    "        with open(path, \"rb\") as f:\n",
    "            model = pickle.load(f)\n",
    "            \n",
    "        y_pred_simglucose = model.predict(x_list_simglucose)\n",
    "        acc_simglucose = accuracy_score(pred_labels_tsc_simglucose, y_pred_simglucose)\n",
    "\n",
    "        \n",
    "        y_pred_simglucose_smoothed = smoothing(y_pred_simglucose)\n",
    "        acc_simglucose_smoothed = accuracy_score(pred_labels_tsc_simglucose, y_pred_simglucose_smoothed)\n",
    "\n",
    "        \n",
    "        df_evaluation_simglucose = df_evaluation_simglucose.append({'model': ml_type, 'used_data':folder, 'accuracy': acc_simglucose, \"smoothed_accuracy\": acc_simglucose_smoothed}, ignore_index=True)\n"
   ]
  },
  {
   "cell_type": "code",
   "execution_count": null,
   "id": "f179521d",
   "metadata": {},
   "outputs": [],
   "source": [
    "df_evaluation_simglucose"
   ]
  },
  {
   "cell_type": "markdown",
   "id": "c9d7e455",
   "metadata": {},
   "source": [
    "### Raw"
   ]
  },
  {
   "cell_type": "code",
   "execution_count": null,
   "id": "1440f460",
   "metadata": {},
   "outputs": [],
   "source": [
    "map_dict = {\"non-fasting\": 1, \"fasting\":0}\n",
    "simglucose[\"fasting_state\"] = simglucose[\"fasting_state\"].map(map_dict)\n"
   ]
  },
  {
   "cell_type": "code",
   "execution_count": null,
   "id": "bd3e71a1",
   "metadata": {},
   "outputs": [],
   "source": [
    "y_simglucose_raw_float = simglucose[\"fasting_state\"]\n",
    "\n",
    "y_simglucose_raw_float = np.array(y_simglucose_raw_float)\n"
   ]
  },
  {
   "cell_type": "code",
   "execution_count": null,
   "id": "64631836",
   "metadata": {},
   "outputs": [],
   "source": [
    "y_simglucose_raw_float\n"
   ]
  },
  {
   "cell_type": "code",
   "execution_count": null,
   "id": "c86ad476",
   "metadata": {},
   "outputs": [],
   "source": [
    "\n",
    "window_size = 5\n",
    "\n",
    "x_list_simglucose = []\n",
    "x_list_pred_tsc_2nd = []\n",
    "pred_labels_tsc_simglucose = []\n",
    "counter = 1\n",
    "\n",
    "for i in range(0, simglucose.shape[0], 1):\n",
    "\n",
    "    gl = simglucose['gl'].values[i]\n",
    "\n",
    "\n",
    "    x_list_pred_tsc_3rd = []\n",
    "    x_list_pred_tsc_3rd.append(gl)\n",
    "\n",
    "    x_list_pred_tsc_2nd.append(x_list_pred_tsc_3rd)\n",
    "\n",
    "    if counter >= window_size:\n",
    "        pred_labels_tsc_simglucose.append(y_simglucose_raw_float[i])\n",
    "\n",
    "        x_list_simglucose.append(x_list_pred_tsc_2nd)\n",
    "        x_list_pred_tsc_2nd = []\n",
    "        counter = 0\n",
    "\n",
    "    counter += 1\n",
    "\n",
    "x_list_simglucose = to_time_series_dataset(x_list_simglucose)"
   ]
  },
  {
   "cell_type": "code",
   "execution_count": null,
   "id": "86be8def",
   "metadata": {},
   "outputs": [],
   "source": [
    "ml_types = [\"KNN_TSC\"]\n",
    "folders = [\"gl\\\\\"]\n",
    "start = \"models_raw_TSC\"\n",
    "end = \"_scaled.pkl\""
   ]
  },
  {
   "cell_type": "code",
   "execution_count": null,
   "id": "8d419918",
   "metadata": {},
   "outputs": [],
   "source": [
    "df_evaluation_simglucose = pd.DataFrame(columns=['model','used_data','accuracy','smoothed_accuracy'])\n",
    "\n",
    "\n",
    "for ml_type in ml_types:\n",
    "    for folder in folders:\n",
    "        \n",
    "        path = start + folder + ml_type + end\n",
    "\n",
    "        with open(path, \"rb\") as f:\n",
    "            model = pickle.load(f)\n",
    "            \n",
    "        y_pred_simglucose = model.predict(x_list_simglucose)\n",
    "        acc_simglucose = accuracy_score(pred_labels_tsc_simglucose, y_pred_simglucose)\n",
    "\n",
    "        \n",
    "        y_pred_simglucose_smoothed = smoothing(y_pred_simglucose)\n",
    "        acc_simglucose_smoothed = accuracy_score(pred_labels_tsc_simglucose, y_pred_simglucose_smoothed)\n",
    "\n",
    "        \n",
    "        df_evaluation_simglucose = df_evaluation_simglucose.append({'model': ml_type, 'used_data':folder, 'accuracy': acc_simglucose, \"smoothed_accuracy\": acc_simglucose_smoothed}, ignore_index=True)\n"
   ]
  },
  {
   "cell_type": "code",
   "execution_count": null,
   "id": "e37845a7",
   "metadata": {},
   "outputs": [],
   "source": [
    "df_evaluation_simglucose.to_csv(\"evaluation/df_evaluation_simglucose.csv\", sep='\\t')\n"
   ]
  },
  {
   "cell_type": "code",
   "execution_count": null,
   "id": "f27fe172",
   "metadata": {},
   "outputs": [],
   "source": []
  }
 ],
 "metadata": {
  "kernelspec": {
   "display_name": "Python 3 (ipykernel)",
   "language": "python",
   "name": "python3"
  },
  "language_info": {
   "codemirror_mode": {
    "name": "ipython",
    "version": 3
   },
   "file_extension": ".py",
   "mimetype": "text/x-python",
   "name": "python",
   "nbconvert_exporter": "python",
   "pygments_lexer": "ipython3",
   "version": "3.8.8"
  }
 },
 "nbformat": 4,
 "nbformat_minor": 5
}
