{
 "cells": [
  {
   "cell_type": "code",
   "execution_count": 1,
   "id": "6de3f8a2",
   "metadata": {},
   "outputs": [
    {
     "data": {
      "text/html": [
       "<style>.container { width:100% !important; }</style>"
      ],
      "text/plain": [
       "<IPython.core.display.HTML object>"
      ]
     },
     "metadata": {},
     "output_type": "display_data"
    }
   ],
   "source": [
    "import cgmquantify as cgm\n",
    "import pandas as pd\n",
    "import datetime as datetime\n",
    "from datetime import date\n",
    "from scipy.stats import stats\n",
    "import numpy as np\n",
    "from IPython.display import display, HTML\n",
    "display(HTML(\"<style>.container { width:100% !important; }</style>\"))\n",
    "from scipy.signal import find_peaks\n",
    "from scipy.stats import stats\n",
    "\n",
    "from sklearn.metrics import accuracy_score, classification_report\n",
    "from sklearn.linear_model import LogisticRegression\n",
    "from sklearn.tree import DecisionTreeClassifier\n",
    "from sklearn.neighbors import KNeighborsClassifier\n",
    "from sklearn.linear_model import LinearRegression\n",
    "from numpy import mean\n",
    "from numpy import absolute\n",
    "from numpy import sqrt\n",
    "import pandas as pd\n",
    "import warnings\n",
    "warnings.filterwarnings(\"ignore\")\n",
    "\n",
    "from tensorflow import keras\n",
    "import numpy as np\n",
    "import matplotlib.pyplot as plt"
   ]
  },
  {
   "cell_type": "code",
   "execution_count": null,
   "id": "f94e1bc4",
   "metadata": {},
   "outputs": [],
   "source": [
    "!pip install cgmquantify"
   ]
  },
  {
   "cell_type": "code",
   "execution_count": null,
   "id": "184c4cf3",
   "metadata": {},
   "outputs": [],
   "source": [
    "!pip install tslearn"
   ]
  },
  {
   "cell_type": "code",
   "execution_count": null,
   "id": "c4e12220",
   "metadata": {},
   "outputs": [],
   "source": [
    "!pip install imbalanced-learn"
   ]
  },
  {
   "cell_type": "code",
   "execution_count": 2,
   "id": "87902116",
   "metadata": {},
   "outputs": [],
   "source": [
    "df_merged_all = pd.read_csv('df_overnight_and_PRO.csv', sep='\\t')\n"
   ]
  },
  {
   "cell_type": "code",
   "execution_count": 152,
   "id": "9b688b58",
   "metadata": {},
   "outputs": [
    {
     "data": {
      "text/html": [
       "<div>\n",
       "<style scoped>\n",
       "    .dataframe tbody tr th:only-of-type {\n",
       "        vertical-align: middle;\n",
       "    }\n",
       "\n",
       "    .dataframe tbody tr th {\n",
       "        vertical-align: top;\n",
       "    }\n",
       "\n",
       "    .dataframe thead th {\n",
       "        text-align: right;\n",
       "    }\n",
       "</style>\n",
       "<table border=\"1\" class=\"dataframe\">\n",
       "  <thead>\n",
       "    <tr style=\"text-align: right;\">\n",
       "      <th></th>\n",
       "      <th>Unnamed: 0</th>\n",
       "      <th>id</th>\n",
       "      <th>time</th>\n",
       "      <th>gl</th>\n",
       "      <th>phase</th>\n",
       "      <th>label</th>\n",
       "      <th>axis1</th>\n",
       "      <th>axis2</th>\n",
       "      <th>axis3</th>\n",
       "      <th>steps</th>\n",
       "      <th>lux</th>\n",
       "      <th>inclineOff</th>\n",
       "      <th>inclineStanding</th>\n",
       "      <th>inclineSitting</th>\n",
       "      <th>inclineLying</th>\n",
       "      <th>vm</th>\n",
       "      <th>joinID</th>\n",
       "    </tr>\n",
       "  </thead>\n",
       "  <tbody>\n",
       "    <tr>\n",
       "      <th>0</th>\n",
       "      <td>0</td>\n",
       "      <td>1</td>\n",
       "      <td>2020-06-23 12:38:00+00:00</td>\n",
       "      <td>125.0</td>\n",
       "      <td>screening</td>\n",
       "      <td>Undefined</td>\n",
       "      <td>NaN</td>\n",
       "      <td>NaN</td>\n",
       "      <td>NaN</td>\n",
       "      <td>NaN</td>\n",
       "      <td>NaN</td>\n",
       "      <td>NaN</td>\n",
       "      <td>NaN</td>\n",
       "      <td>NaN</td>\n",
       "      <td>NaN</td>\n",
       "      <td>NaN</td>\n",
       "      <td>NaN</td>\n",
       "    </tr>\n",
       "    <tr>\n",
       "      <th>1</th>\n",
       "      <td>1</td>\n",
       "      <td>1</td>\n",
       "      <td>2020-06-23 12:45:00+00:00</td>\n",
       "      <td>120.0</td>\n",
       "      <td>screening</td>\n",
       "      <td>Undefined</td>\n",
       "      <td>NaN</td>\n",
       "      <td>NaN</td>\n",
       "      <td>NaN</td>\n",
       "      <td>NaN</td>\n",
       "      <td>NaN</td>\n",
       "      <td>NaN</td>\n",
       "      <td>NaN</td>\n",
       "      <td>NaN</td>\n",
       "      <td>NaN</td>\n",
       "      <td>NaN</td>\n",
       "      <td>NaN</td>\n",
       "    </tr>\n",
       "    <tr>\n",
       "      <th>2</th>\n",
       "      <td>2</td>\n",
       "      <td>1</td>\n",
       "      <td>2020-06-23 12:45:00+00:00</td>\n",
       "      <td>121.0</td>\n",
       "      <td>screening</td>\n",
       "      <td>Undefined</td>\n",
       "      <td>NaN</td>\n",
       "      <td>NaN</td>\n",
       "      <td>NaN</td>\n",
       "      <td>NaN</td>\n",
       "      <td>NaN</td>\n",
       "      <td>NaN</td>\n",
       "      <td>NaN</td>\n",
       "      <td>NaN</td>\n",
       "      <td>NaN</td>\n",
       "      <td>NaN</td>\n",
       "      <td>NaN</td>\n",
       "    </tr>\n",
       "    <tr>\n",
       "      <th>3</th>\n",
       "      <td>3</td>\n",
       "      <td>1</td>\n",
       "      <td>2020-06-23 12:53:00+00:00</td>\n",
       "      <td>114.0</td>\n",
       "      <td>screening</td>\n",
       "      <td>Undefined</td>\n",
       "      <td>705.0</td>\n",
       "      <td>593.0</td>\n",
       "      <td>1321.0</td>\n",
       "      <td>8.0</td>\n",
       "      <td>0.0</td>\n",
       "      <td>0.0</td>\n",
       "      <td>60.0</td>\n",
       "      <td>0.0</td>\n",
       "      <td>0.0</td>\n",
       "      <td>1611.0</td>\n",
       "      <td>NaN</td>\n",
       "    </tr>\n",
       "    <tr>\n",
       "      <th>4</th>\n",
       "      <td>4</td>\n",
       "      <td>1</td>\n",
       "      <td>2020-06-23 13:09:00+00:00</td>\n",
       "      <td>107.0</td>\n",
       "      <td>screening</td>\n",
       "      <td>Undefined</td>\n",
       "      <td>363.0</td>\n",
       "      <td>266.0</td>\n",
       "      <td>578.0</td>\n",
       "      <td>16.0</td>\n",
       "      <td>0.0</td>\n",
       "      <td>0.0</td>\n",
       "      <td>0.0</td>\n",
       "      <td>1.0</td>\n",
       "      <td>59.0</td>\n",
       "      <td>733.0</td>\n",
       "      <td>NaN</td>\n",
       "    </tr>\n",
       "    <tr>\n",
       "      <th>...</th>\n",
       "      <td>...</td>\n",
       "      <td>...</td>\n",
       "      <td>...</td>\n",
       "      <td>...</td>\n",
       "      <td>...</td>\n",
       "      <td>...</td>\n",
       "      <td>...</td>\n",
       "      <td>...</td>\n",
       "      <td>...</td>\n",
       "      <td>...</td>\n",
       "      <td>...</td>\n",
       "      <td>...</td>\n",
       "      <td>...</td>\n",
       "      <td>...</td>\n",
       "      <td>...</td>\n",
       "      <td>...</td>\n",
       "      <td>...</td>\n",
       "    </tr>\n",
       "    <tr>\n",
       "      <th>112974</th>\n",
       "      <td>112974</td>\n",
       "      <td>47</td>\n",
       "      <td>2021-12-07 07:06:00+00:00</td>\n",
       "      <td>108.0</td>\n",
       "      <td>lTRE</td>\n",
       "      <td>Undefined</td>\n",
       "      <td>5565.0</td>\n",
       "      <td>5930.0</td>\n",
       "      <td>5865.0</td>\n",
       "      <td>36.0</td>\n",
       "      <td>0.0</td>\n",
       "      <td>0.0</td>\n",
       "      <td>60.0</td>\n",
       "      <td>0.0</td>\n",
       "      <td>0.0</td>\n",
       "      <td>10027.0</td>\n",
       "      <td>NaN</td>\n",
       "    </tr>\n",
       "    <tr>\n",
       "      <th>112975</th>\n",
       "      <td>112975</td>\n",
       "      <td>47</td>\n",
       "      <td>2021-12-07 07:21:00+00:00</td>\n",
       "      <td>110.0</td>\n",
       "      <td>lTRE</td>\n",
       "      <td>Undefined</td>\n",
       "      <td>2043.0</td>\n",
       "      <td>2564.0</td>\n",
       "      <td>3787.0</td>\n",
       "      <td>15.0</td>\n",
       "      <td>0.0</td>\n",
       "      <td>0.0</td>\n",
       "      <td>60.0</td>\n",
       "      <td>0.0</td>\n",
       "      <td>0.0</td>\n",
       "      <td>5009.0</td>\n",
       "      <td>NaN</td>\n",
       "    </tr>\n",
       "    <tr>\n",
       "      <th>112976</th>\n",
       "      <td>112976</td>\n",
       "      <td>47</td>\n",
       "      <td>2021-12-07 07:36:00+00:00</td>\n",
       "      <td>110.0</td>\n",
       "      <td>lTRE</td>\n",
       "      <td>Undefined</td>\n",
       "      <td>NaN</td>\n",
       "      <td>171.0</td>\n",
       "      <td>112.0</td>\n",
       "      <td>0.0</td>\n",
       "      <td>0.0</td>\n",
       "      <td>0.0</td>\n",
       "      <td>15.0</td>\n",
       "      <td>45.0</td>\n",
       "      <td>0.0</td>\n",
       "      <td>205.0</td>\n",
       "      <td>47.lTRE.2021-12-07</td>\n",
       "    </tr>\n",
       "    <tr>\n",
       "      <th>112977</th>\n",
       "      <td>112977</td>\n",
       "      <td>47</td>\n",
       "      <td>2021-12-07 07:51:00+00:00</td>\n",
       "      <td>109.0</td>\n",
       "      <td>lTRE</td>\n",
       "      <td>Undefined</td>\n",
       "      <td>4.0</td>\n",
       "      <td>NaN</td>\n",
       "      <td>NaN</td>\n",
       "      <td>0.0</td>\n",
       "      <td>0.0</td>\n",
       "      <td>0.0</td>\n",
       "      <td>0.0</td>\n",
       "      <td>0.0</td>\n",
       "      <td>60.0</td>\n",
       "      <td>4.0</td>\n",
       "      <td>NaN</td>\n",
       "    </tr>\n",
       "    <tr>\n",
       "      <th>112978</th>\n",
       "      <td>112978</td>\n",
       "      <td>47</td>\n",
       "      <td>2021-12-07 08:45:00+00:00</td>\n",
       "      <td>100.0</td>\n",
       "      <td>lTRE</td>\n",
       "      <td>Undefined</td>\n",
       "      <td>23.0</td>\n",
       "      <td>7.0</td>\n",
       "      <td>NaN</td>\n",
       "      <td>1.0</td>\n",
       "      <td>0.0</td>\n",
       "      <td>60.0</td>\n",
       "      <td>0.0</td>\n",
       "      <td>0.0</td>\n",
       "      <td>0.0</td>\n",
       "      <td>25.0</td>\n",
       "      <td>47.lTRE.2021-12-07</td>\n",
       "    </tr>\n",
       "  </tbody>\n",
       "</table>\n",
       "<p>112979 rows × 17 columns</p>\n",
       "</div>"
      ],
      "text/plain": [
       "        Unnamed: 0  id                       time     gl      phase  \\\n",
       "0                0   1  2020-06-23 12:38:00+00:00  125.0  screening   \n",
       "1                1   1  2020-06-23 12:45:00+00:00  120.0  screening   \n",
       "2                2   1  2020-06-23 12:45:00+00:00  121.0  screening   \n",
       "3                3   1  2020-06-23 12:53:00+00:00  114.0  screening   \n",
       "4                4   1  2020-06-23 13:09:00+00:00  107.0  screening   \n",
       "...            ...  ..                        ...    ...        ...   \n",
       "112974      112974  47  2021-12-07 07:06:00+00:00  108.0       lTRE   \n",
       "112975      112975  47  2021-12-07 07:21:00+00:00  110.0       lTRE   \n",
       "112976      112976  47  2021-12-07 07:36:00+00:00  110.0       lTRE   \n",
       "112977      112977  47  2021-12-07 07:51:00+00:00  109.0       lTRE   \n",
       "112978      112978  47  2021-12-07 08:45:00+00:00  100.0       lTRE   \n",
       "\n",
       "            label   axis1   axis2   axis3  steps  lux  inclineOff  \\\n",
       "0       Undefined     NaN     NaN     NaN    NaN  NaN         NaN   \n",
       "1       Undefined     NaN     NaN     NaN    NaN  NaN         NaN   \n",
       "2       Undefined     NaN     NaN     NaN    NaN  NaN         NaN   \n",
       "3       Undefined   705.0   593.0  1321.0    8.0  0.0         0.0   \n",
       "4       Undefined   363.0   266.0   578.0   16.0  0.0         0.0   \n",
       "...           ...     ...     ...     ...    ...  ...         ...   \n",
       "112974  Undefined  5565.0  5930.0  5865.0   36.0  0.0         0.0   \n",
       "112975  Undefined  2043.0  2564.0  3787.0   15.0  0.0         0.0   \n",
       "112976  Undefined     NaN   171.0   112.0    0.0  0.0         0.0   \n",
       "112977  Undefined     4.0     NaN     NaN    0.0  0.0         0.0   \n",
       "112978  Undefined    23.0     7.0     NaN    1.0  0.0        60.0   \n",
       "\n",
       "        inclineStanding  inclineSitting  inclineLying       vm  \\\n",
       "0                   NaN             NaN           NaN      NaN   \n",
       "1                   NaN             NaN           NaN      NaN   \n",
       "2                   NaN             NaN           NaN      NaN   \n",
       "3                  60.0             0.0           0.0   1611.0   \n",
       "4                   0.0             1.0          59.0    733.0   \n",
       "...                 ...             ...           ...      ...   \n",
       "112974             60.0             0.0           0.0  10027.0   \n",
       "112975             60.0             0.0           0.0   5009.0   \n",
       "112976             15.0            45.0           0.0    205.0   \n",
       "112977              0.0             0.0          60.0      4.0   \n",
       "112978              0.0             0.0           0.0     25.0   \n",
       "\n",
       "                    joinID  \n",
       "0                      NaN  \n",
       "1                      NaN  \n",
       "2                      NaN  \n",
       "3                      NaN  \n",
       "4                      NaN  \n",
       "...                    ...  \n",
       "112974                 NaN  \n",
       "112975                 NaN  \n",
       "112976  47.lTRE.2021-12-07  \n",
       "112977                 NaN  \n",
       "112978  47.lTRE.2021-12-07  \n",
       "\n",
       "[112979 rows x 17 columns]"
      ]
     },
     "execution_count": 152,
     "metadata": {},
     "output_type": "execute_result"
    }
   ],
   "source": [
    "df_merged_all"
   ]
  },
  {
   "cell_type": "code",
   "execution_count": 3,
   "id": "7afa4ab7",
   "metadata": {},
   "outputs": [],
   "source": [
    "df_merged_all = df_merged_all.dropna(subset=['axis1', 'axis2', 'axis3'],how='all')\n",
    "\n",
    "df_merged_all['axis1'] = df_merged_all['axis1'].fillna(0)\n",
    "df_merged_all['axis2'] = df_merged_all['axis2'].fillna(0)\n",
    "df_merged_all['axis3'] = df_merged_all['axis3'].fillna(0)\n",
    "\n",
    "df_merged_all['time'] = pd.to_datetime(df_merged_all['time'] ,errors = 'coerce')\n",
    "\n",
    "df_merged_all = df_merged_all.reset_index(drop=True)\n",
    "df_merged_all = df_merged_all.drop([\"Unnamed: 0\", \"joinID\"], axis=1)\n",
    "\n",
    "fasting_states_to_keep = ['fasting', 'non-fasting']\n",
    "df_merged_all = df_merged_all[df_merged_all.label.isin(fasting_states_to_keep)]\n",
    "\n",
    "#phases_to_keep = ['lTRE', 'eTRE']\n",
    "#df_merged_all = df_merged_all[df_merged_all.phase.isin(phases_to_keep)]\n",
    "\n",
    "final_df = df_merged_all.sort_values(by=['id', 'time', \"phase\"], ascending=True)"
   ]
  },
  {
   "cell_type": "code",
   "execution_count": 4,
   "id": "3026258d",
   "metadata": {},
   "outputs": [],
   "source": [
    "final_df['Time'] = pd.to_datetime(final_df['time'], format='%Y-%m-%dT%H:%M:%S')\n",
    "final_df['Glucose'] = pd.to_numeric(final_df['gl'])\n",
    "final_df['Day'] = final_df[\"Time\"].dt.date\n",
    "final_df = final_df.reset_index(drop=True)"
   ]
  },
  {
   "cell_type": "code",
   "execution_count": 5,
   "id": "0ef79d4e",
   "metadata": {},
   "outputs": [],
   "source": [
    "df_train = final_df[final_df['id'] > 8]\n",
    "df_test = final_df[final_df['id'] <= 8]"
   ]
  },
  {
   "cell_type": "code",
   "execution_count": 120,
   "id": "28a70d00",
   "metadata": {},
   "outputs": [],
   "source": [
    "id_test = [2, 10, 12, 17, 19, 23, 35, 34, 38, 41, 45]"
   ]
  },
  {
   "cell_type": "code",
   "execution_count": 121,
   "id": "78789591",
   "metadata": {},
   "outputs": [],
   "source": [
    "df_test = final_df.loc[final_df['id'].isin(id_test)] \n",
    "df_train = final_df.loc[~final_df['id'].isin(id_test)] "
   ]
  },
  {
   "cell_type": "markdown",
   "id": "753f377c",
   "metadata": {},
   "source": [
    "## Label Encoding"
   ]
  },
  {
   "cell_type": "code",
   "execution_count": 6,
   "id": "f2f86c57",
   "metadata": {},
   "outputs": [],
   "source": [
    "map_dict = {\"non-fasting\": 1, \"fasting\":0}\n",
    "df_train[\"label\"] = df_train[\"label\"].map(map_dict)\n",
    "df_test[\"label\"] = df_test[\"label\"].map(map_dict)"
   ]
  },
  {
   "cell_type": "code",
   "execution_count": 7,
   "id": "33918405",
   "metadata": {},
   "outputs": [],
   "source": [
    "map_dict = {\"screening\": 1, \"lTRE\":0, \"eTRE\":2}\n",
    "df_train[\"phase\"] = df_train[\"phase\"].map(map_dict)\n",
    "df_test[\"phase\"] = df_test[\"phase\"].map(map_dict)"
   ]
  },
  {
   "cell_type": "code",
   "execution_count": 8,
   "id": "f0a84e26",
   "metadata": {},
   "outputs": [
    {
     "data": {
      "text/html": [
       "<div>\n",
       "<style scoped>\n",
       "    .dataframe tbody tr th:only-of-type {\n",
       "        vertical-align: middle;\n",
       "    }\n",
       "\n",
       "    .dataframe tbody tr th {\n",
       "        vertical-align: top;\n",
       "    }\n",
       "\n",
       "    .dataframe thead th {\n",
       "        text-align: right;\n",
       "    }\n",
       "</style>\n",
       "<table border=\"1\" class=\"dataframe\">\n",
       "  <thead>\n",
       "    <tr style=\"text-align: right;\">\n",
       "      <th></th>\n",
       "      <th>id</th>\n",
       "      <th>time</th>\n",
       "      <th>gl</th>\n",
       "      <th>phase</th>\n",
       "      <th>label</th>\n",
       "      <th>axis1</th>\n",
       "      <th>axis2</th>\n",
       "      <th>axis3</th>\n",
       "      <th>steps</th>\n",
       "      <th>lux</th>\n",
       "      <th>inclineOff</th>\n",
       "      <th>inclineStanding</th>\n",
       "      <th>inclineSitting</th>\n",
       "      <th>inclineLying</th>\n",
       "      <th>vm</th>\n",
       "      <th>Time</th>\n",
       "      <th>Glucose</th>\n",
       "      <th>Day</th>\n",
       "    </tr>\n",
       "  </thead>\n",
       "  <tbody>\n",
       "    <tr>\n",
       "      <th>5204</th>\n",
       "      <td>10</td>\n",
       "      <td>2020-09-14 23:04:00+00:00</td>\n",
       "      <td>86.0</td>\n",
       "      <td>0</td>\n",
       "      <td>0</td>\n",
       "      <td>66.0</td>\n",
       "      <td>16.0</td>\n",
       "      <td>70.0</td>\n",
       "      <td>1.0</td>\n",
       "      <td>0.0</td>\n",
       "      <td>0.0</td>\n",
       "      <td>0.0</td>\n",
       "      <td>59.0</td>\n",
       "      <td>1.0</td>\n",
       "      <td>98.0</td>\n",
       "      <td>2020-09-14 23:04:00+00:00</td>\n",
       "      <td>86.0</td>\n",
       "      <td>2020-09-14</td>\n",
       "    </tr>\n",
       "    <tr>\n",
       "      <th>5205</th>\n",
       "      <td>10</td>\n",
       "      <td>2020-09-14 23:19:00+00:00</td>\n",
       "      <td>87.0</td>\n",
       "      <td>0</td>\n",
       "      <td>0</td>\n",
       "      <td>159.0</td>\n",
       "      <td>366.0</td>\n",
       "      <td>455.0</td>\n",
       "      <td>2.0</td>\n",
       "      <td>0.0</td>\n",
       "      <td>0.0</td>\n",
       "      <td>0.0</td>\n",
       "      <td>17.0</td>\n",
       "      <td>43.0</td>\n",
       "      <td>606.0</td>\n",
       "      <td>2020-09-14 23:19:00+00:00</td>\n",
       "      <td>87.0</td>\n",
       "      <td>2020-09-14</td>\n",
       "    </tr>\n",
       "    <tr>\n",
       "      <th>5206</th>\n",
       "      <td>10</td>\n",
       "      <td>2020-09-14 23:36:00+00:00</td>\n",
       "      <td>101.0</td>\n",
       "      <td>0</td>\n",
       "      <td>0</td>\n",
       "      <td>305.0</td>\n",
       "      <td>502.0</td>\n",
       "      <td>462.0</td>\n",
       "      <td>5.0</td>\n",
       "      <td>0.0</td>\n",
       "      <td>0.0</td>\n",
       "      <td>0.0</td>\n",
       "      <td>31.0</td>\n",
       "      <td>29.0</td>\n",
       "      <td>748.0</td>\n",
       "      <td>2020-09-14 23:36:00+00:00</td>\n",
       "      <td>101.0</td>\n",
       "      <td>2020-09-14</td>\n",
       "    </tr>\n",
       "    <tr>\n",
       "      <th>5207</th>\n",
       "      <td>10</td>\n",
       "      <td>2020-09-14 23:46:00+00:00</td>\n",
       "      <td>96.0</td>\n",
       "      <td>0</td>\n",
       "      <td>0</td>\n",
       "      <td>118.0</td>\n",
       "      <td>171.0</td>\n",
       "      <td>270.0</td>\n",
       "      <td>0.0</td>\n",
       "      <td>0.0</td>\n",
       "      <td>0.0</td>\n",
       "      <td>0.0</td>\n",
       "      <td>48.0</td>\n",
       "      <td>12.0</td>\n",
       "      <td>341.0</td>\n",
       "      <td>2020-09-14 23:46:00+00:00</td>\n",
       "      <td>96.0</td>\n",
       "      <td>2020-09-14</td>\n",
       "    </tr>\n",
       "    <tr>\n",
       "      <th>5208</th>\n",
       "      <td>10</td>\n",
       "      <td>2020-09-14 23:51:00+00:00</td>\n",
       "      <td>95.0</td>\n",
       "      <td>0</td>\n",
       "      <td>0</td>\n",
       "      <td>89.0</td>\n",
       "      <td>95.0</td>\n",
       "      <td>410.0</td>\n",
       "      <td>1.0</td>\n",
       "      <td>0.0</td>\n",
       "      <td>0.0</td>\n",
       "      <td>0.0</td>\n",
       "      <td>0.0</td>\n",
       "      <td>60.0</td>\n",
       "      <td>431.0</td>\n",
       "      <td>2020-09-14 23:51:00+00:00</td>\n",
       "      <td>95.0</td>\n",
       "      <td>2020-09-14</td>\n",
       "    </tr>\n",
       "    <tr>\n",
       "      <th>...</th>\n",
       "      <td>...</td>\n",
       "      <td>...</td>\n",
       "      <td>...</td>\n",
       "      <td>...</td>\n",
       "      <td>...</td>\n",
       "      <td>...</td>\n",
       "      <td>...</td>\n",
       "      <td>...</td>\n",
       "      <td>...</td>\n",
       "      <td>...</td>\n",
       "      <td>...</td>\n",
       "      <td>...</td>\n",
       "      <td>...</td>\n",
       "      <td>...</td>\n",
       "      <td>...</td>\n",
       "      <td>...</td>\n",
       "      <td>...</td>\n",
       "      <td>...</td>\n",
       "    </tr>\n",
       "    <tr>\n",
       "      <th>34939</th>\n",
       "      <td>47</td>\n",
       "      <td>2021-12-07 02:21:00+00:00</td>\n",
       "      <td>108.0</td>\n",
       "      <td>0</td>\n",
       "      <td>0</td>\n",
       "      <td>421.0</td>\n",
       "      <td>466.0</td>\n",
       "      <td>296.0</td>\n",
       "      <td>5.0</td>\n",
       "      <td>0.0</td>\n",
       "      <td>0.0</td>\n",
       "      <td>60.0</td>\n",
       "      <td>0.0</td>\n",
       "      <td>0.0</td>\n",
       "      <td>695.0</td>\n",
       "      <td>2021-12-07 02:21:00+00:00</td>\n",
       "      <td>108.0</td>\n",
       "      <td>2021-12-07</td>\n",
       "    </tr>\n",
       "    <tr>\n",
       "      <th>34940</th>\n",
       "      <td>47</td>\n",
       "      <td>2021-12-07 02:51:00+00:00</td>\n",
       "      <td>112.0</td>\n",
       "      <td>0</td>\n",
       "      <td>0</td>\n",
       "      <td>180.0</td>\n",
       "      <td>716.0</td>\n",
       "      <td>255.0</td>\n",
       "      <td>2.0</td>\n",
       "      <td>0.0</td>\n",
       "      <td>40.0</td>\n",
       "      <td>0.0</td>\n",
       "      <td>0.0</td>\n",
       "      <td>20.0</td>\n",
       "      <td>782.0</td>\n",
       "      <td>2021-12-07 02:51:00+00:00</td>\n",
       "      <td>112.0</td>\n",
       "      <td>2021-12-07</td>\n",
       "    </tr>\n",
       "    <tr>\n",
       "      <th>34941</th>\n",
       "      <td>47</td>\n",
       "      <td>2021-12-07 03:21:00+00:00</td>\n",
       "      <td>103.0</td>\n",
       "      <td>0</td>\n",
       "      <td>0</td>\n",
       "      <td>740.0</td>\n",
       "      <td>521.0</td>\n",
       "      <td>251.0</td>\n",
       "      <td>1.0</td>\n",
       "      <td>0.0</td>\n",
       "      <td>0.0</td>\n",
       "      <td>60.0</td>\n",
       "      <td>0.0</td>\n",
       "      <td>0.0</td>\n",
       "      <td>940.0</td>\n",
       "      <td>2021-12-07 03:21:00+00:00</td>\n",
       "      <td>103.0</td>\n",
       "      <td>2021-12-07</td>\n",
       "    </tr>\n",
       "    <tr>\n",
       "      <th>34942</th>\n",
       "      <td>47</td>\n",
       "      <td>2021-12-07 03:36:00+00:00</td>\n",
       "      <td>102.0</td>\n",
       "      <td>0</td>\n",
       "      <td>0</td>\n",
       "      <td>486.0</td>\n",
       "      <td>536.0</td>\n",
       "      <td>260.0</td>\n",
       "      <td>2.0</td>\n",
       "      <td>0.0</td>\n",
       "      <td>0.0</td>\n",
       "      <td>60.0</td>\n",
       "      <td>0.0</td>\n",
       "      <td>0.0</td>\n",
       "      <td>769.0</td>\n",
       "      <td>2021-12-07 03:36:00+00:00</td>\n",
       "      <td>102.0</td>\n",
       "      <td>2021-12-07</td>\n",
       "    </tr>\n",
       "    <tr>\n",
       "      <th>34943</th>\n",
       "      <td>47</td>\n",
       "      <td>2021-12-07 03:51:00+00:00</td>\n",
       "      <td>106.0</td>\n",
       "      <td>0</td>\n",
       "      <td>0</td>\n",
       "      <td>564.0</td>\n",
       "      <td>1011.0</td>\n",
       "      <td>547.0</td>\n",
       "      <td>4.0</td>\n",
       "      <td>0.0</td>\n",
       "      <td>0.0</td>\n",
       "      <td>60.0</td>\n",
       "      <td>0.0</td>\n",
       "      <td>0.0</td>\n",
       "      <td>1281.0</td>\n",
       "      <td>2021-12-07 03:51:00+00:00</td>\n",
       "      <td>106.0</td>\n",
       "      <td>2021-12-07</td>\n",
       "    </tr>\n",
       "  </tbody>\n",
       "</table>\n",
       "<p>29740 rows × 18 columns</p>\n",
       "</div>"
      ],
      "text/plain": [
       "       id                      time     gl  phase  label  axis1   axis2  \\\n",
       "5204   10 2020-09-14 23:04:00+00:00   86.0      0      0   66.0    16.0   \n",
       "5205   10 2020-09-14 23:19:00+00:00   87.0      0      0  159.0   366.0   \n",
       "5206   10 2020-09-14 23:36:00+00:00  101.0      0      0  305.0   502.0   \n",
       "5207   10 2020-09-14 23:46:00+00:00   96.0      0      0  118.0   171.0   \n",
       "5208   10 2020-09-14 23:51:00+00:00   95.0      0      0   89.0    95.0   \n",
       "...    ..                       ...    ...    ...    ...    ...     ...   \n",
       "34939  47 2021-12-07 02:21:00+00:00  108.0      0      0  421.0   466.0   \n",
       "34940  47 2021-12-07 02:51:00+00:00  112.0      0      0  180.0   716.0   \n",
       "34941  47 2021-12-07 03:21:00+00:00  103.0      0      0  740.0   521.0   \n",
       "34942  47 2021-12-07 03:36:00+00:00  102.0      0      0  486.0   536.0   \n",
       "34943  47 2021-12-07 03:51:00+00:00  106.0      0      0  564.0  1011.0   \n",
       "\n",
       "       axis3  steps  lux  inclineOff  inclineStanding  inclineSitting  \\\n",
       "5204    70.0    1.0  0.0         0.0              0.0            59.0   \n",
       "5205   455.0    2.0  0.0         0.0              0.0            17.0   \n",
       "5206   462.0    5.0  0.0         0.0              0.0            31.0   \n",
       "5207   270.0    0.0  0.0         0.0              0.0            48.0   \n",
       "5208   410.0    1.0  0.0         0.0              0.0             0.0   \n",
       "...      ...    ...  ...         ...              ...             ...   \n",
       "34939  296.0    5.0  0.0         0.0             60.0             0.0   \n",
       "34940  255.0    2.0  0.0        40.0              0.0             0.0   \n",
       "34941  251.0    1.0  0.0         0.0             60.0             0.0   \n",
       "34942  260.0    2.0  0.0         0.0             60.0             0.0   \n",
       "34943  547.0    4.0  0.0         0.0             60.0             0.0   \n",
       "\n",
       "       inclineLying      vm                      Time  Glucose         Day  \n",
       "5204            1.0    98.0 2020-09-14 23:04:00+00:00     86.0  2020-09-14  \n",
       "5205           43.0   606.0 2020-09-14 23:19:00+00:00     87.0  2020-09-14  \n",
       "5206           29.0   748.0 2020-09-14 23:36:00+00:00    101.0  2020-09-14  \n",
       "5207           12.0   341.0 2020-09-14 23:46:00+00:00     96.0  2020-09-14  \n",
       "5208           60.0   431.0 2020-09-14 23:51:00+00:00     95.0  2020-09-14  \n",
       "...             ...     ...                       ...      ...         ...  \n",
       "34939           0.0   695.0 2021-12-07 02:21:00+00:00    108.0  2021-12-07  \n",
       "34940          20.0   782.0 2021-12-07 02:51:00+00:00    112.0  2021-12-07  \n",
       "34941           0.0   940.0 2021-12-07 03:21:00+00:00    103.0  2021-12-07  \n",
       "34942           0.0   769.0 2021-12-07 03:36:00+00:00    102.0  2021-12-07  \n",
       "34943           0.0  1281.0 2021-12-07 03:51:00+00:00    106.0  2021-12-07  \n",
       "\n",
       "[29740 rows x 18 columns]"
      ]
     },
     "execution_count": 8,
     "metadata": {},
     "output_type": "execute_result"
    }
   ],
   "source": [
    "df_train"
   ]
  },
  {
   "cell_type": "markdown",
   "id": "e8ee2fda",
   "metadata": {},
   "source": [
    "## Windowing"
   ]
  },
  {
   "cell_type": "code",
   "execution_count": 8,
   "id": "6463938a",
   "metadata": {},
   "outputs": [],
   "source": [
    "x_list_train = []\n",
    "train_labels = []\n",
    "\n",
    "\n",
    "window_size = 3\n",
    "step_size = 1\n",
    "\n",
    "# creating overlaping windows of size window-size 100\n",
    "for i in range(0, df_train.shape[0] - window_size, step_size):\n",
    "    id_p = df_train['id'].values[i: i + window_size]\n",
    "    phase = df_train['phase'].values[i: i + window_size]\n",
    "    time = df_train['Time'].values[i: i + window_size]\n",
    "    times = df_train['Day'].values[i: i + window_size]\n",
    "    gls = df_train['Glucose'].values[i: i + window_size]\n",
    "    steps = df_train['steps'].values[i: i + window_size]\n",
    "    inclineStanding = df_train['inclineStanding'].values[i: i + window_size]\n",
    "    inclineSitting = df_train['inclineSitting'].values[i: i + window_size]\n",
    "    inclineLying = df_train['inclineLying'].values[i: i + window_size]\n",
    "    \n",
    "    timedelta_first = time[1] - time[0]\n",
    "    timedelta_second = time[2] - time[1]\n",
    "    one_hour = 3600000000000\n",
    "    \n",
    "    if (timedelta_first < one_hour and timedelta_second < one_hour):\n",
    "   \n",
    "    \n",
    "        xs = df_train['axis1'].values[i: i + window_size]\n",
    "        ys = df_train['axis2'].values[i: i + window_size]\n",
    "        zs = df_train['axis3'].values[i: i + window_size]\n",
    "\n",
    "        label = stats.mode(df_train['label'][i: i + window_size])[0][0]\n",
    "\n",
    "        df_slice = pd.DataFrame(time, columns=['Time'])\n",
    "        df_slice[\"id\"] = id_p\n",
    "        df_slice[\"phase\"] = phase\n",
    "        df_slice[\"Day\"] = times\n",
    "        df_slice[\"Glucose\"] = gls   \n",
    "        df_slice[\"axis1\"] = xs\n",
    "        df_slice[\"axis2\"] = ys\n",
    "        df_slice[\"axis3\"] = zs\n",
    "        df_slice[\"steps\"] = steps\n",
    "        df_slice[\"inclineStanding\"] = inclineStanding\n",
    "        df_slice[\"inclineSitting\"] = inclineSitting\n",
    "        df_slice[\"inclineLying\"] = inclineLying\n",
    "\n",
    "        x_list_train.append(df_slice)\n",
    "\n",
    "        train_labels.append(label)"
   ]
  },
  {
   "cell_type": "code",
   "execution_count": 9,
   "id": "544030c6",
   "metadata": {},
   "outputs": [],
   "source": [
    "x_list_test = []\n",
    "test_labels = []\n",
    "\n",
    "\n",
    "window_size = 3\n",
    "step_size = 1\n",
    "\n",
    "# creating overlaping windows of size window-size 100\n",
    "for i in range(0, df_test.shape[0] - window_size, step_size):\n",
    "    id_p = df_test['id'].values[i: i + window_size]\n",
    "    phase = df_test['phase'].values[i: i + window_size]\n",
    "    time = df_test['Time'].values[i: i + window_size]\n",
    "    times = df_test['Day'].values[i: i + window_size]\n",
    "    gls = df_test['Glucose'].values[i: i + window_size]\n",
    "    steps = df_train['steps'].values[i: i + window_size]\n",
    "    inclineStanding = df_test['inclineStanding'].values[i: i + window_size]\n",
    "    inclineSitting = df_test['inclineSitting'].values[i: i + window_size]\n",
    "    inclineLying = df_test['inclineLying'].values[i: i + window_size]\n",
    "    \n",
    "    timedelta_first = time[1] - time[0]\n",
    "    timedelta_second = time[2] - time[1]\n",
    "    one_hour = 3600000000000\n",
    "    \n",
    "    if (timedelta_first < one_hour and timedelta_second < one_hour):\n",
    "    \n",
    "        xs = df_test['axis1'].values[i: i + window_size]\n",
    "        ys = df_test['axis2'].values[i: i + window_size]\n",
    "        zs = df_test['axis3'].values[i: i + window_size]\n",
    "\n",
    "        label = stats.mode(df_test['label'][i: i + window_size])[0][0]\n",
    "\n",
    "        df_slice = pd.DataFrame(time, columns=['Time'])\n",
    "        df_slice[\"id\"] = id_p\n",
    "        df_slice[\"phase\"] = phase\n",
    "        df_slice[\"Day\"] = times\n",
    "        df_slice[\"Glucose\"] = gls     \n",
    "        df_slice[\"axis1\"] = xs\n",
    "        df_slice[\"axis2\"] = ys\n",
    "        df_slice[\"axis3\"] = zs\n",
    "        df_slice[\"steps\"] = steps\n",
    "        df_slice[\"inclineStanding\"] = inclineStanding\n",
    "        df_slice[\"inclineSitting\"] = inclineSitting\n",
    "        df_slice[\"inclineLying\"] = inclineLying\n",
    "\n",
    "        x_list_test.append(df_slice)\n",
    "\n",
    "        test_labels.append(label)"
   ]
  },
  {
   "cell_type": "markdown",
   "id": "f5049650",
   "metadata": {},
   "source": [
    "## Feature computation"
   ]
  },
  {
   "cell_type": "code",
   "execution_count": 10,
   "id": "2f4d6237",
   "metadata": {},
   "outputs": [],
   "source": [
    "def feat_statistical_measures_gl_acc(x_list):\n",
    "    X_train = pd.DataFrame()\n",
    "\n",
    "    for df_temp in x_list:\n",
    "        \n",
    "        id_p = df_temp.loc[1,'id']\n",
    "        phase = df_temp.loc[1,'phase']\n",
    "        time_median = df_temp.loc[1,'Time']\n",
    "        \n",
    "        cgm_summary = list(cgm.summary(df_temp))\n",
    "        cgm_J_index = cgm.J_index(df_temp)\n",
    "\n",
    "        cgm_interdaycv = cgm.interdaycv(df_temp)\n",
    "\n",
    "        cgm_summary.append(cgm_J_index)\n",
    "        cgm_summary.append(cgm_interdaycv)\n",
    "\n",
    "        \n",
    "        \n",
    "        # mean\n",
    "        z_mean = df_temp[\"axis3\"].mean()\n",
    "\n",
    "        # max\n",
    "        y_max = df_temp[\"axis2\"].max()\n",
    "\n",
    "\n",
    "        # energy\n",
    "        z_energy = ((df_temp[\"axis3\"] **2) / 100).sum()\n",
    "        \n",
    "        general = []\n",
    "        general.extend([id_p, phase, time_median])\n",
    "\n",
    "\n",
    "        acc_summary = []\n",
    "        acc_summary.extend([z_mean, y_max ,z_energy])\n",
    "        \n",
    "\n",
    "        features = general\n",
    "        features.extend(cgm_summary)\n",
    "        features.extend(acc_summary)\n",
    "\n",
    "        X_train_temp = pd.DataFrame([features], columns = [\"id\", \"phase\",\"time\",\"mean\", \"median\",\"minimum\", \"maximum\",\"first_quartile\", \"third_quartile\",\n",
    "                                                              \"J_index\",\"cgm_interdaycv\", \n",
    "                                                              \"z_mean\", \"y_max\", \"z_energy\"])\n",
    "\n",
    "        \n",
    "        X_train = pd.concat([X_train, X_train_temp], ignore_index=True)\n",
    "        \n",
    "    return X_train"
   ]
  },
  {
   "cell_type": "code",
   "execution_count": 11,
   "id": "95859e11",
   "metadata": {},
   "outputs": [],
   "source": [
    "def feat_statistical_measures_gl_tsc(x_list):\n",
    "    X_train = pd.DataFrame()\n",
    "\n",
    "    for df_temp in x_list:\n",
    "        time_median = df_temp.loc[1,'Time']\n",
    "        cgm_summary = list(cgm.summary(df_temp))\n",
    "        cgm_LBGI = cgm.LBGI(df_temp)\n",
    "        cgm_HBGI = cgm.HBGI(df_temp)\n",
    "        cgm_ADRR = cgm.ADRR(df_temp)\n",
    "        cgm_GMI = cgm.GMI(df_temp)\n",
    "        cgm_J_index = cgm.J_index(df_temp)\n",
    "        cgm_eA1c = cgm.eA1c(df_temp)\n",
    "        cgm_interdaysd = cgm.interdaysd(df_temp)\n",
    "        cgm_interdaycv = cgm.interdaycv(df_temp)\n",
    "\n",
    "        cgm_summary.append(cgm_LBGI)\n",
    "        cgm_summary.append(cgm_HBGI)\n",
    "        cgm_summary.append(cgm_ADRR)\n",
    "        cgm_summary.append(cgm_GMI)\n",
    "        cgm_summary.append(cgm_J_index)\n",
    "        cgm_summary.append(cgm_eA1c)\n",
    "        cgm_summary.append(cgm_interdaysd)\n",
    "        cgm_summary.append(cgm_interdaycv)\n",
    "\n",
    "\n",
    "\n",
    "\n",
    "        general = []\n",
    "        general.extend([time_median])\n",
    "        general.extend(cgm_summary)\n",
    "\n",
    "        X_train_temp = pd.DataFrame([general],\n",
    "                                    columns=[\"time\",\"mean\", \"median\", \"minimum\", \"maximum\", \"first_quartile\", \"third_quartile\",\n",
    "                                             \"LBGI\", \"HBGI\", \"ADRR\", \"GMI\", \"J_index\", \"eA1c\", \"interdaysd\",\n",
    "                                             \"cgm_interdaycv\"])\n",
    "\n",
    "        X_train = pd.concat([X_train, X_train_temp], ignore_index=True)\n",
    "        \n",
    "    return X_train"
   ]
  },
  {
   "cell_type": "code",
   "execution_count": 12,
   "id": "3cda21d9",
   "metadata": {},
   "outputs": [],
   "source": [
    "\n",
    "def feat_statistical_measures_acc_tsc(x_list):\n",
    "    X_train = pd.DataFrame()\n",
    "\n",
    "    for df_temp in x_list:\n",
    "        time_median = df_temp.loc[1,'Time']\n",
    "\n",
    "        # mean\n",
    "        z_mean = df_temp[\"axis3\"].mean()\n",
    "\n",
    "        # max\n",
    "        y_max = df_temp[\"axis2\"].max()\n",
    "\n",
    "\n",
    "        # energy\n",
    "        z_energy = ((df_temp[\"axis3\"] **2) / 100).sum()\n",
    "\n",
    "        general = []\n",
    "        general.extend([time_median])\n",
    "\n",
    "        acc_summary = []\n",
    "        acc_summary.extend([z_mean, y_max ,z_energy])\n",
    "        \n",
    "        features = general\n",
    "        features.extend(acc_summary)\n",
    "\n",
    "        X_train_temp = pd.DataFrame([features],\n",
    "                                    columns=[\"time\",\"z_mean\", \"y_max\", \"z_energy\"])\n",
    "\n",
    "        X_train = pd.concat([X_train, X_train_temp], ignore_index=True)\n",
    "\n",
    "    return X_train\n"
   ]
  },
  {
   "cell_type": "code",
   "execution_count": 11,
   "id": "1e7e7df2",
   "metadata": {},
   "outputs": [],
   "source": [
    "\n",
    "X_test = feat_statistical_measures_gl_acc(x_list_test)\n",
    "\n",
    "X_train = feat_statistical_measures_gl_acc(x_list_train)"
   ]
  },
  {
   "cell_type": "code",
   "execution_count": 126,
   "id": "c721edb4",
   "metadata": {},
   "outputs": [],
   "source": [
    "X_test = feat_statistical_measures_gl_tsc(x_list_test)\n",
    "\n",
    "X_train = feat_statistical_measures_gl_tsc(x_list_train)"
   ]
  },
  {
   "cell_type": "code",
   "execution_count": 127,
   "id": "5d279127",
   "metadata": {},
   "outputs": [
    {
     "data": {
      "text/html": [
       "<div>\n",
       "<style scoped>\n",
       "    .dataframe tbody tr th:only-of-type {\n",
       "        vertical-align: middle;\n",
       "    }\n",
       "\n",
       "    .dataframe tbody tr th {\n",
       "        vertical-align: top;\n",
       "    }\n",
       "\n",
       "    .dataframe thead th {\n",
       "        text-align: right;\n",
       "    }\n",
       "</style>\n",
       "<table border=\"1\" class=\"dataframe\">\n",
       "  <thead>\n",
       "    <tr style=\"text-align: right;\">\n",
       "      <th></th>\n",
       "      <th>time</th>\n",
       "      <th>mean</th>\n",
       "      <th>median</th>\n",
       "      <th>minimum</th>\n",
       "      <th>maximum</th>\n",
       "      <th>first_quartile</th>\n",
       "      <th>third_quartile</th>\n",
       "      <th>LBGI</th>\n",
       "      <th>HBGI</th>\n",
       "      <th>ADRR</th>\n",
       "      <th>GMI</th>\n",
       "      <th>J_index</th>\n",
       "      <th>eA1c</th>\n",
       "      <th>interdaysd</th>\n",
       "      <th>cgm_interdaycv</th>\n",
       "    </tr>\n",
       "  </thead>\n",
       "  <tbody>\n",
       "    <tr>\n",
       "      <th>0</th>\n",
       "      <td>2020-07-20 23:40:00</td>\n",
       "      <td>105.333333</td>\n",
       "      <td>105.0</td>\n",
       "      <td>102.0</td>\n",
       "      <td>109.0</td>\n",
       "      <td>103.5</td>\n",
       "      <td>107.0</td>\n",
       "      <td>0.178242</td>\n",
       "      <td>0.0</td>\n",
       "      <td>0.184440</td>\n",
       "      <td>5.829573</td>\n",
       "      <td>11.707408</td>\n",
       "      <td>5.297329</td>\n",
       "      <td>2.867442</td>\n",
       "      <td>2.722255</td>\n",
       "    </tr>\n",
       "    <tr>\n",
       "      <th>1</th>\n",
       "      <td>2020-07-21 00:25:00</td>\n",
       "      <td>103.333333</td>\n",
       "      <td>102.0</td>\n",
       "      <td>99.0</td>\n",
       "      <td>109.0</td>\n",
       "      <td>100.5</td>\n",
       "      <td>105.5</td>\n",
       "      <td>0.312155</td>\n",
       "      <td>0.0</td>\n",
       "      <td>0.450728</td>\n",
       "      <td>5.781733</td>\n",
       "      <td>11.561253</td>\n",
       "      <td>5.227642</td>\n",
       "      <td>4.189935</td>\n",
       "      <td>4.054776</td>\n",
       "    </tr>\n",
       "    <tr>\n",
       "      <th>2</th>\n",
       "      <td>2020-07-21 00:40:00</td>\n",
       "      <td>96.000000</td>\n",
       "      <td>99.0</td>\n",
       "      <td>80.0</td>\n",
       "      <td>109.0</td>\n",
       "      <td>89.5</td>\n",
       "      <td>104.0</td>\n",
       "      <td>1.539269</td>\n",
       "      <td>0.0</td>\n",
       "      <td>4.015211</td>\n",
       "      <td>5.606320</td>\n",
       "      <td>11.669994</td>\n",
       "      <td>4.972125</td>\n",
       "      <td>12.027746</td>\n",
       "      <td>12.528902</td>\n",
       "    </tr>\n",
       "    <tr>\n",
       "      <th>3</th>\n",
       "      <td>2020-07-21 00:55:00</td>\n",
       "      <td>78.666667</td>\n",
       "      <td>80.0</td>\n",
       "      <td>57.0</td>\n",
       "      <td>99.0</td>\n",
       "      <td>68.5</td>\n",
       "      <td>89.5</td>\n",
       "      <td>6.813781</td>\n",
       "      <td>0.0</td>\n",
       "      <td>15.858545</td>\n",
       "      <td>5.191707</td>\n",
       "      <td>9.185113</td>\n",
       "      <td>4.368177</td>\n",
       "      <td>17.172329</td>\n",
       "      <td>21.829232</td>\n",
       "    </tr>\n",
       "    <tr>\n",
       "      <th>4</th>\n",
       "      <td>2020-07-21 01:40:00</td>\n",
       "      <td>66.333333</td>\n",
       "      <td>62.0</td>\n",
       "      <td>57.0</td>\n",
       "      <td>80.0</td>\n",
       "      <td>59.5</td>\n",
       "      <td>71.0</td>\n",
       "      <td>10.691067</td>\n",
       "      <td>0.0</td>\n",
       "      <td>15.858545</td>\n",
       "      <td>4.896693</td>\n",
       "      <td>5.808018</td>\n",
       "      <td>3.938444</td>\n",
       "      <td>9.877022</td>\n",
       "      <td>14.889982</td>\n",
       "    </tr>\n",
       "    <tr>\n",
       "      <th>...</th>\n",
       "      <td>...</td>\n",
       "      <td>...</td>\n",
       "      <td>...</td>\n",
       "      <td>...</td>\n",
       "      <td>...</td>\n",
       "      <td>...</td>\n",
       "      <td>...</td>\n",
       "      <td>...</td>\n",
       "      <td>...</td>\n",
       "      <td>...</td>\n",
       "      <td>...</td>\n",
       "      <td>...</td>\n",
       "      <td>...</td>\n",
       "      <td>...</td>\n",
       "      <td>...</td>\n",
       "    </tr>\n",
       "    <tr>\n",
       "      <th>4599</th>\n",
       "      <td>2020-12-08 23:49:00</td>\n",
       "      <td>86.333333</td>\n",
       "      <td>86.0</td>\n",
       "      <td>83.0</td>\n",
       "      <td>90.0</td>\n",
       "      <td>84.5</td>\n",
       "      <td>88.0</td>\n",
       "      <td>2.472824</td>\n",
       "      <td>0.0</td>\n",
       "      <td>2.846894</td>\n",
       "      <td>5.375093</td>\n",
       "      <td>7.956778</td>\n",
       "      <td>4.635308</td>\n",
       "      <td>2.867442</td>\n",
       "      <td>3.321361</td>\n",
       "    </tr>\n",
       "    <tr>\n",
       "      <th>4600</th>\n",
       "      <td>2020-12-09 00:04:00</td>\n",
       "      <td>86.333333</td>\n",
       "      <td>86.0</td>\n",
       "      <td>83.0</td>\n",
       "      <td>90.0</td>\n",
       "      <td>84.5</td>\n",
       "      <td>88.0</td>\n",
       "      <td>2.472824</td>\n",
       "      <td>0.0</td>\n",
       "      <td>2.846894</td>\n",
       "      <td>5.375093</td>\n",
       "      <td>7.956778</td>\n",
       "      <td>4.635308</td>\n",
       "      <td>2.867442</td>\n",
       "      <td>3.321361</td>\n",
       "    </tr>\n",
       "    <tr>\n",
       "      <th>4601</th>\n",
       "      <td>2020-12-09 00:49:00</td>\n",
       "      <td>88.333333</td>\n",
       "      <td>89.0</td>\n",
       "      <td>86.0</td>\n",
       "      <td>90.0</td>\n",
       "      <td>87.5</td>\n",
       "      <td>89.5</td>\n",
       "      <td>2.040752</td>\n",
       "      <td>0.0</td>\n",
       "      <td>2.496359</td>\n",
       "      <td>5.422933</td>\n",
       "      <td>8.105942</td>\n",
       "      <td>4.704994</td>\n",
       "      <td>1.699673</td>\n",
       "      <td>1.924158</td>\n",
       "    </tr>\n",
       "    <tr>\n",
       "      <th>4602</th>\n",
       "      <td>2020-12-09 02:19:00</td>\n",
       "      <td>89.000000</td>\n",
       "      <td>88.0</td>\n",
       "      <td>88.0</td>\n",
       "      <td>91.0</td>\n",
       "      <td>88.0</td>\n",
       "      <td>89.5</td>\n",
       "      <td>1.911803</td>\n",
       "      <td>0.0</td>\n",
       "      <td>2.088438</td>\n",
       "      <td>5.438880</td>\n",
       "      <td>8.174730</td>\n",
       "      <td>4.728223</td>\n",
       "      <td>1.414214</td>\n",
       "      <td>1.589004</td>\n",
       "    </tr>\n",
       "    <tr>\n",
       "      <th>4603</th>\n",
       "      <td>2020-12-09 02:34:00</td>\n",
       "      <td>88.333333</td>\n",
       "      <td>88.0</td>\n",
       "      <td>86.0</td>\n",
       "      <td>91.0</td>\n",
       "      <td>87.0</td>\n",
       "      <td>89.5</td>\n",
       "      <td>2.047777</td>\n",
       "      <td>0.0</td>\n",
       "      <td>2.496359</td>\n",
       "      <td>5.422933</td>\n",
       "      <td>8.170015</td>\n",
       "      <td>4.704994</td>\n",
       "      <td>2.054805</td>\n",
       "      <td>2.326194</td>\n",
       "    </tr>\n",
       "  </tbody>\n",
       "</table>\n",
       "<p>4604 rows × 15 columns</p>\n",
       "</div>"
      ],
      "text/plain": [
       "                    time        mean  median  minimum  maximum  \\\n",
       "0    2020-07-20 23:40:00  105.333333   105.0    102.0    109.0   \n",
       "1    2020-07-21 00:25:00  103.333333   102.0     99.0    109.0   \n",
       "2    2020-07-21 00:40:00   96.000000    99.0     80.0    109.0   \n",
       "3    2020-07-21 00:55:00   78.666667    80.0     57.0     99.0   \n",
       "4    2020-07-21 01:40:00   66.333333    62.0     57.0     80.0   \n",
       "...                  ...         ...     ...      ...      ...   \n",
       "4599 2020-12-08 23:49:00   86.333333    86.0     83.0     90.0   \n",
       "4600 2020-12-09 00:04:00   86.333333    86.0     83.0     90.0   \n",
       "4601 2020-12-09 00:49:00   88.333333    89.0     86.0     90.0   \n",
       "4602 2020-12-09 02:19:00   89.000000    88.0     88.0     91.0   \n",
       "4603 2020-12-09 02:34:00   88.333333    88.0     86.0     91.0   \n",
       "\n",
       "      first_quartile  third_quartile       LBGI  HBGI       ADRR       GMI  \\\n",
       "0              103.5           107.0   0.178242   0.0   0.184440  5.829573   \n",
       "1              100.5           105.5   0.312155   0.0   0.450728  5.781733   \n",
       "2               89.5           104.0   1.539269   0.0   4.015211  5.606320   \n",
       "3               68.5            89.5   6.813781   0.0  15.858545  5.191707   \n",
       "4               59.5            71.0  10.691067   0.0  15.858545  4.896693   \n",
       "...              ...             ...        ...   ...        ...       ...   \n",
       "4599            84.5            88.0   2.472824   0.0   2.846894  5.375093   \n",
       "4600            84.5            88.0   2.472824   0.0   2.846894  5.375093   \n",
       "4601            87.5            89.5   2.040752   0.0   2.496359  5.422933   \n",
       "4602            88.0            89.5   1.911803   0.0   2.088438  5.438880   \n",
       "4603            87.0            89.5   2.047777   0.0   2.496359  5.422933   \n",
       "\n",
       "        J_index      eA1c  interdaysd  cgm_interdaycv  \n",
       "0     11.707408  5.297329    2.867442        2.722255  \n",
       "1     11.561253  5.227642    4.189935        4.054776  \n",
       "2     11.669994  4.972125   12.027746       12.528902  \n",
       "3      9.185113  4.368177   17.172329       21.829232  \n",
       "4      5.808018  3.938444    9.877022       14.889982  \n",
       "...         ...       ...         ...             ...  \n",
       "4599   7.956778  4.635308    2.867442        3.321361  \n",
       "4600   7.956778  4.635308    2.867442        3.321361  \n",
       "4601   8.105942  4.704994    1.699673        1.924158  \n",
       "4602   8.174730  4.728223    1.414214        1.589004  \n",
       "4603   8.170015  4.704994    2.054805        2.326194  \n",
       "\n",
       "[4604 rows x 15 columns]"
      ]
     },
     "execution_count": 127,
     "metadata": {},
     "output_type": "execute_result"
    }
   ],
   "source": [
    "X_test"
   ]
  },
  {
   "cell_type": "code",
   "execution_count": 161,
   "id": "6082e311",
   "metadata": {},
   "outputs": [],
   "source": [
    "X_test = feat_statistical_measures_acc_tsc(x_list_test)\n",
    "\n",
    "X_train = feat_statistical_measures_acc_tsc(x_list_train)"
   ]
  },
  {
   "cell_type": "markdown",
   "id": "d2b5a293",
   "metadata": {},
   "source": [
    "## Saving and Loading the featured Data"
   ]
  },
  {
   "cell_type": "code",
   "execution_count": 12,
   "id": "3fd0b0ea",
   "metadata": {},
   "outputs": [],
   "source": [
    "y_train = np.array(train_labels)\n",
    "y_test = np.array(test_labels)"
   ]
  },
  {
   "cell_type": "code",
   "execution_count": 13,
   "id": "583af845",
   "metadata": {},
   "outputs": [],
   "source": [
    "X_test.to_csv(\"TSC_data/eval_Xtest.csv\", sep='\\t')\n",
    "X_train.to_csv(\"TSC_data/eval_Xrain.csv\", sep='\\t')\n"
   ]
  },
  {
   "cell_type": "code",
   "execution_count": 14,
   "id": "2292f009",
   "metadata": {},
   "outputs": [],
   "source": [
    "y_train_float = y_train\n",
    "y_test_float = y_test"
   ]
  },
  {
   "cell_type": "code",
   "execution_count": 15,
   "id": "692dab05",
   "metadata": {},
   "outputs": [],
   "source": [
    "np.save('TSC_data/eval_y_train.npy', y_train_float)\n",
    "np.save('TSC_data/eval_y_test.npy', y_test_float)"
   ]
  },
  {
   "cell_type": "code",
   "execution_count": 2,
   "id": "1108ebe9",
   "metadata": {},
   "outputs": [],
   "source": [
    "X_test = pd.read_csv('eval_Xtest.csv', sep='\\t')\n",
    "X_train = pd.read_csv('eval_Xrain.csv', sep='\\t')\n",
    "\n",
    "X_test = X_test.drop([\"Unnamed: 0\"], axis=1)\n",
    "X_train = X_train.drop([\"Unnamed: 0\"], axis=1)"
   ]
  },
  {
   "cell_type": "code",
   "execution_count": 3,
   "id": "63c2f3da",
   "metadata": {},
   "outputs": [],
   "source": [
    "y_train_float = np.load('TSC_data\\\\eval_y_train.npy')\n",
    "y_test_float = np.load('TSC_data\\\\eval_y_test.npy')"
   ]
  },
  {
   "cell_type": "code",
   "execution_count": 16,
   "id": "5a7676e7",
   "metadata": {},
   "outputs": [
    {
     "data": {
      "text/plain": [
       "[0, 1]"
      ]
     },
     "execution_count": 16,
     "metadata": {},
     "output_type": "execute_result"
    }
   ],
   "source": [
    "mylist = list(set(y_train_float))\n",
    "mylist"
   ]
  },
  {
   "cell_type": "markdown",
   "id": "0a559255",
   "metadata": {},
   "source": [
    "## Feature Selection"
   ]
  },
  {
   "cell_type": "code",
   "execution_count": 5,
   "id": "257dc0f4",
   "metadata": {},
   "outputs": [],
   "source": [
    "X_train_rfe = X_train.drop([\"time\"], axis=1)\n",
    "X_test_rfe = X_test.drop([\"time\"], axis=1)"
   ]
  },
  {
   "cell_type": "code",
   "execution_count": 151,
   "id": "1642a12e",
   "metadata": {},
   "outputs": [
    {
     "name": "stdout",
     "output_type": "stream",
     "text": [
      "[5.16320996e-02 4.18759784e-03 3.66450911e-03 7.28349859e-03\n",
      " 7.08943778e-03 6.59146557e-02 5.84648914e-03 6.24351537e-03\n",
      " 7.62179197e-03 3.04654910e-03 1.70696367e-02 3.80105328e-03\n",
      " 6.65704010e-02 3.87340560e-03 2.25717443e-02 1.89382390e-02\n",
      " 9.17063220e-04 1.05469729e-03 9.39917492e-04 4.81597060e-03\n",
      " 4.88398482e-03 1.13064606e-02 1.56488576e-02 8.84865293e-02\n",
      " 6.75930342e-03 6.95217821e-03 6.43387174e-03 8.31757565e-03\n",
      " 8.62183644e-03 8.28476736e-03 1.14586273e-02 1.56753991e-02\n",
      " 1.65392713e-02 1.05640273e-02 1.35749198e-02 1.44488118e-02\n",
      " 5.78439171e-03 6.45022769e-03 6.18200490e-03 1.39085170e-02\n",
      " 2.31742488e-02 1.62075026e-02 1.47804813e-02 1.84207259e-02\n",
      " 1.58188132e-02 5.98365373e-03 6.43872478e-03 5.98863220e-03\n",
      " 0.00000000e+00 0.00000000e+00 0.00000000e+00 9.42490916e-04\n",
      " 9.98617755e-04 1.23300638e-03 5.16422687e-04 4.15210789e-04\n",
      " 4.85042924e-04 9.66635012e-04 9.34103174e-04 9.45332627e-04\n",
      " 1.45105413e-02 1.49928122e-02 1.54667263e-02 2.26838701e-05\n",
      " 1.07029519e-05 6.18061665e-06 9.91531069e-03 1.21258665e-02\n",
      " 1.56919927e-01 8.61314256e-03 7.15234123e-03 4.06256638e-02\n",
      " 4.25198746e-03 9.19879675e-03 8.57383645e-03]\n"
     ]
    }
   ],
   "source": [
    "from sklearn.ensemble import RandomForestRegressor\n",
    "from sklearn.feature_selection import RFE\n",
    "\n",
    "# fit random forest model\n",
    "model = RandomForestRegressor(n_estimators=500, random_state=1)\n",
    "model.fit(X_train_rfe, y_train_float)\n",
    "# show importance scores\n",
    "print(model.feature_importances_)"
   ]
  },
  {
   "cell_type": "code",
   "execution_count": null,
   "id": "10e03938",
   "metadata": {},
   "outputs": [],
   "source": [
    "from sklearn.feature_selection import RFE\n",
    "\n",
    "rfe = RFE(RandomForestRegressor(n_estimators=500, random_state=1), n_features_to_select=4)\n",
    "fit = rfe.fit(X_train_rfe, y_train_float)\n",
    "# report selected features\n",
    "print('Selected Features:')\n"
   ]
  },
  {
   "cell_type": "code",
   "execution_count": 158,
   "id": "9744f20a",
   "metadata": {},
   "outputs": [
    {
     "data": {
      "text/plain": [
       "array([ 6, 45, 53, 35, 37,  4, 43, 40, 24, 54, 13, 50,  1, 47, 15,  3, 62,\n",
       "       55, 57, 51, 30, 22, 11,  1, 41, 39, 42, 18, 19, 27, 29, 20, 12,  2,\n",
       "        1, 14, 49, 28, 48,  8,  5, 16, 17, 10,  9, 34, 46, 33, 72, 71, 70,\n",
       "       61, 60, 56, 64, 65, 66, 58, 63, 59, 25, 23, 21, 67, 68, 69, 31, 26,\n",
       "        1, 32, 44,  7, 52, 36, 38])"
      ]
     },
     "execution_count": 158,
     "metadata": {},
     "output_type": "execute_result"
    }
   ],
   "source": [
    "fit.ranking_"
   ]
  },
  {
   "cell_type": "code",
   "execution_count": 159,
   "id": "47a7f138",
   "metadata": {},
   "outputs": [
    {
     "data": {
      "text/plain": [
       "array([False, False, False, False, False, False, False, False, False,\n",
       "       False, False, False,  True, False, False, False, False, False,\n",
       "       False, False, False, False, False,  True, False, False, False,\n",
       "       False, False, False, False, False, False, False,  True, False,\n",
       "       False, False, False, False, False, False, False, False, False,\n",
       "       False, False, False, False, False, False, False, False, False,\n",
       "       False, False, False, False, False, False, False, False, False,\n",
       "       False, False, False, False, False,  True, False, False, False,\n",
       "       False, False, False])"
      ]
     },
     "execution_count": 159,
     "metadata": {},
     "output_type": "execute_result"
    }
   ],
   "source": [
    "fit.support_"
   ]
  },
  {
   "cell_type": "code",
   "execution_count": 161,
   "id": "f34ed54e",
   "metadata": {},
   "outputs": [
    {
     "name": "stdout",
     "output_type": "stream",
     "text": [
      "J_index\n",
      "z_mean\n",
      "y_max\n",
      "z_energy\n"
     ]
    }
   ],
   "source": [
    "for i in range(len(fit.support_)):\n",
    "    if fit.support_[i]:\n",
    "        print(names[i])"
   ]
  },
  {
   "cell_type": "code",
   "execution_count": 7,
   "id": "1709e868",
   "metadata": {},
   "outputs": [
    {
     "data": {
      "text/plain": [
       "array(['id', 'phase', 'mean', 'median', 'minimum', 'maximum',\n",
       "       'first_quartile', 'third_quartile', 'LBGI', 'HBGI', 'ADRR', 'GMI',\n",
       "       'J_index', 'eA1c', 'interdaysd', 'cgm_interdaycv', 'cgm_TOR',\n",
       "       'cgm_TIR', 'cgm_POR', 'cgm_MAGN', 'cgm_MAGE', 'x_mean', 'y_mean',\n",
       "       'z_mean', 'x_std', 'y_std', 'z_std', 'x_aad', 'y_aad', 'z_aad',\n",
       "       'x_min', 'y_min', 'z_min', 'x_max', 'y_max', 'z_max',\n",
       "       'x_maxmin_diff', 'y_maxmin_diff', 'z_maxmin_diff', 'x_median',\n",
       "       'y_median', 'z_median', 'x_mad', 'y_mad', 'z_mad', 'x_IQR',\n",
       "       'y_IQR', 'z_IQR', 'x_neg_count', 'y_neg_count', 'z_neg_count',\n",
       "       'x_pos_count', 'y_pos_count', 'z_pos_count', 'x_above_mean',\n",
       "       'y_above_mean', 'z_above_mean', 'x_peak_count', 'y_peak_count',\n",
       "       'z_peak_count', 'x_skewness', 'y_skewness', 'z_skewness',\n",
       "       'x_kurtosis', 'y_kurtosis', 'z_kurtosis', 'x_energy', 'y_energy',\n",
       "       'z_energy', 'avg_result_accl', 'sma', 'steps', 'inclineStanding',\n",
       "       'inclineSitting'], dtype=object)"
      ]
     },
     "execution_count": 7,
     "metadata": {},
     "output_type": "execute_result"
    }
   ],
   "source": [
    "names"
   ]
  },
  {
   "cell_type": "code",
   "execution_count": 6,
   "id": "89c2999c",
   "metadata": {},
   "outputs": [],
   "source": [
    "names = X_train_rfe.columns.values[0:-1]\n"
   ]
  },
  {
   "cell_type": "code",
   "execution_count": null,
   "id": "29dd59f5",
   "metadata": {},
   "outputs": [],
   "source": [
    "from sklearn.datasets import make_friedman1\n",
    "from sklearn.feature_selection import RFE\n",
    "from sklearn.svm import SVR\n",
    "X, y = make_friedman1(n_samples=50, n_features=5, random_state=0)\n",
    "estimator = SVR(kernel=\"linear\")\n",
    "selector = RFE(estimator, n_features_to_select=5, step=1)\n",
    "selector = selector.fit(X_train_rfe, y_train_float)\n",
    "\n"
   ]
  },
  {
   "cell_type": "code",
   "execution_count": null,
   "id": "328b2691",
   "metadata": {},
   "outputs": [],
   "source": [
    "selector.ranking_"
   ]
  },
  {
   "cell_type": "code",
   "execution_count": 43,
   "id": "c34e4bf1",
   "metadata": {},
   "outputs": [],
   "source": [
    "n_features_to_select = 10\n",
    "rfe = RFE(regressor, n_features_to_select=n_features_to_select)\n",
    "rfe.fit(X_train_rfe, y_train_float)\n",
    "predictions_rfe = rfe.predict(X_test_rfe)"
   ]
  },
  {
   "cell_type": "code",
   "execution_count": 47,
   "id": "3397d93f",
   "metadata": {},
   "outputs": [
    {
     "name": "stdout",
     "output_type": "stream",
     "text": [
      "Accuracy: 0.720225914709012\n"
     ]
    }
   ],
   "source": [
    "from sklearn import metrics\n",
    "print(\"Accuracy:\",metrics.accuracy_score(y_test, predictions_rfe))\n"
   ]
  },
  {
   "cell_type": "code",
   "execution_count": null,
   "id": "a605267b",
   "metadata": {},
   "outputs": [],
   "source": [
    "from operator import itemgetter\n",
    "features = X_train.columns.to_list()\n",
    "for x, y in (sorted(zip(selector.ranking_ , features), key=itemgetter(0))):\n",
    "    print(x, y)"
   ]
  },
  {
   "cell_type": "code",
   "execution_count": null,
   "id": "99c8f1b2",
   "metadata": {},
   "outputs": [],
   "source": []
  },
  {
   "cell_type": "code",
   "execution_count": null,
   "id": "444bddd2",
   "metadata": {},
   "outputs": [],
   "source": []
  },
  {
   "cell_type": "markdown",
   "id": "0775fefa",
   "metadata": {},
   "source": [
    "## Building the time series"
   ]
  },
  {
   "cell_type": "code",
   "execution_count": 26,
   "id": "6d4ca86e",
   "metadata": {},
   "outputs": [
    {
     "data": {
      "text/plain": [
       "[0, 1]"
      ]
     },
     "execution_count": 26,
     "metadata": {},
     "output_type": "execute_result"
    }
   ],
   "source": [
    "mylist = list(set(y_test_float))\n",
    "\n",
    "mylist"
   ]
  },
  {
   "cell_type": "markdown",
   "id": "faf543d9",
   "metadata": {},
   "source": [
    "### Test-dataset"
   ]
  },
  {
   "cell_type": "markdown",
   "id": "312a4917",
   "metadata": {},
   "source": [
    "### acc and gl"
   ]
  },
  {
   "cell_type": "code",
   "execution_count": 4,
   "id": "57d6b5bb",
   "metadata": {},
   "outputs": [],
   "source": [
    "from datetime import datetime\n",
    "\n",
    "\n",
    "X_test.time = pd.to_datetime(X_test.time)\n",
    "\n",
    "x_list_test_tsc_1st = []\n",
    "test_labels_tsc = []\n",
    "x_list_test_tsc_2nd = []\n",
    "counter=0\n",
    "\n",
    "\n",
    "last_time_before = X_test['time'].values[0]\n",
    "\n",
    "for i in range(0, X_test.shape[0], 1):\n",
    "    time = X_test['time'].values[i]\n",
    "    cgm_interdaycv =  X_test['cgm_interdaycv'].values[i]\n",
    "    J_index = X_test['J_index'].values[i]\n",
    "    maximum = X_test['maximum'].values[i]\n",
    "    z_mean = X_test['z_mean'].values[i]\n",
    "    y_max = X_test['y_max'].values[i]\n",
    "    z_energy = X_test['z_energy'].values[i]\n",
    "    \n",
    "    timedelta_first =  time - last_time_before\n",
    "\n",
    "    one_hour = 3600000000000\n",
    "    \n",
    "    if timedelta_first < one_hour and counter < 5:\n",
    "        x_list_test_tsc_3rd = []\n",
    "        x_list_test_tsc_3rd.append(cgm_interdaycv)\n",
    "        x_list_test_tsc_3rd.append(J_index)\n",
    "        x_list_test_tsc_3rd.append(maximum)\n",
    "        x_list_test_tsc_3rd.append(z_mean)\n",
    "        x_list_test_tsc_3rd.append(y_max)\n",
    "        x_list_test_tsc_3rd.append(z_energy)\n",
    "        x_list_test_tsc_2nd.append(x_list_test_tsc_3rd)\n",
    "    \n",
    "    else:\n",
    "        \n",
    "        if counter == 5:\n",
    "            x_list_test_tsc_1st.append(x_list_test_tsc_2nd)\n",
    "            test_labels_tsc.append(y_test_float[i])\n",
    "            \n",
    "        counter = 0\n",
    "        x_list_test_tsc_2nd = [] \n",
    "        x_list_test_tsc_3rd = []\n",
    "        x_list_test_tsc_3rd.append(cgm_interdaycv)\n",
    "        x_list_test_tsc_3rd.append(J_index)\n",
    "        x_list_test_tsc_3rd.append(maximum)\n",
    "        x_list_test_tsc_3rd.append(z_mean)\n",
    "        x_list_test_tsc_3rd.append(y_max)\n",
    "        x_list_test_tsc_3rd.append(z_energy)\n",
    "        x_list_test_tsc_2nd.append(x_list_test_tsc_3rd)\n",
    "        \n",
    "    counter += 1\n",
    "    \n",
    "    last_time_before = time\n"
   ]
  },
  {
   "cell_type": "markdown",
   "id": "7fcd6420",
   "metadata": {},
   "source": [
    "### gl"
   ]
  },
  {
   "cell_type": "code",
   "execution_count": 42,
   "id": "597a620e",
   "metadata": {},
   "outputs": [],
   "source": [
    "from datetime import datetime\n",
    "\n",
    "\n",
    "X_test.time = pd.to_datetime(X_test.time)\n",
    "\n",
    "x_list_test_tsc_1st = []\n",
    "test_labels_tsc = []\n",
    "x_list_test_tsc_2nd = []\n",
    "counter=0\n",
    "\n",
    "\n",
    "last_time_before = X_test['time'].values[0]\n",
    "\n",
    "for i in range(0, X_test.shape[0], 1):\n",
    "    time = X_test['time'].values[i]\n",
    "    cgm_interdaycv =  X_test['cgm_interdaycv'].values[i]\n",
    "    J_index = X_test['J_index'].values[i]\n",
    "    maximum = X_test['maximum'].values[i]\n",
    "    \n",
    "    timedelta_first =  time - last_time_before\n",
    "\n",
    "    one_hour = 3600000000000\n",
    "    \n",
    "    if timedelta_first < one_hour and counter < 5:\n",
    "        x_list_test_tsc_3rd = []\n",
    "        x_list_test_tsc_3rd.append(cgm_interdaycv)\n",
    "        x_list_test_tsc_3rd.append(J_index)\n",
    "        x_list_test_tsc_3rd.append(maximum)\n",
    "\n",
    "        x_list_test_tsc_2nd.append(x_list_test_tsc_3rd)\n",
    "    \n",
    "    else:\n",
    "        \n",
    "        if counter == 5:\n",
    "            x_list_test_tsc_1st.append(x_list_test_tsc_2nd)\n",
    "            test_labels_tsc.append(y_test_float[i])\n",
    "            \n",
    "        counter = 0\n",
    "        x_list_test_tsc_2nd = [] \n",
    "        x_list_test_tsc_3rd = []\n",
    "        x_list_test_tsc_3rd.append(cgm_interdaycv)\n",
    "        x_list_test_tsc_3rd.append(J_index)\n",
    "        x_list_test_tsc_3rd.append(maximum)\n",
    "        x_list_test_tsc_2nd.append(x_list_test_tsc_3rd)\n",
    "        \n",
    "    counter += 1\n",
    "    \n",
    "    last_time_before = time"
   ]
  },
  {
   "cell_type": "markdown",
   "id": "9b5ce506",
   "metadata": {},
   "source": [
    "### acc"
   ]
  },
  {
   "cell_type": "code",
   "execution_count": 166,
   "id": "5202a233",
   "metadata": {},
   "outputs": [],
   "source": [
    "from datetime import datetime\n",
    "\n",
    "\n",
    "X_test.time = pd.to_datetime(X_test.time)\n",
    "\n",
    "x_list_test_tsc_1st = []\n",
    "test_labels_tsc = []\n",
    "x_list_test_tsc_2nd = []\n",
    "counter=0\n",
    "\n",
    "\n",
    "last_time_before = X_test['time'].values[0]\n",
    "\n",
    "for i in range(0, X_test.shape[0], 1):\n",
    "    time = X_test['time'].values[i]\n",
    "    z_mean = X_test['z_mean'].values[i]\n",
    "    y_max = X_test['y_max'].values[i]\n",
    "    z_energy = X_test['z_energy'].values[i]\n",
    "    \n",
    "    timedelta_first =  time - last_time_before\n",
    "\n",
    "    one_hour = 3600000000000\n",
    "    \n",
    "    if timedelta_first < one_hour and counter < 5:\n",
    "        x_list_test_tsc_3rd = []\n",
    "\n",
    "        x_list_test_tsc_3rd.append(z_mean)\n",
    "        x_list_test_tsc_3rd.append(y_max)\n",
    "        x_list_test_tsc_3rd.append(z_energy)\n",
    "        x_list_test_tsc_2nd.append(x_list_test_tsc_3rd)\n",
    "    \n",
    "    else:\n",
    "        \n",
    "        if counter == 5:\n",
    "            x_list_test_tsc_1st.append(x_list_test_tsc_2nd)\n",
    "            test_labels_tsc.append(y_test_float[i])\n",
    "            \n",
    "        counter = 0\n",
    "        x_list_test_tsc_2nd = [] \n",
    "        x_list_test_tsc_3rd = []\n",
    "\n",
    "        x_list_test_tsc_3rd.append(z_mean)\n",
    "        x_list_test_tsc_3rd.append(y_max)\n",
    "        x_list_test_tsc_3rd.append(z_energy)\n",
    "        x_list_test_tsc_2nd.append(x_list_test_tsc_3rd)\n",
    "        \n",
    "    counter += 1\n",
    "    \n",
    "    last_time_before = time"
   ]
  },
  {
   "cell_type": "markdown",
   "id": "4ed9ac1b",
   "metadata": {},
   "source": [
    "### Train-Dataset"
   ]
  },
  {
   "cell_type": "code",
   "execution_count": 5,
   "id": "4c70e5f8",
   "metadata": {},
   "outputs": [],
   "source": [
    "from datetime import datetime\n",
    "\n",
    "\n",
    "X_train.time = pd.to_datetime(X_train.time)\n",
    "\n",
    "\n",
    "x_list_train_tsc_1st = []\n",
    "train_labels_tsc = []\n",
    "x_list_train_tsc_2nd = []\n",
    "counter = 0\n",
    "\n",
    "\n",
    "last_time_before = X_train['time'].values[0]\n",
    "\n",
    "\n",
    "\n",
    "for i in range(0, X_train.shape[0], 1):\n",
    "    time = X_train['time'].values[i]\n",
    "    cgm_interdaycv =  X_train['cgm_interdaycv'].values[i]\n",
    "#     steps =  X_train['steps'].values[i]\n",
    "#     interdaysd =  X_train['interdaysd'].values[i]\n",
    "#     cgm_MAGE =  X_train['cgm_MAGE'].values[i]\n",
    "    J_index = X_train['J_index'].values[i]\n",
    "    maximum = X_train['maximum'].values[i]\n",
    "    z_mean = X_train['z_mean'].values[i]\n",
    "    y_max = X_train['y_max'].values[i]\n",
    "    z_energy = X_train['z_energy'].values[i]\n",
    "    \n",
    "    timedelta_first =  time - last_time_before\n",
    "\n",
    "    one_hour = 3600000000000\n",
    "    \n",
    "    if timedelta_first < one_hour and counter < 5:\n",
    "        \n",
    "        x_list_train_tsc_3rd = []\n",
    "        x_list_train_tsc_3rd.append(cgm_interdaycv)\n",
    "        x_list_train_tsc_3rd.append(J_index)\n",
    "        x_list_train_tsc_3rd.append(maximum)\n",
    "        x_list_train_tsc_3rd.append(z_mean)\n",
    "        x_list_train_tsc_3rd.append(y_max)\n",
    "        x_list_train_tsc_3rd.append(z_energy)\n",
    "        x_list_train_tsc_2nd.append(x_list_train_tsc_3rd)\n",
    "    \n",
    "    else:\n",
    "        if counter == 5:\n",
    "            x_list_train_tsc_1st.append(x_list_train_tsc_2nd)\n",
    "            train_labels_tsc.append(y_train_float[i])\n",
    "            \n",
    "        counter = 0\n",
    "        x_list_train_tsc_2nd = [] \n",
    "        x_list_train_tsc_3rd = []\n",
    "        x_list_train_tsc_3rd.append(cgm_interdaycv)\n",
    "        x_list_train_tsc_3rd.append(J_index)\n",
    "        x_list_train_tsc_3rd.append(maximum)\n",
    "        x_list_train_tsc_3rd.append(z_mean)\n",
    "        x_list_train_tsc_3rd.append(y_max)\n",
    "        x_list_train_tsc_3rd.append(z_energy)\n",
    "        x_list_train_tsc_2nd.append(x_list_train_tsc_3rd)\n",
    "    counter += 1\n",
    "    last_time_before = time"
   ]
  },
  {
   "cell_type": "markdown",
   "id": "20d20645",
   "metadata": {},
   "source": [
    "### gl"
   ]
  },
  {
   "cell_type": "code",
   "execution_count": 43,
   "id": "4fea75d9",
   "metadata": {},
   "outputs": [],
   "source": [
    "from datetime import datetime\n",
    "\n",
    "\n",
    "X_train.time = pd.to_datetime(X_train.time)\n",
    "\n",
    "\n",
    "x_list_train_tsc_1st = []\n",
    "train_labels_tsc = []\n",
    "x_list_train_tsc_2nd = []\n",
    "counter = 0\n",
    "\n",
    "\n",
    "last_time_before = X_train['time'].values[0]\n",
    "\n",
    "\n",
    "\n",
    "for i in range(0, X_train.shape[0], 1):\n",
    "    time = X_train['time'].values[i]\n",
    "    cgm_interdaycv =  X_train['cgm_interdaycv'].values[i]\n",
    "    J_index = X_train['J_index'].values[i]\n",
    "    maximum = X_train['maximum'].values[i]\n",
    "    \n",
    "    timedelta_first =  time - last_time_before\n",
    "\n",
    "    one_hour = 3600000000000\n",
    "    \n",
    "    if timedelta_first < one_hour and counter < 5:\n",
    "        \n",
    "        x_list_train_tsc_3rd = []\n",
    "        x_list_train_tsc_3rd.append(cgm_interdaycv)\n",
    "        x_list_train_tsc_3rd.append(J_index)\n",
    "        x_list_train_tsc_3rd.append(maximum)\n",
    "\n",
    "        x_list_train_tsc_2nd.append(x_list_train_tsc_3rd)\n",
    "    \n",
    "    else:\n",
    "        if counter == 5:\n",
    "            x_list_train_tsc_1st.append(x_list_train_tsc_2nd)\n",
    "            train_labels_tsc.append(y_train_float[i])\n",
    "            \n",
    "        counter = 0\n",
    "        x_list_train_tsc_2nd = [] \n",
    "        x_list_train_tsc_3rd = []\n",
    "        x_list_train_tsc_3rd.append(cgm_interdaycv)\n",
    "        x_list_train_tsc_3rd.append(J_index)\n",
    "        x_list_train_tsc_3rd.append(maximum)\n",
    "\n",
    "        x_list_train_tsc_2nd.append(x_list_train_tsc_3rd)\n",
    "    counter += 1\n",
    "    last_time_before = time"
   ]
  },
  {
   "cell_type": "markdown",
   "id": "d260c23a",
   "metadata": {},
   "source": [
    "### acc"
   ]
  },
  {
   "cell_type": "code",
   "execution_count": 167,
   "id": "a4dc12e9",
   "metadata": {},
   "outputs": [],
   "source": [
    "from datetime import datetime\n",
    "\n",
    "\n",
    "X_train.time = pd.to_datetime(X_train.time)\n",
    "\n",
    "\n",
    "x_list_train_tsc_1st = []\n",
    "train_labels_tsc = []\n",
    "x_list_train_tsc_2nd = []\n",
    "counter = 0\n",
    "\n",
    "\n",
    "last_time_before = X_train['time'].values[0]\n",
    "\n",
    "\n",
    "\n",
    "for i in range(0, X_train.shape[0], 1):\n",
    "    time = X_train['time'].values[i]\n",
    "    z_mean = X_train['z_mean'].values[i]\n",
    "    y_max = X_train['y_max'].values[i]\n",
    "    z_energy = X_train['z_energy'].values[i]\n",
    "    \n",
    "    timedelta_first =  time - last_time_before\n",
    "\n",
    "    one_hour = 3600000000000\n",
    "    \n",
    "    if timedelta_first < one_hour and counter < 5:\n",
    "        \n",
    "        x_list_train_tsc_3rd = []\n",
    "        x_list_train_tsc_3rd.append(z_mean)\n",
    "        x_list_train_tsc_3rd.append(y_max)\n",
    "        x_list_train_tsc_3rd.append(z_energy)\n",
    "        x_list_train_tsc_2nd.append(x_list_train_tsc_3rd)\n",
    "    \n",
    "    else:\n",
    "        if counter == 5:\n",
    "            x_list_train_tsc_1st.append(x_list_train_tsc_2nd)\n",
    "            train_labels_tsc.append(y_train_float[i])\n",
    "            \n",
    "        counter = 0\n",
    "        x_list_train_tsc_2nd = [] \n",
    "        x_list_train_tsc_3rd = []\n",
    "        x_list_train_tsc_3rd.append(z_mean)\n",
    "        x_list_train_tsc_3rd.append(y_max)\n",
    "        x_list_train_tsc_3rd.append(z_energy)\n",
    "        x_list_train_tsc_2nd.append(x_list_train_tsc_3rd)\n",
    "    counter += 1\n",
    "    last_time_before = time"
   ]
  },
  {
   "cell_type": "markdown",
   "id": "63b829f8",
   "metadata": {},
   "source": [
    "# TS Learn Classification"
   ]
  },
  {
   "cell_type": "markdown",
   "id": "9a5ae5d5",
   "metadata": {},
   "source": [
    "### To Time Series Dataset"
   ]
  },
  {
   "cell_type": "code",
   "execution_count": 6,
   "id": "6c065a96",
   "metadata": {},
   "outputs": [],
   "source": [
    "from tslearn.utils import to_time_series_dataset\n",
    "from tslearn.neighbors import KNeighborsTimeSeriesClassifier\n",
    "from tslearn import generators\n"
   ]
  },
  {
   "cell_type": "code",
   "execution_count": 7,
   "id": "41418cd8",
   "metadata": {},
   "outputs": [],
   "source": [
    "X_train =to_time_series_dataset(x_list_train_tsc_1st)\n",
    "X_test =to_time_series_dataset(x_list_test_tsc_1st)"
   ]
  },
  {
   "cell_type": "code",
   "execution_count": 8,
   "id": "6483c4a6",
   "metadata": {},
   "outputs": [],
   "source": [
    "y_train =  np.array(train_labels_tsc)\n",
    "y_test =  np.array(test_labels_tsc)"
   ]
  },
  {
   "cell_type": "markdown",
   "id": "b5496386",
   "metadata": {},
   "source": [
    "### Checking for Balance"
   ]
  },
  {
   "cell_type": "code",
   "execution_count": 9,
   "id": "9607085f",
   "metadata": {},
   "outputs": [
    {
     "name": "stdout",
     "output_type": "stream",
     "text": [
      "dict_keys([1, 0])\n",
      "dict_values([1097, 237])\n",
      "dict_keys([0, 1])\n",
      "dict_values([1999, 6891])\n"
     ]
    }
   ],
   "source": [
    "from collections import Counter\n",
    "print(Counter(y_test).keys()) \n",
    "print(Counter(y_test).values())\n",
    "print(Counter(y_train).keys())\n",
    "print(Counter(y_train).values())"
   ]
  },
  {
   "cell_type": "code",
   "execution_count": 10,
   "id": "31271be7",
   "metadata": {},
   "outputs": [],
   "source": [
    "data2d_test = X_test.reshape(X_test.shape[0], -1)\n",
    "data2d_train = X_train.reshape(X_train.shape[0], -1)"
   ]
  },
  {
   "cell_type": "code",
   "execution_count": 11,
   "id": "399194ca",
   "metadata": {},
   "outputs": [
    {
     "name": "stdout",
     "output_type": "stream",
     "text": [
      "(1334, 5, 6)\n",
      "(8890, 5, 6)\n",
      "(1334, 30)\n",
      "(8890, 30)\n"
     ]
    }
   ],
   "source": [
    "print(X_test.shape)\n",
    "print(X_train.shape)\n",
    "print(data2d_test.shape)\n",
    "print(data2d_train.shape)"
   ]
  },
  {
   "cell_type": "markdown",
   "id": "d291f890",
   "metadata": {},
   "source": [
    "### Undersampling with Random Selection"
   ]
  },
  {
   "cell_type": "code",
   "execution_count": 12,
   "id": "582ee9bd",
   "metadata": {},
   "outputs": [],
   "source": [
    "from imblearn.under_sampling import RandomUnderSampler\n",
    "import collections\n",
    "rus = RandomUnderSampler(random_state=0, replacement=True)\n",
    "data2d_test_resampled , y_test_resampled = rus.fit_resample(data2d_test, y_test)\n",
    "data2d_train_resampled , y_train_resampled = rus.fit_resample(data2d_train, y_train)"
   ]
  },
  {
   "cell_type": "code",
   "execution_count": 13,
   "id": "a3c93898",
   "metadata": {},
   "outputs": [
    {
     "name": "stdout",
     "output_type": "stream",
     "text": [
      "(474, 30)\n",
      "(3998, 30)\n"
     ]
    }
   ],
   "source": [
    "print(data2d_test_resampled.shape)\n",
    "print(data2d_train_resampled.shape)"
   ]
  },
  {
   "cell_type": "code",
   "execution_count": 14,
   "id": "e5404f12",
   "metadata": {},
   "outputs": [
    {
     "name": "stdout",
     "output_type": "stream",
     "text": [
      "dict_keys([0, 1])\n",
      "dict_values([237, 237])\n",
      "dict_keys([0, 1])\n",
      "dict_values([1999, 1999])\n"
     ]
    }
   ],
   "source": [
    "from collections import Counter\n",
    "print(Counter(y_test_resampled).keys())\n",
    "print(Counter(y_test_resampled).values()) \n",
    "print(Counter(y_train_resampled).keys()) \n",
    "print(Counter(y_train_resampled).values())"
   ]
  },
  {
   "cell_type": "code",
   "execution_count": 15,
   "id": "326cf507",
   "metadata": {},
   "outputs": [
    {
     "data": {
      "text/plain": [
       "474"
      ]
     },
     "execution_count": 15,
     "metadata": {},
     "output_type": "execute_result"
    }
   ],
   "source": [
    "data2d_test_resampled.shape[0]"
   ]
  },
  {
   "cell_type": "code",
   "execution_count": 16,
   "id": "cfd93d2f",
   "metadata": {},
   "outputs": [],
   "source": [
    "data3d_X_test = data2d_test_resampled.reshape(-1, X_test.shape[1], X_test.shape[2])\n",
    "data3d_X_train = data2d_train_resampled.reshape(-1, X_train.shape[1], X_train.shape[2])"
   ]
  },
  {
   "cell_type": "code",
   "execution_count": 17,
   "id": "786122bf",
   "metadata": {},
   "outputs": [
    {
     "name": "stdout",
     "output_type": "stream",
     "text": [
      "(474, 5, 6)\n",
      "(3998, 5, 6)\n"
     ]
    }
   ],
   "source": [
    "print(data3d_X_test.shape)\n",
    "print(data3d_X_train.shape)"
   ]
  },
  {
   "cell_type": "code",
   "execution_count": 18,
   "id": "ddc7295e",
   "metadata": {},
   "outputs": [],
   "source": [
    "def GridSearch_table_plot(grid_clf, param_name,\n",
    "                          num_results=15,\n",
    "                          negative=True,\n",
    "                          graph=True,\n",
    "                          display_all_params=True):\n",
    "\n",
    "    '''Display grid search results\n",
    "\n",
    "    Arguments\n",
    "    ---------\n",
    "\n",
    "    grid_clf           the estimator resulting from a grid search\n",
    "                       for example: grid_clf = GridSearchCV( ...\n",
    "\n",
    "    param_name         a string with the name of the parameter being tested\n",
    "\n",
    "    num_results        an integer indicating the number of results to display\n",
    "                       Default: 15\n",
    "\n",
    "    negative           boolean: should the sign of the score be reversed?\n",
    "                       scoring = 'neg_log_loss', for instance\n",
    "                       Default: True\n",
    "\n",
    "    graph              boolean: should a graph be produced?\n",
    "                       non-numeric parameters (True/False, None) don't graph well\n",
    "                       Default: True\n",
    "\n",
    "    display_all_params boolean: should we print out all of the parameters, not just the ones searched for?\n",
    "                       Default: True\n",
    "\n",
    "    Usage\n",
    "    -----\n",
    "\n",
    "    GridSearch_table_plot(grid_clf, \"min_samples_leaf\")\n",
    "\n",
    "                          '''\n",
    "    from matplotlib      import pyplot as plt\n",
    "    from IPython.display import display\n",
    "    import pandas as pd\n",
    "\n",
    "    clf = grid_clf.best_estimator_\n",
    "    clf_params = grid_clf.best_params_\n",
    "    if negative:\n",
    "        clf_score = -grid_clf.best_score_\n",
    "    else:\n",
    "        clf_score = grid_clf.best_score_\n",
    "    clf_stdev = grid_clf.cv_results_['std_test_score'][grid_clf.best_index_]\n",
    "    cv_results = grid_clf.cv_results_\n",
    "\n",
    "    print(\"best parameters: {}\".format(clf_params))\n",
    "    print(\"best score:      {:0.5f} (+/-{:0.5f})\".format(clf_score, clf_stdev))\n",
    "    if display_all_params:\n",
    "        import pprint\n",
    "        pprint.pprint(clf.get_params())\n",
    "\n",
    "    # pick out the best results\n",
    "    # =========================\n",
    "    scores_df = pd.DataFrame(cv_results).sort_values(by='rank_test_score')\n",
    "\n",
    "    best_row = scores_df.iloc[0, :]\n",
    "    if negative:\n",
    "        best_mean = -best_row['mean_test_score']\n",
    "    else:\n",
    "        best_mean = best_row['mean_test_score']\n",
    "    best_stdev = best_row['std_test_score']\n",
    "    best_param = best_row['param_' + param_name]\n",
    "\n",
    "    # display the top 'num_results' results\n",
    "    # =====================================\n",
    "    display(pd.DataFrame(cv_results) \\\n",
    "            .sort_values(by='rank_test_score').head(num_results))\n",
    "\n",
    "    # plot the results\n",
    "    # ================\n",
    "    scores_df = scores_df.sort_values(by='param_' + param_name)\n",
    "\n",
    "    if negative:\n",
    "        means = -scores_df['mean_test_score']\n",
    "    else:\n",
    "        means = scores_df['mean_test_score']\n",
    "    stds = scores_df['std_test_score']\n",
    "    params = scores_df['param_' + param_name]\n",
    "\n",
    "    # plot\n",
    "    if graph:\n",
    "        plt.figure(figsize=(8, 8))\n",
    "        plt.errorbar(params, means, yerr=stds)\n",
    "\n",
    "        plt.axhline(y=best_mean + best_stdev, color='red')\n",
    "        plt.axhline(y=best_mean - best_stdev, color='red')\n",
    "        plt.plot(best_param, best_mean, 'or')\n",
    "\n",
    "        plt.title(param_name + \" vs Score\\nBest Score {:0.5f}\".format(clf_score))\n",
    "        plt.xlabel(param_name)\n",
    "        plt.ylabel('Score')\n",
    "        plt.show()"
   ]
  },
  {
   "cell_type": "code",
   "execution_count": 19,
   "id": "2642b531",
   "metadata": {},
   "outputs": [],
   "source": [
    "from sklearn.model_selection import RandomizedSearchCV"
   ]
  },
  {
   "cell_type": "markdown",
   "id": "d622f05f",
   "metadata": {},
   "source": [
    "## KNeighborsTimeSeriesClassifier"
   ]
  },
  {
   "cell_type": "code",
   "execution_count": 38,
   "id": "8d0c0189",
   "metadata": {},
   "outputs": [],
   "source": [
    "import pickle\n",
    "start = \"path_models_TSC\\\\\"\n",
    "end = \".pkl\"\n",
    "folder = \"gl\\\\\"\n",
    "ml_type = \"KNN_TSC\"\n",
    "\n",
    "path = start + folder + ml_type + end\n",
    "\n",
    "with open(path, \"rb\") as f:\n",
    "    model = pickle.load(f)"
   ]
  },
  {
   "cell_type": "code",
   "execution_count": 18,
   "id": "d2a31dbb",
   "metadata": {},
   "outputs": [
    {
     "data": {
      "text/html": [
       "<style>#sk-container-id-1 {color: black;background-color: white;}#sk-container-id-1 pre{padding: 0;}#sk-container-id-1 div.sk-toggleable {background-color: white;}#sk-container-id-1 label.sk-toggleable__label {cursor: pointer;display: block;width: 100%;margin-bottom: 0;padding: 0.3em;box-sizing: border-box;text-align: center;}#sk-container-id-1 label.sk-toggleable__label-arrow:before {content: \"▸\";float: left;margin-right: 0.25em;color: #696969;}#sk-container-id-1 label.sk-toggleable__label-arrow:hover:before {color: black;}#sk-container-id-1 div.sk-estimator:hover label.sk-toggleable__label-arrow:before {color: black;}#sk-container-id-1 div.sk-toggleable__content {max-height: 0;max-width: 0;overflow: hidden;text-align: left;background-color: #f0f8ff;}#sk-container-id-1 div.sk-toggleable__content pre {margin: 0.2em;color: black;border-radius: 0.25em;background-color: #f0f8ff;}#sk-container-id-1 input.sk-toggleable__control:checked~div.sk-toggleable__content {max-height: 200px;max-width: 100%;overflow: auto;}#sk-container-id-1 input.sk-toggleable__control:checked~label.sk-toggleable__label-arrow:before {content: \"▾\";}#sk-container-id-1 div.sk-estimator input.sk-toggleable__control:checked~label.sk-toggleable__label {background-color: #d4ebff;}#sk-container-id-1 div.sk-label input.sk-toggleable__control:checked~label.sk-toggleable__label {background-color: #d4ebff;}#sk-container-id-1 input.sk-hidden--visually {border: 0;clip: rect(1px 1px 1px 1px);clip: rect(1px, 1px, 1px, 1px);height: 1px;margin: -1px;overflow: hidden;padding: 0;position: absolute;width: 1px;}#sk-container-id-1 div.sk-estimator {font-family: monospace;background-color: #f0f8ff;border: 1px dotted black;border-radius: 0.25em;box-sizing: border-box;margin-bottom: 0.5em;}#sk-container-id-1 div.sk-estimator:hover {background-color: #d4ebff;}#sk-container-id-1 div.sk-parallel-item::after {content: \"\";width: 100%;border-bottom: 1px solid gray;flex-grow: 1;}#sk-container-id-1 div.sk-label:hover label.sk-toggleable__label {background-color: #d4ebff;}#sk-container-id-1 div.sk-serial::before {content: \"\";position: absolute;border-left: 1px solid gray;box-sizing: border-box;top: 0;bottom: 0;left: 50%;z-index: 0;}#sk-container-id-1 div.sk-serial {display: flex;flex-direction: column;align-items: center;background-color: white;padding-right: 0.2em;padding-left: 0.2em;position: relative;}#sk-container-id-1 div.sk-item {position: relative;z-index: 1;}#sk-container-id-1 div.sk-parallel {display: flex;align-items: stretch;justify-content: center;background-color: white;position: relative;}#sk-container-id-1 div.sk-item::before, #sk-container-id-1 div.sk-parallel-item::before {content: \"\";position: absolute;border-left: 1px solid gray;box-sizing: border-box;top: 0;bottom: 0;left: 50%;z-index: -1;}#sk-container-id-1 div.sk-parallel-item {display: flex;flex-direction: column;z-index: 1;position: relative;background-color: white;}#sk-container-id-1 div.sk-parallel-item:first-child::after {align-self: flex-end;width: 50%;}#sk-container-id-1 div.sk-parallel-item:last-child::after {align-self: flex-start;width: 50%;}#sk-container-id-1 div.sk-parallel-item:only-child::after {width: 0;}#sk-container-id-1 div.sk-dashed-wrapped {border: 1px dashed gray;margin: 0 0.4em 0.5em 0.4em;box-sizing: border-box;padding-bottom: 0.4em;background-color: white;}#sk-container-id-1 div.sk-label label {font-family: monospace;font-weight: bold;display: inline-block;line-height: 1.2em;}#sk-container-id-1 div.sk-label-container {text-align: center;}#sk-container-id-1 div.sk-container {/* jupyter's `normalize.less` sets `[hidden] { display: none; }` but bootstrap.min.css set `[hidden] { display: none !important; }` so we also need the `!important` here to be able to override the default hidden behavior on the sphinx rendered scikit-learn.org. See: https://github.com/scikit-learn/scikit-learn/issues/21755 */display: inline-block !important;position: relative;}#sk-container-id-1 div.sk-text-repr-fallback {display: none;}</style><div id=\"sk-container-id-1\" class=\"sk-top-container\"><div class=\"sk-text-repr-fallback\"><pre>KNeighborsTimeSeriesClassifier(n_neighbors=2)</pre><b>In a Jupyter environment, please rerun this cell to show the HTML representation or trust the notebook. <br />On GitHub, the HTML representation is unable to render, please try loading this page with nbviewer.org.</b></div><div class=\"sk-container\" hidden><div class=\"sk-item\"><div class=\"sk-estimator sk-toggleable\"><input class=\"sk-toggleable__control sk-hidden--visually\" id=\"sk-estimator-id-1\" type=\"checkbox\" checked><label for=\"sk-estimator-id-1\" class=\"sk-toggleable__label sk-toggleable__label-arrow\">KNeighborsTimeSeriesClassifier</label><div class=\"sk-toggleable__content\"><pre>KNeighborsTimeSeriesClassifier(n_neighbors=2)</pre></div></div></div></div></div>"
      ],
      "text/plain": [
       "KNeighborsTimeSeriesClassifier(n_neighbors=2)"
      ]
     },
     "execution_count": 18,
     "metadata": {},
     "output_type": "execute_result"
    }
   ],
   "source": [
    "from tslearn.neighbors import KNeighborsTimeSeriesClassifier\n",
    "knn = KNeighborsTimeSeriesClassifier(n_neighbors=2)\n",
    "knn.fit(data3d_X_train, y_train_resampled)"
   ]
  },
  {
   "cell_type": "code",
   "execution_count": 25,
   "id": "324c7340",
   "metadata": {},
   "outputs": [],
   "source": [
    "# set search parameters\n",
    "n_neighbors = [int(x) for x in np.linspace(start = 1, stop = 100, num = 50)]   \n",
    "weights = ['uniform','distance']\n",
    "metric = ['euclidean','manhattan','chebyshev','minkowski'] \n",
    "random_grid = {\n",
    "    'n_neighbors': n_neighbors,\n",
    "    'weights': weights,\n",
    "    'metric': metric,\n",
    "}"
   ]
  },
  {
   "cell_type": "code",
   "execution_count": 27,
   "id": "efabad66",
   "metadata": {},
   "outputs": [
    {
     "name": "stdout",
     "output_type": "stream",
     "text": [
      "Fitting 3 folds for each of 20 candidates, totalling 60 fits\n"
     ]
    },
    {
     "data": {
      "text/plain": [
       "{'weights': 'distance', 'n_neighbors': 33, 'metric': 'euclidean'}"
      ]
     },
     "execution_count": 27,
     "metadata": {},
     "output_type": "execute_result"
    }
   ],
   "source": [
    "knn_random = RandomizedSearchCV(estimator = knn, random_state = 42,n_jobs = -1,param_distributions = random_grid,n_iter = 20, cv=3,verbose = 2)\n",
    "knn_random.fit(data3d_X_train, y_train_resampled)\n",
    "knn_random.best_params_"
   ]
  },
  {
   "cell_type": "code",
   "execution_count": 32,
   "id": "cc405961",
   "metadata": {},
   "outputs": [
    {
     "data": {
      "text/plain": [
       "0.70042194092827"
      ]
     },
     "execution_count": 32,
     "metadata": {},
     "output_type": "execute_result"
    }
   ],
   "source": [
    "knn_random.best_params_\n",
    "\n",
    "best_estimator = knn_random.best_estimator_\n",
    "\n",
    "best_estimator.fit(data3d_X_train, y_train_resampled)\n",
    "\n",
    "pred = best_estimator.predict(data3d_X_test)\n",
    "\n",
    "accuracy_score(y_test_resampled, pred )"
   ]
  },
  {
   "cell_type": "code",
   "execution_count": 56,
   "id": "29ee610f",
   "metadata": {},
   "outputs": [
    {
     "data": {
      "text/plain": [
       "0.5907172995780591"
      ]
     },
     "execution_count": 56,
     "metadata": {},
     "output_type": "execute_result"
    }
   ],
   "source": [
    "pred = model.predict(data3d_X_test)\n",
    "\n",
    "accuracy_score(pred, y_test_resampled)"
   ]
  },
  {
   "cell_type": "code",
   "execution_count": 57,
   "id": "a7d6f6d1",
   "metadata": {},
   "outputs": [
    {
     "data": {
      "text/plain": [
       "0.6160337552742616"
      ]
     },
     "execution_count": 57,
     "metadata": {},
     "output_type": "execute_result"
    }
   ],
   "source": [
    "accuracy_score(y_test_resampled, smoothing(pred))"
   ]
  },
  {
   "cell_type": "code",
   "execution_count": 44,
   "id": "0623835b",
   "metadata": {},
   "outputs": [
    {
     "name": "stdout",
     "output_type": "stream",
     "text": [
      "\n",
      " -------------Classification Report-------------\n",
      "\n",
      "              precision    recall  f1-score   support\n",
      "\n",
      "           0       0.74      0.65      0.69       237\n",
      "           1       0.69      0.78      0.73       237\n",
      "\n",
      "    accuracy                           0.71       474\n",
      "   macro avg       0.71      0.71      0.71       474\n",
      "weighted avg       0.71      0.71      0.71       474\n",
      "\n"
     ]
    }
   ],
   "source": [
    "print(\"\\n -------------Classification Report-------------\\n\")\n",
    "print(classification_report(y_test_resampled, pred))"
   ]
  },
  {
   "cell_type": "code",
   "execution_count": 41,
   "id": "22ce76da",
   "metadata": {},
   "outputs": [
    {
     "name": "stdout",
     "output_type": "stream",
     "text": [
      "best parameters: {'weights': 'distance', 'n_neighbors': 55, 'metric': 'euclidean'}\n",
      "best score:      0.77113 (+/-0.02392)\n",
      "{'metric': 'euclidean',\n",
      " 'metric_params': None,\n",
      " 'n_jobs': None,\n",
      " 'n_neighbors': 55,\n",
      " 'verbose': 0,\n",
      " 'weights': 'distance'}\n"
     ]
    },
    {
     "data": {
      "text/html": [
       "<div>\n",
       "<style scoped>\n",
       "    .dataframe tbody tr th:only-of-type {\n",
       "        vertical-align: middle;\n",
       "    }\n",
       "\n",
       "    .dataframe tbody tr th {\n",
       "        vertical-align: top;\n",
       "    }\n",
       "\n",
       "    .dataframe thead th {\n",
       "        text-align: right;\n",
       "    }\n",
       "</style>\n",
       "<table border=\"1\" class=\"dataframe\">\n",
       "  <thead>\n",
       "    <tr style=\"text-align: right;\">\n",
       "      <th></th>\n",
       "      <th>mean_fit_time</th>\n",
       "      <th>std_fit_time</th>\n",
       "      <th>mean_score_time</th>\n",
       "      <th>std_score_time</th>\n",
       "      <th>param_weights</th>\n",
       "      <th>param_n_neighbors</th>\n",
       "      <th>param_metric</th>\n",
       "      <th>params</th>\n",
       "      <th>split0_test_score</th>\n",
       "      <th>split1_test_score</th>\n",
       "      <th>split2_test_score</th>\n",
       "      <th>mean_test_score</th>\n",
       "      <th>std_test_score</th>\n",
       "      <th>rank_test_score</th>\n",
       "    </tr>\n",
       "  </thead>\n",
       "  <tbody>\n",
       "    <tr>\n",
       "      <th>41</th>\n",
       "      <td>0.254999</td>\n",
       "      <td>0.006977</td>\n",
       "      <td>0.267003</td>\n",
       "      <td>0.001634</td>\n",
       "      <td>distance</td>\n",
       "      <td>55</td>\n",
       "      <td>euclidean</td>\n",
       "      <td>{'weights': 'distance', 'n_neighbors': 55, 'me...</td>\n",
       "      <td>0.804951</td>\n",
       "      <td>0.754689</td>\n",
       "      <td>0.753754</td>\n",
       "      <td>0.771131</td>\n",
       "      <td>0.023917</td>\n",
       "      <td>1</td>\n",
       "    </tr>\n",
       "    <tr>\n",
       "      <th>33</th>\n",
       "      <td>0.249000</td>\n",
       "      <td>0.001415</td>\n",
       "      <td>0.267333</td>\n",
       "      <td>0.002495</td>\n",
       "      <td>distance</td>\n",
       "      <td>57</td>\n",
       "      <td>euclidean</td>\n",
       "      <td>{'weights': 'distance', 'n_neighbors': 57, 'me...</td>\n",
       "      <td>0.802701</td>\n",
       "      <td>0.754689</td>\n",
       "      <td>0.751502</td>\n",
       "      <td>0.769630</td>\n",
       "      <td>0.023420</td>\n",
       "      <td>2</td>\n",
       "    </tr>\n",
       "    <tr>\n",
       "      <th>85</th>\n",
       "      <td>0.257332</td>\n",
       "      <td>0.002625</td>\n",
       "      <td>0.268667</td>\n",
       "      <td>0.006236</td>\n",
       "      <td>distance</td>\n",
       "      <td>63</td>\n",
       "      <td>euclidean</td>\n",
       "      <td>{'weights': 'distance', 'n_neighbors': 63, 'me...</td>\n",
       "      <td>0.799700</td>\n",
       "      <td>0.753188</td>\n",
       "      <td>0.753754</td>\n",
       "      <td>0.768881</td>\n",
       "      <td>0.021794</td>\n",
       "      <td>3</td>\n",
       "    </tr>\n",
       "    <tr>\n",
       "      <th>2</th>\n",
       "      <td>0.759333</td>\n",
       "      <td>0.045675</td>\n",
       "      <td>0.273001</td>\n",
       "      <td>0.005100</td>\n",
       "      <td>distance</td>\n",
       "      <td>33</td>\n",
       "      <td>euclidean</td>\n",
       "      <td>{'weights': 'distance', 'n_neighbors': 33, 'me...</td>\n",
       "      <td>0.795199</td>\n",
       "      <td>0.752438</td>\n",
       "      <td>0.758258</td>\n",
       "      <td>0.768632</td>\n",
       "      <td>0.018935</td>\n",
       "      <td>4</td>\n",
       "    </tr>\n",
       "    <tr>\n",
       "      <th>69</th>\n",
       "      <td>0.277333</td>\n",
       "      <td>0.011441</td>\n",
       "      <td>0.286333</td>\n",
       "      <td>0.006651</td>\n",
       "      <td>distance</td>\n",
       "      <td>73</td>\n",
       "      <td>euclidean</td>\n",
       "      <td>{'weights': 'distance', 'n_neighbors': 73, 'me...</td>\n",
       "      <td>0.803451</td>\n",
       "      <td>0.748687</td>\n",
       "      <td>0.753754</td>\n",
       "      <td>0.768631</td>\n",
       "      <td>0.024708</td>\n",
       "      <td>5</td>\n",
       "    </tr>\n",
       "    <tr>\n",
       "      <th>55</th>\n",
       "      <td>0.257667</td>\n",
       "      <td>0.008055</td>\n",
       "      <td>0.275665</td>\n",
       "      <td>0.001248</td>\n",
       "      <td>distance</td>\n",
       "      <td>39</td>\n",
       "      <td>euclidean</td>\n",
       "      <td>{'weights': 'distance', 'n_neighbors': 39, 'me...</td>\n",
       "      <td>0.796699</td>\n",
       "      <td>0.754689</td>\n",
       "      <td>0.753754</td>\n",
       "      <td>0.768381</td>\n",
       "      <td>0.020028</td>\n",
       "      <td>6</td>\n",
       "    </tr>\n",
       "    <tr>\n",
       "      <th>99</th>\n",
       "      <td>0.232999</td>\n",
       "      <td>0.007118</td>\n",
       "      <td>0.231333</td>\n",
       "      <td>0.021359</td>\n",
       "      <td>distance</td>\n",
       "      <td>75</td>\n",
       "      <td>euclidean</td>\n",
       "      <td>{'weights': 'distance', 'n_neighbors': 75, 'me...</td>\n",
       "      <td>0.802701</td>\n",
       "      <td>0.748687</td>\n",
       "      <td>0.751502</td>\n",
       "      <td>0.767630</td>\n",
       "      <td>0.024825</td>\n",
       "      <td>7</td>\n",
       "    </tr>\n",
       "    <tr>\n",
       "      <th>4</th>\n",
       "      <td>0.275334</td>\n",
       "      <td>0.031648</td>\n",
       "      <td>0.278000</td>\n",
       "      <td>0.009092</td>\n",
       "      <td>distance</td>\n",
       "      <td>93</td>\n",
       "      <td>euclidean</td>\n",
       "      <td>{'weights': 'distance', 'n_neighbors': 93, 'me...</td>\n",
       "      <td>0.798200</td>\n",
       "      <td>0.748687</td>\n",
       "      <td>0.753003</td>\n",
       "      <td>0.766630</td>\n",
       "      <td>0.022393</td>\n",
       "      <td>8</td>\n",
       "    </tr>\n",
       "    <tr>\n",
       "      <th>20</th>\n",
       "      <td>0.252999</td>\n",
       "      <td>0.003742</td>\n",
       "      <td>0.278667</td>\n",
       "      <td>0.005793</td>\n",
       "      <td>distance</td>\n",
       "      <td>77</td>\n",
       "      <td>euclidean</td>\n",
       "      <td>{'weights': 'distance', 'n_neighbors': 77, 'me...</td>\n",
       "      <td>0.799700</td>\n",
       "      <td>0.748687</td>\n",
       "      <td>0.751502</td>\n",
       "      <td>0.766630</td>\n",
       "      <td>0.023413</td>\n",
       "      <td>9</td>\n",
       "    </tr>\n",
       "    <tr>\n",
       "      <th>43</th>\n",
       "      <td>0.249999</td>\n",
       "      <td>0.003742</td>\n",
       "      <td>0.261001</td>\n",
       "      <td>0.006481</td>\n",
       "      <td>distance</td>\n",
       "      <td>25</td>\n",
       "      <td>euclidean</td>\n",
       "      <td>{'weights': 'distance', 'n_neighbors': 25, 'me...</td>\n",
       "      <td>0.792948</td>\n",
       "      <td>0.748687</td>\n",
       "      <td>0.757508</td>\n",
       "      <td>0.766381</td>\n",
       "      <td>0.019128</td>\n",
       "      <td>10</td>\n",
       "    </tr>\n",
       "    <tr>\n",
       "      <th>65</th>\n",
       "      <td>0.255000</td>\n",
       "      <td>0.005716</td>\n",
       "      <td>0.305879</td>\n",
       "      <td>0.017987</td>\n",
       "      <td>distance</td>\n",
       "      <td>31</td>\n",
       "      <td>euclidean</td>\n",
       "      <td>{'weights': 'distance', 'n_neighbors': 31, 'me...</td>\n",
       "      <td>0.791448</td>\n",
       "      <td>0.750188</td>\n",
       "      <td>0.756757</td>\n",
       "      <td>0.766131</td>\n",
       "      <td>0.018102</td>\n",
       "      <td>11</td>\n",
       "    </tr>\n",
       "    <tr>\n",
       "      <th>73</th>\n",
       "      <td>0.268333</td>\n",
       "      <td>0.008219</td>\n",
       "      <td>0.274999</td>\n",
       "      <td>0.007873</td>\n",
       "      <td>distance</td>\n",
       "      <td>45</td>\n",
       "      <td>euclidean</td>\n",
       "      <td>{'weights': 'distance', 'n_neighbors': 45, 'me...</td>\n",
       "      <td>0.791448</td>\n",
       "      <td>0.753188</td>\n",
       "      <td>0.753003</td>\n",
       "      <td>0.765880</td>\n",
       "      <td>0.018080</td>\n",
       "      <td>12</td>\n",
       "    </tr>\n",
       "    <tr>\n",
       "      <th>21</th>\n",
       "      <td>0.245999</td>\n",
       "      <td>0.001633</td>\n",
       "      <td>0.257667</td>\n",
       "      <td>0.004922</td>\n",
       "      <td>distance</td>\n",
       "      <td>15</td>\n",
       "      <td>euclidean</td>\n",
       "      <td>{'weights': 'distance', 'n_neighbors': 15, 'me...</td>\n",
       "      <td>0.780195</td>\n",
       "      <td>0.747937</td>\n",
       "      <td>0.750751</td>\n",
       "      <td>0.759628</td>\n",
       "      <td>0.014589</td>\n",
       "      <td>13</td>\n",
       "    </tr>\n",
       "    <tr>\n",
       "      <th>10</th>\n",
       "      <td>0.250999</td>\n",
       "      <td>0.000816</td>\n",
       "      <td>0.266335</td>\n",
       "      <td>0.004922</td>\n",
       "      <td>distance</td>\n",
       "      <td>9</td>\n",
       "      <td>euclidean</td>\n",
       "      <td>{'weights': 'distance', 'n_neighbors': 9, 'met...</td>\n",
       "      <td>0.773443</td>\n",
       "      <td>0.755439</td>\n",
       "      <td>0.746997</td>\n",
       "      <td>0.758626</td>\n",
       "      <td>0.011029</td>\n",
       "      <td>14</td>\n",
       "    </tr>\n",
       "    <tr>\n",
       "      <th>53</th>\n",
       "      <td>0.253666</td>\n",
       "      <td>0.002056</td>\n",
       "      <td>0.337334</td>\n",
       "      <td>0.013274</td>\n",
       "      <td>uniform</td>\n",
       "      <td>71</td>\n",
       "      <td>euclidean</td>\n",
       "      <td>{'weights': 'uniform', 'n_neighbors': 71, 'met...</td>\n",
       "      <td>0.781695</td>\n",
       "      <td>0.731433</td>\n",
       "      <td>0.734985</td>\n",
       "      <td>0.749371</td>\n",
       "      <td>0.022903</td>\n",
       "      <td>15</td>\n",
       "    </tr>\n",
       "  </tbody>\n",
       "</table>\n",
       "</div>"
      ],
      "text/plain": [
       "    mean_fit_time  std_fit_time  mean_score_time  std_score_time  \\\n",
       "41       0.254999      0.006977         0.267003        0.001634   \n",
       "33       0.249000      0.001415         0.267333        0.002495   \n",
       "85       0.257332      0.002625         0.268667        0.006236   \n",
       "2        0.759333      0.045675         0.273001        0.005100   \n",
       "69       0.277333      0.011441         0.286333        0.006651   \n",
       "55       0.257667      0.008055         0.275665        0.001248   \n",
       "99       0.232999      0.007118         0.231333        0.021359   \n",
       "4        0.275334      0.031648         0.278000        0.009092   \n",
       "20       0.252999      0.003742         0.278667        0.005793   \n",
       "43       0.249999      0.003742         0.261001        0.006481   \n",
       "65       0.255000      0.005716         0.305879        0.017987   \n",
       "73       0.268333      0.008219         0.274999        0.007873   \n",
       "21       0.245999      0.001633         0.257667        0.004922   \n",
       "10       0.250999      0.000816         0.266335        0.004922   \n",
       "53       0.253666      0.002056         0.337334        0.013274   \n",
       "\n",
       "   param_weights param_n_neighbors param_metric  \\\n",
       "41      distance                55    euclidean   \n",
       "33      distance                57    euclidean   \n",
       "85      distance                63    euclidean   \n",
       "2       distance                33    euclidean   \n",
       "69      distance                73    euclidean   \n",
       "55      distance                39    euclidean   \n",
       "99      distance                75    euclidean   \n",
       "4       distance                93    euclidean   \n",
       "20      distance                77    euclidean   \n",
       "43      distance                25    euclidean   \n",
       "65      distance                31    euclidean   \n",
       "73      distance                45    euclidean   \n",
       "21      distance                15    euclidean   \n",
       "10      distance                 9    euclidean   \n",
       "53       uniform                71    euclidean   \n",
       "\n",
       "                                               params  split0_test_score  \\\n",
       "41  {'weights': 'distance', 'n_neighbors': 55, 'me...           0.804951   \n",
       "33  {'weights': 'distance', 'n_neighbors': 57, 'me...           0.802701   \n",
       "85  {'weights': 'distance', 'n_neighbors': 63, 'me...           0.799700   \n",
       "2   {'weights': 'distance', 'n_neighbors': 33, 'me...           0.795199   \n",
       "69  {'weights': 'distance', 'n_neighbors': 73, 'me...           0.803451   \n",
       "55  {'weights': 'distance', 'n_neighbors': 39, 'me...           0.796699   \n",
       "99  {'weights': 'distance', 'n_neighbors': 75, 'me...           0.802701   \n",
       "4   {'weights': 'distance', 'n_neighbors': 93, 'me...           0.798200   \n",
       "20  {'weights': 'distance', 'n_neighbors': 77, 'me...           0.799700   \n",
       "43  {'weights': 'distance', 'n_neighbors': 25, 'me...           0.792948   \n",
       "65  {'weights': 'distance', 'n_neighbors': 31, 'me...           0.791448   \n",
       "73  {'weights': 'distance', 'n_neighbors': 45, 'me...           0.791448   \n",
       "21  {'weights': 'distance', 'n_neighbors': 15, 'me...           0.780195   \n",
       "10  {'weights': 'distance', 'n_neighbors': 9, 'met...           0.773443   \n",
       "53  {'weights': 'uniform', 'n_neighbors': 71, 'met...           0.781695   \n",
       "\n",
       "    split1_test_score  split2_test_score  mean_test_score  std_test_score  \\\n",
       "41           0.754689           0.753754         0.771131        0.023917   \n",
       "33           0.754689           0.751502         0.769630        0.023420   \n",
       "85           0.753188           0.753754         0.768881        0.021794   \n",
       "2            0.752438           0.758258         0.768632        0.018935   \n",
       "69           0.748687           0.753754         0.768631        0.024708   \n",
       "55           0.754689           0.753754         0.768381        0.020028   \n",
       "99           0.748687           0.751502         0.767630        0.024825   \n",
       "4            0.748687           0.753003         0.766630        0.022393   \n",
       "20           0.748687           0.751502         0.766630        0.023413   \n",
       "43           0.748687           0.757508         0.766381        0.019128   \n",
       "65           0.750188           0.756757         0.766131        0.018102   \n",
       "73           0.753188           0.753003         0.765880        0.018080   \n",
       "21           0.747937           0.750751         0.759628        0.014589   \n",
       "10           0.755439           0.746997         0.758626        0.011029   \n",
       "53           0.731433           0.734985         0.749371        0.022903   \n",
       "\n",
       "    rank_test_score  \n",
       "41                1  \n",
       "33                2  \n",
       "85                3  \n",
       "2                 4  \n",
       "69                5  \n",
       "55                6  \n",
       "99                7  \n",
       "4                 8  \n",
       "20                9  \n",
       "43               10  \n",
       "65               11  \n",
       "73               12  \n",
       "21               13  \n",
       "10               14  \n",
       "53               15  "
      ]
     },
     "metadata": {},
     "output_type": "display_data"
    },
    {
     "data": {
      "image/png": "[encoded data removed]",
      "text/plain": [
       "<Figure size 576x576 with 1 Axes>"
      ]
     },
     "metadata": {
      "needs_background": "light"
     },
     "output_type": "display_data"
    }
   ],
   "source": [
    "GridSearch_table_plot(knn_random, \"weights\", negative=False)"
   ]
  },
  {
   "cell_type": "code",
   "execution_count": 19,
   "id": "f47a0e26",
   "metadata": {},
   "outputs": [
    {
     "data": {
      "text/plain": [
       "0.6075949367088608"
      ]
     },
     "execution_count": 19,
     "metadata": {},
     "output_type": "execute_result"
    }
   ],
   "source": [
    "y_pred = knn.predict(data3d_X_test)\n",
    "accuracy_score(y_test_resampled, y_pred)"
   ]
  },
  {
   "cell_type": "code",
   "execution_count": 22,
   "id": "4bb322dd",
   "metadata": {},
   "outputs": [
    {
     "data": {
      "text/plain": [
       "<sklearn.metrics._plot.confusion_matrix.ConfusionMatrixDisplay at 0x215e6352250>"
      ]
     },
     "execution_count": 22,
     "metadata": {},
     "output_type": "execute_result"
    },
    {
     "data": {
      "image/png": "[encoded data removed]",
      "text/plain": [
       "<Figure size 432x288 with 2 Axes>"
      ]
     },
     "metadata": {
      "needs_background": "light"
     },
     "output_type": "display_data"
    }
   ],
   "source": [
    "from sklearn import metrics\n",
    "\n",
    "confusion_matrix = metrics.confusion_matrix(y_test_resampled, smoothing(y_pred))\n",
    "\n",
    "cm_display = metrics.ConfusionMatrixDisplay(confusion_matrix = confusion_matrix, display_labels = [False, True])\n",
    "\n",
    "cm_display.plot()\n"
   ]
  },
  {
   "cell_type": "code",
   "execution_count": 24,
   "id": "833583f4",
   "metadata": {},
   "outputs": [
    {
     "name": "stdout",
     "output_type": "stream",
     "text": [
      "\n",
      " -------------Classification Report-------------\n",
      "\n",
      "              precision    recall  f1-score   support\n",
      "\n",
      "           0       0.60      0.86      0.71       237\n",
      "           1       0.76      0.42      0.54       237\n",
      "\n",
      "    accuracy                           0.64       474\n",
      "   macro avg       0.68      0.64      0.63       474\n",
      "weighted avg       0.68      0.64      0.63       474\n",
      "\n"
     ]
    }
   ],
   "source": [
    "print(\"\\n -------------Classification Report-------------\\n\")\n",
    "print(classification_report(y_test_resampled, smoothing(y_pred)))"
   ]
  },
  {
   "cell_type": "code",
   "execution_count": 183,
   "id": "6a0eaa61",
   "metadata": {},
   "outputs": [],
   "source": [
    "import pickle\n",
    "with open('TSC_data/models_TSC/acc/KNN_TSC.pkl','wb') as f:\n",
    "    pickle.dump(knn,f)"
   ]
  },
  {
   "cell_type": "markdown",
   "id": "7f438391",
   "metadata": {},
   "source": [
    "## TimeSeriesSVC"
   ]
  },
  {
   "cell_type": "code",
   "execution_count": 25,
   "id": "4660132f",
   "metadata": {},
   "outputs": [
    {
     "data": {
      "text/html": [
       "<style>#sk-container-id-2 {color: black;background-color: white;}#sk-container-id-2 pre{padding: 0;}#sk-container-id-2 div.sk-toggleable {background-color: white;}#sk-container-id-2 label.sk-toggleable__label {cursor: pointer;display: block;width: 100%;margin-bottom: 0;padding: 0.3em;box-sizing: border-box;text-align: center;}#sk-container-id-2 label.sk-toggleable__label-arrow:before {content: \"▸\";float: left;margin-right: 0.25em;color: #696969;}#sk-container-id-2 label.sk-toggleable__label-arrow:hover:before {color: black;}#sk-container-id-2 div.sk-estimator:hover label.sk-toggleable__label-arrow:before {color: black;}#sk-container-id-2 div.sk-toggleable__content {max-height: 0;max-width: 0;overflow: hidden;text-align: left;background-color: #f0f8ff;}#sk-container-id-2 div.sk-toggleable__content pre {margin: 0.2em;color: black;border-radius: 0.25em;background-color: #f0f8ff;}#sk-container-id-2 input.sk-toggleable__control:checked~div.sk-toggleable__content {max-height: 200px;max-width: 100%;overflow: auto;}#sk-container-id-2 input.sk-toggleable__control:checked~label.sk-toggleable__label-arrow:before {content: \"▾\";}#sk-container-id-2 div.sk-estimator input.sk-toggleable__control:checked~label.sk-toggleable__label {background-color: #d4ebff;}#sk-container-id-2 div.sk-label input.sk-toggleable__control:checked~label.sk-toggleable__label {background-color: #d4ebff;}#sk-container-id-2 input.sk-hidden--visually {border: 0;clip: rect(1px 1px 1px 1px);clip: rect(1px, 1px, 1px, 1px);height: 1px;margin: -1px;overflow: hidden;padding: 0;position: absolute;width: 1px;}#sk-container-id-2 div.sk-estimator {font-family: monospace;background-color: #f0f8ff;border: 1px dotted black;border-radius: 0.25em;box-sizing: border-box;margin-bottom: 0.5em;}#sk-container-id-2 div.sk-estimator:hover {background-color: #d4ebff;}#sk-container-id-2 div.sk-parallel-item::after {content: \"\";width: 100%;border-bottom: 1px solid gray;flex-grow: 1;}#sk-container-id-2 div.sk-label:hover label.sk-toggleable__label {background-color: #d4ebff;}#sk-container-id-2 div.sk-serial::before {content: \"\";position: absolute;border-left: 1px solid gray;box-sizing: border-box;top: 0;bottom: 0;left: 50%;z-index: 0;}#sk-container-id-2 div.sk-serial {display: flex;flex-direction: column;align-items: center;background-color: white;padding-right: 0.2em;padding-left: 0.2em;position: relative;}#sk-container-id-2 div.sk-item {position: relative;z-index: 1;}#sk-container-id-2 div.sk-parallel {display: flex;align-items: stretch;justify-content: center;background-color: white;position: relative;}#sk-container-id-2 div.sk-item::before, #sk-container-id-2 div.sk-parallel-item::before {content: \"\";position: absolute;border-left: 1px solid gray;box-sizing: border-box;top: 0;bottom: 0;left: 50%;z-index: -1;}#sk-container-id-2 div.sk-parallel-item {display: flex;flex-direction: column;z-index: 1;position: relative;background-color: white;}#sk-container-id-2 div.sk-parallel-item:first-child::after {align-self: flex-end;width: 50%;}#sk-container-id-2 div.sk-parallel-item:last-child::after {align-self: flex-start;width: 50%;}#sk-container-id-2 div.sk-parallel-item:only-child::after {width: 0;}#sk-container-id-2 div.sk-dashed-wrapped {border: 1px dashed gray;margin: 0 0.4em 0.5em 0.4em;box-sizing: border-box;padding-bottom: 0.4em;background-color: white;}#sk-container-id-2 div.sk-label label {font-family: monospace;font-weight: bold;display: inline-block;line-height: 1.2em;}#sk-container-id-2 div.sk-label-container {text-align: center;}#sk-container-id-2 div.sk-container {/* jupyter's `normalize.less` sets `[hidden] { display: none; }` but bootstrap.min.css set `[hidden] { display: none !important; }` so we also need the `!important` here to be able to override the default hidden behavior on the sphinx rendered scikit-learn.org. See: https://github.com/scikit-learn/scikit-learn/issues/21755 */display: inline-block !important;position: relative;}#sk-container-id-2 div.sk-text-repr-fallback {display: none;}</style><div id=\"sk-container-id-2\" class=\"sk-top-container\"><div class=\"sk-text-repr-fallback\"><pre>TimeSeriesSVC(gamma=0.001)</pre><b>In a Jupyter environment, please rerun this cell to show the HTML representation or trust the notebook. <br />On GitHub, the HTML representation is unable to render, please try loading this page with nbviewer.org.</b></div><div class=\"sk-container\" hidden><div class=\"sk-item\"><div class=\"sk-estimator sk-toggleable\"><input class=\"sk-toggleable__control sk-hidden--visually\" id=\"sk-estimator-id-2\" type=\"checkbox\" checked><label for=\"sk-estimator-id-2\" class=\"sk-toggleable__label sk-toggleable__label-arrow\">TimeSeriesSVC</label><div class=\"sk-toggleable__content\"><pre>TimeSeriesSVC(gamma=0.001)</pre></div></div></div></div></div>"
      ],
      "text/plain": [
       "TimeSeriesSVC(gamma=0.001)"
      ]
     },
     "execution_count": 25,
     "metadata": {},
     "output_type": "execute_result"
    }
   ],
   "source": [
    "from tslearn.svm import TimeSeriesSVC\n",
    "clf = TimeSeriesSVC(C=1.0, kernel=\"gak\", gamma=0.001)\n",
    "clf.fit(data3d_X_train,y_train_resampled)"
   ]
  },
  {
   "cell_type": "code",
   "execution_count": null,
   "id": "824660ca",
   "metadata": {},
   "outputs": [],
   "source": []
  },
  {
   "cell_type": "code",
   "execution_count": 26,
   "id": "678b8465",
   "metadata": {},
   "outputs": [
    {
     "data": {
      "text/plain": [
       "0.5"
      ]
     },
     "execution_count": 26,
     "metadata": {},
     "output_type": "execute_result"
    }
   ],
   "source": [
    "y_pred = clf.predict(data3d_X_test)\n",
    "accuracy_score(y_test_resampled, y_pred)"
   ]
  },
  {
   "cell_type": "code",
   "execution_count": 28,
   "id": "3624d729",
   "metadata": {},
   "outputs": [],
   "source": [
    "parameters = {'kernel': ['rbf', 'sigmoid'],\n",
    "             'C': [1.0, 100.0, 1000.0],\n",
    "             'gamma': [0.001, 0.01,0.1]}#\n"
   ]
  },
  {
   "cell_type": "code",
   "execution_count": 29,
   "id": "c6b22c96",
   "metadata": {},
   "outputs": [
    {
     "name": "stdout",
     "output_type": "stream",
     "text": [
      "Fitting 5 folds for each of 10 candidates, totalling 50 fits\n"
     ]
    },
    {
     "data": {
      "text/html": [
       "<style>#sk-container-id-2 {color: black;background-color: white;}#sk-container-id-2 pre{padding: 0;}#sk-container-id-2 div.sk-toggleable {background-color: white;}#sk-container-id-2 label.sk-toggleable__label {cursor: pointer;display: block;width: 100%;margin-bottom: 0;padding: 0.3em;box-sizing: border-box;text-align: center;}#sk-container-id-2 label.sk-toggleable__label-arrow:before {content: \"▸\";float: left;margin-right: 0.25em;color: #696969;}#sk-container-id-2 label.sk-toggleable__label-arrow:hover:before {color: black;}#sk-container-id-2 div.sk-estimator:hover label.sk-toggleable__label-arrow:before {color: black;}#sk-container-id-2 div.sk-toggleable__content {max-height: 0;max-width: 0;overflow: hidden;text-align: left;background-color: #f0f8ff;}#sk-container-id-2 div.sk-toggleable__content pre {margin: 0.2em;color: black;border-radius: 0.25em;background-color: #f0f8ff;}#sk-container-id-2 input.sk-toggleable__control:checked~div.sk-toggleable__content {max-height: 200px;max-width: 100%;overflow: auto;}#sk-container-id-2 input.sk-toggleable__control:checked~label.sk-toggleable__label-arrow:before {content: \"▾\";}#sk-container-id-2 div.sk-estimator input.sk-toggleable__control:checked~label.sk-toggleable__label {background-color: #d4ebff;}#sk-container-id-2 div.sk-label input.sk-toggleable__control:checked~label.sk-toggleable__label {background-color: #d4ebff;}#sk-container-id-2 input.sk-hidden--visually {border: 0;clip: rect(1px 1px 1px 1px);clip: rect(1px, 1px, 1px, 1px);height: 1px;margin: -1px;overflow: hidden;padding: 0;position: absolute;width: 1px;}#sk-container-id-2 div.sk-estimator {font-family: monospace;background-color: #f0f8ff;border: 1px dotted black;border-radius: 0.25em;box-sizing: border-box;margin-bottom: 0.5em;}#sk-container-id-2 div.sk-estimator:hover {background-color: #d4ebff;}#sk-container-id-2 div.sk-parallel-item::after {content: \"\";width: 100%;border-bottom: 1px solid gray;flex-grow: 1;}#sk-container-id-2 div.sk-label:hover label.sk-toggleable__label {background-color: #d4ebff;}#sk-container-id-2 div.sk-serial::before {content: \"\";position: absolute;border-left: 1px solid gray;box-sizing: border-box;top: 0;bottom: 0;left: 50%;z-index: 0;}#sk-container-id-2 div.sk-serial {display: flex;flex-direction: column;align-items: center;background-color: white;padding-right: 0.2em;padding-left: 0.2em;position: relative;}#sk-container-id-2 div.sk-item {position: relative;z-index: 1;}#sk-container-id-2 div.sk-parallel {display: flex;align-items: stretch;justify-content: center;background-color: white;position: relative;}#sk-container-id-2 div.sk-item::before, #sk-container-id-2 div.sk-parallel-item::before {content: \"\";position: absolute;border-left: 1px solid gray;box-sizing: border-box;top: 0;bottom: 0;left: 50%;z-index: -1;}#sk-container-id-2 div.sk-parallel-item {display: flex;flex-direction: column;z-index: 1;position: relative;background-color: white;}#sk-container-id-2 div.sk-parallel-item:first-child::after {align-self: flex-end;width: 50%;}#sk-container-id-2 div.sk-parallel-item:last-child::after {align-self: flex-start;width: 50%;}#sk-container-id-2 div.sk-parallel-item:only-child::after {width: 0;}#sk-container-id-2 div.sk-dashed-wrapped {border: 1px dashed gray;margin: 0 0.4em 0.5em 0.4em;box-sizing: border-box;padding-bottom: 0.4em;background-color: white;}#sk-container-id-2 div.sk-label label {font-family: monospace;font-weight: bold;display: inline-block;line-height: 1.2em;}#sk-container-id-2 div.sk-label-container {text-align: center;}#sk-container-id-2 div.sk-container {/* jupyter's `normalize.less` sets `[hidden] { display: none; }` but bootstrap.min.css set `[hidden] { display: none !important; }` so we also need the `!important` here to be able to override the default hidden behavior on the sphinx rendered scikit-learn.org. See: https://github.com/scikit-learn/scikit-learn/issues/21755 */display: inline-block !important;position: relative;}#sk-container-id-2 div.sk-text-repr-fallback {display: none;}</style><div id=\"sk-container-id-2\" class=\"sk-top-container\"><div class=\"sk-text-repr-fallback\"><pre>RandomizedSearchCV(cv=5, estimator=TimeSeriesSVC(), n_jobs=-1,\n",
       "                   param_distributions={&#x27;C&#x27;: [1.0, 100.0, 1000.0],\n",
       "                                        &#x27;gamma&#x27;: [0.001, 0.01, 0.1],\n",
       "                                        &#x27;kernel&#x27;: [&#x27;rbf&#x27;, &#x27;sigmoid&#x27;]},\n",
       "                   random_state=1, scoring=&#x27;accuracy&#x27;, verbose=1)</pre><b>In a Jupyter environment, please rerun this cell to show the HTML representation or trust the notebook. <br />On GitHub, the HTML representation is unable to render, please try loading this page with nbviewer.org.</b></div><div class=\"sk-container\" hidden><div class=\"sk-item sk-dashed-wrapped\"><div class=\"sk-label-container\"><div class=\"sk-label sk-toggleable\"><input class=\"sk-toggleable__control sk-hidden--visually\" id=\"sk-estimator-id-4\" type=\"checkbox\" ><label for=\"sk-estimator-id-4\" class=\"sk-toggleable__label sk-toggleable__label-arrow\">RandomizedSearchCV</label><div class=\"sk-toggleable__content\"><pre>RandomizedSearchCV(cv=5, estimator=TimeSeriesSVC(), n_jobs=-1,\n",
       "                   param_distributions={&#x27;C&#x27;: [1.0, 100.0, 1000.0],\n",
       "                                        &#x27;gamma&#x27;: [0.001, 0.01, 0.1],\n",
       "                                        &#x27;kernel&#x27;: [&#x27;rbf&#x27;, &#x27;sigmoid&#x27;]},\n",
       "                   random_state=1, scoring=&#x27;accuracy&#x27;, verbose=1)</pre></div></div></div><div class=\"sk-parallel\"><div class=\"sk-parallel-item\"><div class=\"sk-item\"><div class=\"sk-label-container\"><div class=\"sk-label sk-toggleable\"><input class=\"sk-toggleable__control sk-hidden--visually\" id=\"sk-estimator-id-5\" type=\"checkbox\" ><label for=\"sk-estimator-id-5\" class=\"sk-toggleable__label sk-toggleable__label-arrow\">estimator: TimeSeriesSVC</label><div class=\"sk-toggleable__content\"><pre>TimeSeriesSVC()</pre></div></div></div><div class=\"sk-serial\"><div class=\"sk-item\"><div class=\"sk-estimator sk-toggleable\"><input class=\"sk-toggleable__control sk-hidden--visually\" id=\"sk-estimator-id-6\" type=\"checkbox\" ><label for=\"sk-estimator-id-6\" class=\"sk-toggleable__label sk-toggleable__label-arrow\">TimeSeriesSVC</label><div class=\"sk-toggleable__content\"><pre>TimeSeriesSVC()</pre></div></div></div></div></div></div></div></div></div></div>"
      ],
      "text/plain": [
       "RandomizedSearchCV(cv=5, estimator=TimeSeriesSVC(), n_jobs=-1,\n",
       "                   param_distributions={'C': [1.0, 100.0, 1000.0],\n",
       "                                        'gamma': [0.001, 0.01, 0.1],\n",
       "                                        'kernel': ['rbf', 'sigmoid']},\n",
       "                   random_state=1, scoring='accuracy', verbose=1)"
      ]
     },
     "execution_count": 29,
     "metadata": {},
     "output_type": "execute_result"
    }
   ],
   "source": [
    "random_estimator = RandomizedSearchCV(estimator = clf,\n",
    "                                   param_distributions = parameters,\n",
    "                                   cv = 5,\n",
    "                                   n_iter = 10,\n",
    "                                   scoring = 'accuracy',\n",
    "                                   n_jobs = -1,\n",
    "                                   verbose = 1, \n",
    "                                   random_state = 1,\n",
    "                                  )\n",
    "\n",
    "random_estimator.fit(data3d_X_train, y_train_resampled)"
   ]
  },
  {
   "cell_type": "code",
   "execution_count": 30,
   "id": "dbb4a965",
   "metadata": {},
   "outputs": [
    {
     "data": {
      "text/plain": [
       "0.5"
      ]
     },
     "execution_count": 30,
     "metadata": {},
     "output_type": "execute_result"
    }
   ],
   "source": [
    "random_estimator.best_params_\n",
    "\n",
    "best_estimator = random_estimator.best_estimator_\n",
    "\n",
    "best_estimator.fit(data3d_X_train, y_train_resampled)\n",
    "\n",
    "pred = best_estimator.predict(data3d_X_test)\n",
    "\n",
    "accuracy_score(pred, y_test_resampled)"
   ]
  },
  {
   "cell_type": "code",
   "execution_count": null,
   "id": "0b7a4f9c",
   "metadata": {},
   "outputs": [],
   "source": [
    "GridSearch_table_plot(random_estimator, \"gamma\", negative=False)"
   ]
  },
  {
   "cell_type": "code",
   "execution_count": null,
   "id": "c7fb1215",
   "metadata": {},
   "outputs": [],
   "source": [
    "from sklearn import metrics\n",
    "print(metrics.classification_report(y_test_resampled, pred))"
   ]
  },
  {
   "cell_type": "code",
   "execution_count": null,
   "id": "25adc6bd",
   "metadata": {},
   "outputs": [],
   "source": []
  },
  {
   "cell_type": "code",
   "execution_count": 28,
   "id": "a52ba291",
   "metadata": {},
   "outputs": [
    {
     "data": {
      "text/plain": [
       "<sklearn.metrics._plot.confusion_matrix.ConfusionMatrixDisplay at 0x215806b4e80>"
      ]
     },
     "execution_count": 28,
     "metadata": {},
     "output_type": "execute_result"
    },
    {
     "data": {
      "image/png": "[encoded data removed]",
      "text/plain": [
       "<Figure size 432x288 with 2 Axes>"
      ]
     },
     "metadata": {
      "needs_background": "light"
     },
     "output_type": "display_data"
    }
   ],
   "source": [
    "from sklearn import metrics\n",
    "\n",
    "confusion_matrix = metrics.confusion_matrix(y_test_resampled, smoothing(y_pred))\n",
    "\n",
    "cm_display = metrics.ConfusionMatrixDisplay(confusion_matrix = confusion_matrix, display_labels = [False, True])\n",
    "\n",
    "cm_display.plot()"
   ]
  },
  {
   "cell_type": "code",
   "execution_count": 34,
   "id": "e0a8944f",
   "metadata": {},
   "outputs": [],
   "source": [
    "import pickle\n",
    "with open('TSC_data/models_TSC/both/CLF_TSC.pkl','wb') as f:\n",
    "    pickle.dump(clf,f)"
   ]
  },
  {
   "cell_type": "code",
   "execution_count": 61,
   "id": "752e6ba1",
   "metadata": {},
   "outputs": [
    {
     "name": "stdout",
     "output_type": "stream",
     "text": [
      "2\n"
     ]
    }
   ],
   "source": [
    "print(2)"
   ]
  },
  {
   "cell_type": "markdown",
   "id": "3c0677b4",
   "metadata": {},
   "source": [
    "## Clustering TimeSeriesKMeans"
   ]
  },
  {
   "cell_type": "code",
   "execution_count": 91,
   "id": "b7ddef20",
   "metadata": {},
   "outputs": [],
   "source": [
    "from tslearn.clustering import TimeSeriesKMeans\n",
    "km = TimeSeriesKMeans(n_clusters=2, metric=\"dtw\")\n",
    "labels = km.fit_predict(data3d_X_train)\n",
    "\n",
    "\n",
    "km_bis = TimeSeriesKMeans(n_clusters=2, metric=\"softdtw\")\n",
    "labels_bis = km_bis.fit_predict(data3d_X_train)"
   ]
  },
  {
   "cell_type": "code",
   "execution_count": 86,
   "id": "62f13151",
   "metadata": {},
   "outputs": [],
   "source": [
    "pred_df = pd.DataFrame({\"actual\":y_train_resampled, \"prediction\":labels})"
   ]
  }
 ],
 "metadata": {
  "kernelspec": {
   "display_name": "Python 3 (ipykernel)",
   "language": "python",
   "name": "python3"
  },
  "language_info": {
   "codemirror_mode": {
    "name": "ipython",
    "version": 3
   },
   "file_extension": ".py",
   "mimetype": "text/x-python",
   "name": "python",
   "nbconvert_exporter": "python",
   "pygments_lexer": "ipython3",
   "version": "3.8.8"
  }
 },
 "nbformat": 4,
 "nbformat_minor": 5
}
